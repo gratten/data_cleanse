{
 "cells": [
  {
   "cell_type": "code",
   "execution_count": 476,
   "metadata": {},
   "outputs": [],
   "source": [
    "# %load_ext autoreload\n",
    "# %reload_ext autoreload\n",
    "# %autoreload 2"
   ]
  },
  {
   "cell_type": "code",
   "execution_count": 477,
   "metadata": {},
   "outputs": [],
   "source": [
    "import os\n",
    "os.chdir('C:\\\\Users\\\\WDG1DCR\\\\Desktop\\\\my_projects\\\\data_analysis\\\\data_cleanse')\n",
    "\n",
    "import pandas as pd\n",
    "from prep import filterx\n",
    "from plot import pie"
   ]
  },
  {
   "cell_type": "code",
   "execution_count": 478,
   "metadata": {},
   "outputs": [],
   "source": [
    "fileName = 'filelist_9_02'\n",
    "df_og = pd.read_csv('datasets/' + fileName + '.csv', sep=';')"
   ]
  },
  {
   "cell_type": "code",
   "execution_count": 479,
   "metadata": {},
   "outputs": [],
   "source": [
    "def batch2(files_to_move):\n",
    "    os.chdir('H:/temp/data_cleanse_batch_files')\n",
    "    moveFileName = '9_02_files_to_remove_high_count_script.txt'\n",
    "    moveFile = open(moveFileName, 'w')\n",
    "    for i in files_to_move:\n",
    "        newLoc_path = i\n",
    "        newLoc_path = newLoc_path[7:]\n",
    "        newLoc_path = newLoc_path[:newLoc_path.rindex('\\\\')]\n",
    "        newLoc_path = newLoc_path.replace(' ', '')\n",
    "        newLoc_path = newLoc_path.replace(',', '')\n",
    "        newLoc = 'C:\\\\Users\\\\wdg1dcr\\\\Desktop\\\\dupBackup\\\\movedFiles2\\\\' + newLoc_path\n",
    "        moveFile.write(f'md {newLoc} 2> nul & move \\\"{i}\\\"*.* {newLoc}\\n')\n",
    "    moveFile.close()\n",
    "    os.chdir('C:\\\\Users\\\\WDG1DCR\\\\Desktop\\\\my_projects\\\\data_analysis\\\\data_cleanse')"
   ]
  },
  {
   "cell_type": "code",
   "execution_count": 480,
   "metadata": {},
   "outputs": [],
   "source": [
    "df = filterx.sld(df_og)"
   ]
  },
  {
   "cell_type": "code",
   "execution_count": 481,
   "metadata": {},
   "outputs": [],
   "source": [
    "dups = df[df.duplicated(['name_low'], keep=False)]\n",
    "dups = dups.sort_values(['name_low'])\n",
    "dups = dups.reset_index(drop=True)"
   ]
  },
  {
   "cell_type": "code",
   "execution_count": 482,
   "metadata": {},
   "outputs": [],
   "source": [
    "all_dups = dups['name_low'].value_counts(ascending=True).rename_axis('unique_values').reset_index(name='count')"
   ]
  },
  {
   "cell_type": "code",
   "execution_count": 483,
   "metadata": {},
   "outputs": [
    {
     "data": {
      "text/html": [
       "<div>\n",
       "<style scoped>\n",
       "    .dataframe tbody tr th:only-of-type {\n",
       "        vertical-align: middle;\n",
       "    }\n",
       "\n",
       "    .dataframe tbody tr th {\n",
       "        vertical-align: top;\n",
       "    }\n",
       "\n",
       "    .dataframe thead th {\n",
       "        text-align: right;\n",
       "    }\n",
       "</style>\n",
       "<table border=\"1\" class=\"dataframe\">\n",
       "  <thead>\n",
       "    <tr style=\"text-align: right;\">\n",
       "      <th></th>\n",
       "      <th>Name</th>\n",
       "      <th>Format</th>\n",
       "      <th>size</th>\n",
       "      <th>modified</th>\n",
       "      <th>created</th>\n",
       "      <th>path</th>\n",
       "      <th>name_low</th>\n",
       "    </tr>\n",
       "  </thead>\n",
       "  <tbody>\n",
       "    <tr>\n",
       "      <th>0</th>\n",
       "      <td>#40 PIN RIVETEDRev2.SLDPRT</td>\n",
       "      <td>SLDPRT</td>\n",
       "      <td>52,300</td>\n",
       "      <td>11/28/2014 23:15:47</td>\n",
       "      <td>02/22/2016 01:13:34</td>\n",
       "      <td>R:\\Doc\\SolidWorks\\TMII Certipak\\CP2958 Heinz</td>\n",
       "      <td>#40 pin rivetedrev2.sldprt</td>\n",
       "    </tr>\n",
       "    <tr>\n",
       "      <th>1</th>\n",
       "      <td>#40 PIN RIVETEDRev2.SLDPRT</td>\n",
       "      <td>SLDPRT</td>\n",
       "      <td>52,221</td>\n",
       "      <td>11/28/2014 23:00:17</td>\n",
       "      <td>02/22/2016 01:13:30</td>\n",
       "      <td>R:\\Doc\\SolidWorks\\TMII Certipak\\064156 Partial...</td>\n",
       "      <td>#40 pin rivetedrev2.sldprt</td>\n",
       "    </tr>\n",
       "    <tr>\n",
       "      <th>2</th>\n",
       "      <td>#40 PIN RIVETEDRev2.SLDPRT</td>\n",
       "      <td>SLDPRT</td>\n",
       "      <td>52,722</td>\n",
       "      <td>11/19/2014 22:34:28</td>\n",
       "      <td>02/21/2016 22:59:28</td>\n",
       "      <td>R:\\Doc\\SolidWorks\\HS4836-4 TWO FLAP CLOSER (ME...</td>\n",
       "      <td>#40 pin rivetedrev2.sldprt</td>\n",
       "    </tr>\n",
       "    <tr>\n",
       "      <th>3</th>\n",
       "      <td>'Destaco'Cap M6 (X1690070).sldprt</td>\n",
       "      <td>SLDPRT</td>\n",
       "      <td>71,560</td>\n",
       "      <td>11/25/2014 19:41:21</td>\n",
       "      <td>02/21/2016 23:52:53</td>\n",
       "      <td>R:\\Doc\\SolidWorks\\Luke\\HS4975</td>\n",
       "      <td>'destaco'cap m6 (x1690070).sldprt</td>\n",
       "    </tr>\n",
       "    <tr>\n",
       "      <th>4</th>\n",
       "      <td>'Destaco'Cap M6 (X1690070).SLDPRT</td>\n",
       "      <td>SLDPRT</td>\n",
       "      <td>71,469</td>\n",
       "      <td>11/18/2014 18:12:00</td>\n",
       "      <td>02/21/2016 22:48:41</td>\n",
       "      <td>R:\\Doc\\SolidWorks\\Certiwrap\\CP2956 GEN MILLS</td>\n",
       "      <td>'destaco'cap m6 (x1690070).sldprt</td>\n",
       "    </tr>\n",
       "  </tbody>\n",
       "</table>\n",
       "</div>"
      ],
      "text/plain": [
       "                                Name  Format    size             modified  \\\n",
       "0         #40 PIN RIVETEDRev2.SLDPRT  SLDPRT  52,300  11/28/2014 23:15:47   \n",
       "1         #40 PIN RIVETEDRev2.SLDPRT  SLDPRT  52,221  11/28/2014 23:00:17   \n",
       "2         #40 PIN RIVETEDRev2.SLDPRT  SLDPRT  52,722  11/19/2014 22:34:28   \n",
       "3  'Destaco'Cap M6 (X1690070).sldprt  SLDPRT  71,560  11/25/2014 19:41:21   \n",
       "4  'Destaco'Cap M6 (X1690070).SLDPRT  SLDPRT  71,469  11/18/2014 18:12:00   \n",
       "\n",
       "               created                                               path  \\\n",
       "0  02/22/2016 01:13:34       R:\\Doc\\SolidWorks\\TMII Certipak\\CP2958 Heinz   \n",
       "1  02/22/2016 01:13:30  R:\\Doc\\SolidWorks\\TMII Certipak\\064156 Partial...   \n",
       "2  02/21/2016 22:59:28  R:\\Doc\\SolidWorks\\HS4836-4 TWO FLAP CLOSER (ME...   \n",
       "3  02/21/2016 23:52:53                      R:\\Doc\\SolidWorks\\Luke\\HS4975   \n",
       "4  02/21/2016 22:48:41       R:\\Doc\\SolidWorks\\Certiwrap\\CP2956 GEN MILLS   \n",
       "\n",
       "                            name_low  \n",
       "0         #40 pin rivetedrev2.sldprt  \n",
       "1         #40 pin rivetedrev2.sldprt  \n",
       "2         #40 pin rivetedrev2.sldprt  \n",
       "3  'destaco'cap m6 (x1690070).sldprt  \n",
       "4  'destaco'cap m6 (x1690070).sldprt  "
      ]
     },
     "execution_count": 483,
     "metadata": {},
     "output_type": "execute_result"
    }
   ],
   "source": [
    "dups.head()"
   ]
  },
  {
   "cell_type": "code",
   "execution_count": 484,
   "metadata": {},
   "outputs": [
    {
     "data": {
      "text/plain": [
       "805"
      ]
     },
     "execution_count": 484,
     "metadata": {},
     "output_type": "execute_result"
    }
   ],
   "source": [
    "len(all_dups)"
   ]
  },
  {
   "cell_type": "code",
   "execution_count": 485,
   "metadata": {},
   "outputs": [],
   "source": [
    "# all_dups.head(50)"
   ]
  },
  {
   "cell_type": "code",
   "execution_count": 486,
   "metadata": {},
   "outputs": [],
   "source": [
    "all_dups = all_dups.iloc[::-1]"
   ]
  },
  {
   "cell_type": "code",
   "execution_count": 487,
   "metadata": {},
   "outputs": [],
   "source": [
    "all_dups = all_dups.reset_index(drop=True)"
   ]
  },
  {
   "cell_type": "code",
   "execution_count": 501,
   "metadata": {},
   "outputs": [
    {
     "data": {
      "text/html": [
       "<div>\n",
       "<style scoped>\n",
       "    .dataframe tbody tr th:only-of-type {\n",
       "        vertical-align: middle;\n",
       "    }\n",
       "\n",
       "    .dataframe tbody tr th {\n",
       "        vertical-align: top;\n",
       "    }\n",
       "\n",
       "    .dataframe thead th {\n",
       "        text-align: right;\n",
       "    }\n",
       "</style>\n",
       "<table border=\"1\" class=\"dataframe\">\n",
       "  <thead>\n",
       "    <tr style=\"text-align: right;\">\n",
       "      <th></th>\n",
       "      <th>unique_values</th>\n",
       "      <th>count</th>\n",
       "    </tr>\n",
       "  </thead>\n",
       "  <tbody>\n",
       "  </tbody>\n",
       "</table>\n",
       "</div>"
      ],
      "text/plain": [
       "Empty DataFrame\n",
       "Columns: [unique_values, count]\n",
       "Index: []"
      ]
     },
     "execution_count": 501,
     "metadata": {},
     "output_type": "execute_result"
    }
   ],
   "source": [
    "all_dups.head(0)"
   ]
  },
  {
   "cell_type": "code",
   "execution_count": 489,
   "metadata": {},
   "outputs": [],
   "source": [
    "# high_count_fnames = all_dups['unique_values']"
   ]
  },
  {
   "cell_type": "code",
   "execution_count": 490,
   "metadata": {},
   "outputs": [],
   "source": [
    "# high_count_fnames.head()"
   ]
  },
  {
   "cell_type": "code",
   "execution_count": 491,
   "metadata": {},
   "outputs": [],
   "source": [
    "num = 5\n",
    "\n",
    "high_count_fnames = []\n",
    "for i in range(len(all_dups['unique_values'])):\n",
    "    if all_dups['count'].iloc[i] >= num:\n",
    "        high_count_fnames.append(all_dups['unique_values'].iloc[i])"
   ]
  },
  {
   "cell_type": "code",
   "execution_count": 492,
   "metadata": {},
   "outputs": [
    {
     "data": {
      "text/plain": [
       "71"
      ]
     },
     "execution_count": 492,
     "metadata": {},
     "output_type": "execute_result"
    }
   ],
   "source": [
    "len(high_count_fnames)"
   ]
  },
  {
   "cell_type": "code",
   "execution_count": 493,
   "metadata": {},
   "outputs": [],
   "source": [
    "from collections import defaultdict\n",
    "\n",
    "path_dict = {}\n",
    "for i in high_count_fnames:\n",
    "    dups_trimmed = dups[dups['name_low'] == i]\n",
    "    path_dict[i] = dups_trimmed['path'].to_list()"
   ]
  },
  {
   "cell_type": "code",
   "execution_count": 494,
   "metadata": {},
   "outputs": [],
   "source": [
    "for k, v in path_dict.items():\n",
    "    if k == 'mst 327.sldprt':\n",
    "        print(k)\n",
    "        count += len(v) - 1\n",
    "        for i in v:\n",
    "            i = i.replace('\\\\\\dcrsolidworks.patec.group\\\\Engineer1_E', 'R:')\n",
    "            print(i)\n",
    "        print()\n"
   ]
  },
  {
   "cell_type": "code",
   "execution_count": 496,
   "metadata": {},
   "outputs": [],
   "source": [
    "# create file_list to be removed, maintain shortest directory and remove others\n",
    "\n",
    "file_list = []\n",
    "\n",
    "for k, v in path_dict.items():\n",
    "    shortest_path = v[0]\n",
    "    for i in v:\n",
    "        if i < shortest_path:\n",
    "            shortest_path = i\n",
    "    for i in v:\n",
    "        if i != shortest_path:\n",
    "            path_and_file = i + '\\\\' + k\n",
    "            file_list.append(path_and_file)"
   ]
  },
  {
   "cell_type": "code",
   "execution_count": 497,
   "metadata": {},
   "outputs": [
    {
     "data": {
      "text/plain": [
       "330"
      ]
     },
     "execution_count": 497,
     "metadata": {},
     "output_type": "execute_result"
    }
   ],
   "source": [
    "len(file_list)"
   ]
  },
  {
   "cell_type": "code",
   "execution_count": 498,
   "metadata": {},
   "outputs": [],
   "source": [
    "# for i in file_list:\n",
    "#     print(i)"
   ]
  },
  {
   "cell_type": "code",
   "execution_count": 499,
   "metadata": {},
   "outputs": [],
   "source": [
    "batch2(file_list)"
   ]
  },
  {
   "cell_type": "code",
   "execution_count": null,
   "metadata": {},
   "outputs": [],
   "source": []
  }
 ],
 "metadata": {
  "kernelspec": {
   "display_name": "Python 3",
   "language": "python",
   "name": "python3"
  },
  "language_info": {
   "codemirror_mode": {
    "name": "ipython",
    "version": 3
   },
   "file_extension": ".py",
   "mimetype": "text/x-python",
   "name": "python",
   "nbconvert_exporter": "python",
   "pygments_lexer": "ipython3",
   "version": "3.7.6"
  }
 },
 "nbformat": 4,
 "nbformat_minor": 4
}

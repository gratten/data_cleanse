{
 "cells": [
  {
   "cell_type": "code",
   "execution_count": 301,
   "metadata": {},
   "outputs": [],
   "source": [
    "# %load_ext autoreload\n",
    "# %reload_ext autoreload\n",
    "# %autoreload 2"
   ]
  },
  {
   "cell_type": "code",
   "execution_count": 302,
   "metadata": {},
   "outputs": [],
   "source": [
    "import os\n",
    "os.chdir('C:\\\\Users\\\\WDG1DCR\\\\Desktop\\\\my_projects\\\\data_analysis\\\\data_cleanse')\n",
    "\n",
    "import pandas as pd\n",
    "import re\n",
    "from utility import generate\n",
    "from prep import filterx"
   ]
  },
  {
   "cell_type": "code",
   "execution_count": 303,
   "metadata": {},
   "outputs": [],
   "source": [
    "fileName = 'filelist_9_03'\n",
    "df_og = pd.read_csv('datasets/' + fileName + '.csv', sep=';')"
   ]
  },
  {
   "cell_type": "code",
   "execution_count": 304,
   "metadata": {},
   "outputs": [],
   "source": [
    "df = filterx.sld(df_og)"
   ]
  },
  {
   "cell_type": "code",
   "execution_count": 305,
   "metadata": {},
   "outputs": [
    {
     "data": {
      "text/html": [
       "<div>\n",
       "<style scoped>\n",
       "    .dataframe tbody tr th:only-of-type {\n",
       "        vertical-align: middle;\n",
       "    }\n",
       "\n",
       "    .dataframe tbody tr th {\n",
       "        vertical-align: top;\n",
       "    }\n",
       "\n",
       "    .dataframe thead th {\n",
       "        text-align: right;\n",
       "    }\n",
       "</style>\n",
       "<table border=\"1\" class=\"dataframe\">\n",
       "  <thead>\n",
       "    <tr style=\"text-align: right;\">\n",
       "      <th></th>\n",
       "      <th>Name</th>\n",
       "      <th>Format</th>\n",
       "      <th>size</th>\n",
       "      <th>modified</th>\n",
       "      <th>created</th>\n",
       "      <th>path</th>\n",
       "      <th>name_low</th>\n",
       "    </tr>\n",
       "  </thead>\n",
       "  <tbody>\n",
       "    <tr>\n",
       "      <th>2</th>\n",
       "      <td>146181.SLDPRT</td>\n",
       "      <td>SLDPRT</td>\n",
       "      <td>84,460</td>\n",
       "      <td>11/17/2014 11:47:20</td>\n",
       "      <td>02/21/2016 22:27:25</td>\n",
       "      <td>R:\\Doc\\SolidWorks</td>\n",
       "      <td>146181.sldprt</td>\n",
       "    </tr>\n",
       "    <tr>\n",
       "      <th>6</th>\n",
       "      <td>150767.SLDPRT</td>\n",
       "      <td>SLDPRT</td>\n",
       "      <td>65,592</td>\n",
       "      <td>11/17/2014 11:47:32</td>\n",
       "      <td>02/21/2016 22:27:25</td>\n",
       "      <td>R:\\Doc\\SolidWorks</td>\n",
       "      <td>150767.sldprt</td>\n",
       "    </tr>\n",
       "    <tr>\n",
       "      <th>7</th>\n",
       "      <td>151436.SLDPRT</td>\n",
       "      <td>SLDPRT</td>\n",
       "      <td>106,654</td>\n",
       "      <td>11/17/2014 11:47:38</td>\n",
       "      <td>02/21/2016 22:27:26</td>\n",
       "      <td>R:\\Doc\\SolidWorks</td>\n",
       "      <td>151436.sldprt</td>\n",
       "    </tr>\n",
       "    <tr>\n",
       "      <th>9</th>\n",
       "      <td>15221-23.SLDPRT</td>\n",
       "      <td>SLDPRT</td>\n",
       "      <td>85,963</td>\n",
       "      <td>04/16/2020 11:39:24</td>\n",
       "      <td>04/15/2020 14:31:55</td>\n",
       "      <td>R:\\Doc\\SolidWorks</td>\n",
       "      <td>15221-23.sldprt</td>\n",
       "    </tr>\n",
       "    <tr>\n",
       "      <th>13</th>\n",
       "      <td>161359.SLDPRT</td>\n",
       "      <td>SLDPRT</td>\n",
       "      <td>228,115</td>\n",
       "      <td>01/12/2015 13:31:15</td>\n",
       "      <td>02/21/2016 22:27:26</td>\n",
       "      <td>R:\\Doc\\SolidWorks</td>\n",
       "      <td>161359.sldprt</td>\n",
       "    </tr>\n",
       "  </tbody>\n",
       "</table>\n",
       "</div>"
      ],
      "text/plain": [
       "               Name  Format     size             modified  \\\n",
       "2     146181.SLDPRT  SLDPRT   84,460  11/17/2014 11:47:20   \n",
       "6     150767.SLDPRT  SLDPRT   65,592  11/17/2014 11:47:32   \n",
       "7     151436.SLDPRT  SLDPRT  106,654  11/17/2014 11:47:38   \n",
       "9   15221-23.SLDPRT  SLDPRT   85,963  04/16/2020 11:39:24   \n",
       "13    161359.SLDPRT  SLDPRT  228,115  01/12/2015 13:31:15   \n",
       "\n",
       "                created               path         name_low  \n",
       "2   02/21/2016 22:27:25  R:\\Doc\\SolidWorks    146181.sldprt  \n",
       "6   02/21/2016 22:27:25  R:\\Doc\\SolidWorks    150767.sldprt  \n",
       "7   02/21/2016 22:27:26  R:\\Doc\\SolidWorks    151436.sldprt  \n",
       "9   04/15/2020 14:31:55  R:\\Doc\\SolidWorks  15221-23.sldprt  \n",
       "13  02/21/2016 22:27:26  R:\\Doc\\SolidWorks    161359.sldprt  "
      ]
     },
     "execution_count": 305,
     "metadata": {},
     "output_type": "execute_result"
    }
   ],
   "source": [
    "df.head()"
   ]
  },
  {
   "cell_type": "code",
   "execution_count": 306,
   "metadata": {},
   "outputs": [],
   "source": [
    "all_names = df['name_low'].value_counts().index"
   ]
  },
  {
   "cell_type": "code",
   "execution_count": 307,
   "metadata": {},
   "outputs": [
    {
     "data": {
      "text/plain": [
       "124522"
      ]
     },
     "execution_count": 307,
     "metadata": {},
     "output_type": "execute_result"
    }
   ],
   "source": [
    "len(all_names)"
   ]
  },
  {
   "cell_type": "code",
   "execution_count": 308,
   "metadata": {},
   "outputs": [],
   "source": [
    "number_fnames = []\n",
    "generic_fnames = []\n",
    "\n",
    "for i in all_names:\n",
    "    if re.search(r'\\d', i):\n",
    "        number_fnames.append(i)\n",
    "    else:\n",
    "        generic_fnames.append(i)"
   ]
  },
  {
   "cell_type": "code",
   "execution_count": 309,
   "metadata": {},
   "outputs": [
    {
     "data": {
      "text/plain": [
       "5890"
      ]
     },
     "execution_count": 309,
     "metadata": {},
     "output_type": "execute_result"
    }
   ],
   "source": [
    "len(generic_fnames)"
   ]
  },
  {
   "cell_type": "code",
   "execution_count": 310,
   "metadata": {},
   "outputs": [
    {
     "data": {
      "text/plain": [
       "118632"
      ]
     },
     "execution_count": 310,
     "metadata": {},
     "output_type": "execute_result"
    }
   ],
   "source": [
    "len(number_fnames)"
   ]
  },
  {
   "cell_type": "code",
   "execution_count": 311,
   "metadata": {},
   "outputs": [],
   "source": [
    "# clip = pd.read_clipboard()"
   ]
  },
  {
   "cell_type": "code",
   "execution_count": 312,
   "metadata": {},
   "outputs": [],
   "source": [
    "# a few generic file names that I didn't want to re-reference\n",
    "# source was clipboard, copied from REF REPAIR TOOL\n",
    "generic_fnames = clip['generic'].str.lower().value_counts().index"
   ]
  },
  {
   "cell_type": "code",
   "execution_count": 320,
   "metadata": {},
   "outputs": [
    {
     "data": {
      "text/plain": [
       "Index(['carton.sldprt', 'part1.sldprt', '6.sldprt', '7.sldprt', 'tray.sldprt',\n",
       "       'imported.sldprt', 'imported1.sldprt', 'guard.sldprt', 'part3.sldprt',\n",
       "       'assem2.sldasm', 'clevis.sldprt', 'assem1.sldasm', 'conduit.sldprt'],\n",
       "      dtype='object')"
      ]
     },
     "execution_count": 320,
     "metadata": {},
     "output_type": "execute_result"
    }
   ],
   "source": [
    "generic_fnames"
   ]
  },
  {
   "cell_type": "code",
   "execution_count": 313,
   "metadata": {},
   "outputs": [],
   "source": [
    "# all file names that are single or double digits\n",
    "generic_fnames_2 = []\n",
    "\n",
    "for i in df['name_low'].to_list():\n",
    "    target = i.split('.')\n",
    "    if len(target) == 2:\n",
    "        if re.search(r'^\\d{2}$', target[0]):\n",
    "            generic_fnames_2.append(i)\n",
    "            \n",
    "for i in df['name_low'].to_list():\n",
    "    target = i.split('.')\n",
    "    if len(target) == 2:\n",
    "        if re.search(r'^\\d$', target[0]):\n",
    "            generic_fnames_2.append(i)"
   ]
  },
  {
   "cell_type": "code",
   "execution_count": 314,
   "metadata": {},
   "outputs": [],
   "source": [
    "from collections import defaultdict\n",
    "\n",
    "path_dict = {}\n",
    "for i in generic_fnames_2:\n",
    "    df_trimmed = df[df['name_low'] == i]\n",
    "    path_dict[i] = df_trimmed['path'].to_list()"
   ]
  },
  {
   "cell_type": "code",
   "execution_count": 319,
   "metadata": {},
   "outputs": [],
   "source": [
    "# file_list = []\n",
    "\n",
    "# for k, v in path_dict.items():\n",
    "#     print(k)\n",
    "#     for i in v:\n",
    "#         path_and_file = i + '\\\\' + k\n",
    "#         file_list.append(path_and_file)\n",
    "#         print(i)\n",
    "#     print()"
   ]
  },
  {
   "cell_type": "code",
   "execution_count": 318,
   "metadata": {},
   "outputs": [],
   "source": [
    "###GENERATE BATCH FILE###\n",
    "file_name = '9_04_files_to_remove_generic_names_single_script'\n",
    "# generate.batch2(file_name, file_list)"
   ]
  },
  {
   "cell_type": "code",
   "execution_count": null,
   "metadata": {},
   "outputs": [],
   "source": []
  }
 ],
 "metadata": {
  "kernelspec": {
   "display_name": "Python 3",
   "language": "python",
   "name": "python3"
  },
  "language_info": {
   "codemirror_mode": {
    "name": "ipython",
    "version": 3
   },
   "file_extension": ".py",
   "mimetype": "text/x-python",
   "name": "python",
   "nbconvert_exporter": "python",
   "pygments_lexer": "ipython3",
   "version": "3.7.6"
  }
 },
 "nbformat": 4,
 "nbformat_minor": 4
}

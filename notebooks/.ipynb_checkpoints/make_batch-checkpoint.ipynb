{
 "cells": [
  {
   "cell_type": "code",
   "execution_count": 39,
   "metadata": {},
   "outputs": [],
   "source": [
    "import os\n",
    "import pandas as pd"
   ]
  },
  {
   "cell_type": "code",
   "execution_count": 40,
   "metadata": {},
   "outputs": [],
   "source": [
    "def batch2(files_to_move):\n",
    "    os.chdir('H:/temp/data_cleanse_batch_files')\n",
    "    moveFileName = '9_1_files_to_remove.txt'\n",
    "    moveFile = open(moveFileName, 'w')\n",
    "    for i in files_to_move:\n",
    "        newLoc_path = i\n",
    "        newLoc_path = newLoc_path[7:]\n",
    "        newLoc_path = newLoc_path[:newLoc_path.rindex('\\\\')]\n",
    "        newLoc_path = newLoc_path.replace(' ', '')\n",
    "        newLoc = 'C:\\\\Users\\\\wdg1dcr\\\\Desktop\\\\dupBackup\\\\movedFiles2\\\\' + newLoc_path\n",
    "        moveFile.write(f'md {newLoc} 2> nul & move \\\"{i}\\\"*.* {newLoc}\\n')\n",
    "    moveFile.close()\n",
    "    os.chdir('C:\\\\Users\\\\WDG1DCR\\\\Desktop\\\\my_projects\\\\data_analysis\\\\data_cleanse')"
   ]
  },
  {
   "cell_type": "code",
   "execution_count": 41,
   "metadata": {},
   "outputs": [],
   "source": [
    "os.chdir('M:/erich/SWXDuplicateChecker/gratten')\n",
    "\n",
    "df = pd.read_excel('SLD_9_1_result.xlsx', index_col=0)"
   ]
  },
  {
   "cell_type": "code",
   "execution_count": 43,
   "metadata": {},
   "outputs": [],
   "source": [
    "series = df['PATH TO DELETE']\n",
    "\n",
    "series.dropna(inplace=True)\n",
    "\n",
    "file_list = series.to_list()"
   ]
  },
  {
   "cell_type": "code",
   "execution_count": 44,
   "metadata": {},
   "outputs": [],
   "source": [
    "batch2(file_list)"
   ]
  },
  {
   "cell_type": "code",
   "execution_count": null,
   "metadata": {},
   "outputs": [],
   "source": []
  }
 ],
 "metadata": {
  "kernelspec": {
   "display_name": "Python 3",
   "language": "python",
   "name": "python3"
  },
  "language_info": {
   "codemirror_mode": {
    "name": "ipython",
    "version": 3
   },
   "file_extension": ".py",
   "mimetype": "text/x-python",
   "name": "python",
   "nbconvert_exporter": "python",
   "pygments_lexer": "ipython3",
   "version": "3.7.6"
  }
 },
 "nbformat": 4,
 "nbformat_minor": 4
}

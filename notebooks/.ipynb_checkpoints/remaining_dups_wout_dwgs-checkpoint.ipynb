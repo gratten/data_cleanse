{
 "cells": [
  {
   "cell_type": "code",
   "execution_count": 265,
   "metadata": {},
   "outputs": [],
   "source": [
    "# %load_ext autoreload\n",
    "# %reload_ext autoreload\n",
    "# %autoreload 2"
   ]
  },
  {
   "cell_type": "code",
   "execution_count": 266,
   "metadata": {},
   "outputs": [],
   "source": [
    "import os\n",
    "os.chdir('C:\\\\Users\\\\WDG1DCR\\\\Desktop\\\\my_projects\\\\data_analysis\\\\data_cleanse')\n",
    "\n",
    "import pandas as pd\n",
    "from utility import generate\n",
    "from prep import filterx"
   ]
  },
  {
   "cell_type": "code",
   "execution_count": 267,
   "metadata": {},
   "outputs": [],
   "source": [
    "fileName = 'filelist_9_04_b'\n",
    "df_og = pd.read_csv('datasets/' + fileName + '.csv', sep=';')"
   ]
  },
  {
   "cell_type": "code",
   "execution_count": 268,
   "metadata": {},
   "outputs": [],
   "source": [
    "df = filterx.sld(df_og)"
   ]
  },
  {
   "cell_type": "code",
   "execution_count": 269,
   "metadata": {},
   "outputs": [
    {
     "name": "stderr",
     "output_type": "stream",
     "text": [
      "C:\\Users\\WDG1DCR\\Desktop\\my_projects\\data_analysis\\data_cleanse\\prep\\filterx.py:29: SettingWithCopyWarning: \n",
      "A value is trying to be set on a copy of a slice from a DataFrame.\n",
      "Try using .loc[row_indexer,col_indexer] = value instead\n",
      "\n",
      "See the caveats in the documentation: https://pandas.pydata.org/pandas-docs/stable/user_guide/indexing.html#returning-a-view-versus-a-copy\n",
      "  df3['Name'] = df3['Name'].str.lower()\n"
     ]
    }
   ],
   "source": [
    "df_drw = filterx.drw(df_og)"
   ]
  },
  {
   "cell_type": "code",
   "execution_count": 270,
   "metadata": {},
   "outputs": [],
   "source": [
    "dups = df[df.duplicated(['name_low'], keep=False)]\n",
    "dups = dups.sort_values(['name_low'])\n",
    "dups = dups.reset_index(drop=True)"
   ]
  },
  {
   "cell_type": "code",
   "execution_count": 271,
   "metadata": {
    "scrolled": true
   },
   "outputs": [
    {
     "name": "stdout",
     "output_type": "stream",
     "text": [
      "(99, 7)\n"
     ]
    },
    {
     "data": {
      "text/html": [
       "<div>\n",
       "<style scoped>\n",
       "    .dataframe tbody tr th:only-of-type {\n",
       "        vertical-align: middle;\n",
       "    }\n",
       "\n",
       "    .dataframe tbody tr th {\n",
       "        vertical-align: top;\n",
       "    }\n",
       "\n",
       "    .dataframe thead th {\n",
       "        text-align: right;\n",
       "    }\n",
       "</style>\n",
       "<table border=\"1\" class=\"dataframe\">\n",
       "  <thead>\n",
       "    <tr style=\"text-align: right;\">\n",
       "      <th></th>\n",
       "      <th>Name</th>\n",
       "      <th>Format</th>\n",
       "      <th>size</th>\n",
       "      <th>modified</th>\n",
       "      <th>created</th>\n",
       "      <th>path</th>\n",
       "      <th>name_low</th>\n",
       "    </tr>\n",
       "  </thead>\n",
       "  <tbody>\n",
       "    <tr>\n",
       "      <th>0</th>\n",
       "      <td>0000F1012000.SLDPRT</td>\n",
       "      <td>SLDPRT</td>\n",
       "      <td>50,623</td>\n",
       "      <td>08/06/2019 09:21:20</td>\n",
       "      <td>06/28/2019 15:09:03</td>\n",
       "      <td>R:\\Doc\\SolidWorks\\SR TOOLING</td>\n",
       "      <td>0000f1012000.sldprt</td>\n",
       "    </tr>\n",
       "    <tr>\n",
       "      <th>1</th>\n",
       "      <td>0000F1012000.SLDPRT</td>\n",
       "      <td>SLDPRT</td>\n",
       "      <td>148,480</td>\n",
       "      <td>08/03/2015 08:19:36</td>\n",
       "      <td>02/21/2016 23:49:10</td>\n",
       "      <td>R:\\Doc\\SolidWorks\\K23130 SEE'S CANDIES_KFWD SI...</td>\n",
       "      <td>0000f1012000.sldprt</td>\n",
       "    </tr>\n",
       "    <tr>\n",
       "      <th>2</th>\n",
       "      <td>0000F1012000.SLDPRT</td>\n",
       "      <td>SLDPRT</td>\n",
       "      <td>48,525</td>\n",
       "      <td>11/29/2016 14:54:18</td>\n",
       "      <td>02/21/2016 22:58:32</td>\n",
       "      <td>R:\\Doc\\SolidWorks\\HEAD STD PARTS</td>\n",
       "      <td>0000f1012000.sldprt</td>\n",
       "    </tr>\n",
       "    <tr>\n",
       "      <th>3</th>\n",
       "      <td>073935.SLDPRT</td>\n",
       "      <td>SLDPRT</td>\n",
       "      <td>79,034</td>\n",
       "      <td>06/03/2020 11:36:03</td>\n",
       "      <td>06/03/2020 11:31:54</td>\n",
       "      <td>R:\\Doc\\SolidWorks\\K23693 - Bimbo FHA SR4WD\\UPD...</td>\n",
       "      <td>073935.sldprt</td>\n",
       "    </tr>\n",
       "    <tr>\n",
       "      <th>4</th>\n",
       "      <td>073935.SLDPRT</td>\n",
       "      <td>SLDPRT</td>\n",
       "      <td>67,937</td>\n",
       "      <td>11/28/2014 21:39:08</td>\n",
       "      <td>02/22/2016 01:11:34</td>\n",
       "      <td>R:\\Doc\\SolidWorks\\SR TOOLING</td>\n",
       "      <td>073935.sldprt</td>\n",
       "    </tr>\n",
       "  </tbody>\n",
       "</table>\n",
       "</div>"
      ],
      "text/plain": [
       "                  Name  Format     size             modified  \\\n",
       "0  0000F1012000.SLDPRT  SLDPRT   50,623  08/06/2019 09:21:20   \n",
       "1  0000F1012000.SLDPRT  SLDPRT  148,480  08/03/2015 08:19:36   \n",
       "2  0000F1012000.SLDPRT  SLDPRT   48,525  11/29/2016 14:54:18   \n",
       "3        073935.SLDPRT  SLDPRT   79,034  06/03/2020 11:36:03   \n",
       "4        073935.SLDPRT  SLDPRT   67,937  11/28/2014 21:39:08   \n",
       "\n",
       "               created                                               path  \\\n",
       "0  06/28/2019 15:09:03                       R:\\Doc\\SolidWorks\\SR TOOLING   \n",
       "1  02/21/2016 23:49:10  R:\\Doc\\SolidWorks\\K23130 SEE'S CANDIES_KFWD SI...   \n",
       "2  02/21/2016 22:58:32                   R:\\Doc\\SolidWorks\\HEAD STD PARTS   \n",
       "3  06/03/2020 11:31:54  R:\\Doc\\SolidWorks\\K23693 - Bimbo FHA SR4WD\\UPD...   \n",
       "4  02/22/2016 01:11:34                       R:\\Doc\\SolidWorks\\SR TOOLING   \n",
       "\n",
       "              name_low  \n",
       "0  0000f1012000.sldprt  \n",
       "1  0000f1012000.sldprt  \n",
       "2  0000f1012000.sldprt  \n",
       "3        073935.sldprt  \n",
       "4        073935.sldprt  "
      ]
     },
     "execution_count": 271,
     "metadata": {},
     "output_type": "execute_result"
    }
   ],
   "source": [
    "print(dups.shape)\n",
    "dups.head()"
   ]
  },
  {
   "cell_type": "code",
   "execution_count": 272,
   "metadata": {
    "scrolled": true
   },
   "outputs": [
    {
     "name": "stdout",
     "output_type": "stream",
     "text": [
      "(57601, 6)\n"
     ]
    },
    {
     "data": {
      "text/html": [
       "<div>\n",
       "<style scoped>\n",
       "    .dataframe tbody tr th:only-of-type {\n",
       "        vertical-align: middle;\n",
       "    }\n",
       "\n",
       "    .dataframe tbody tr th {\n",
       "        vertical-align: top;\n",
       "    }\n",
       "\n",
       "    .dataframe thead th {\n",
       "        text-align: right;\n",
       "    }\n",
       "</style>\n",
       "<table border=\"1\" class=\"dataframe\">\n",
       "  <thead>\n",
       "    <tr style=\"text-align: right;\">\n",
       "      <th></th>\n",
       "      <th>Name</th>\n",
       "      <th>Format</th>\n",
       "      <th>size</th>\n",
       "      <th>modified</th>\n",
       "      <th>created</th>\n",
       "      <th>path</th>\n",
       "    </tr>\n",
       "  </thead>\n",
       "  <tbody>\n",
       "    <tr>\n",
       "      <th>3</th>\n",
       "      <td>146370.slddrw</td>\n",
       "      <td>SLDDRW</td>\n",
       "      <td>456,192</td>\n",
       "      <td>06/13/2012 08:06:33</td>\n",
       "      <td>02/21/2016 22:27:25</td>\n",
       "      <td>R:\\Doc\\SolidWorks</td>\n",
       "    </tr>\n",
       "    <tr>\n",
       "      <th>5</th>\n",
       "      <td>150767.slddrw</td>\n",
       "      <td>SLDDRW</td>\n",
       "      <td>486,912</td>\n",
       "      <td>11/29/2014 04:32:07</td>\n",
       "      <td>02/21/2016 22:27:25</td>\n",
       "      <td>R:\\Doc\\SolidWorks</td>\n",
       "    </tr>\n",
       "    <tr>\n",
       "      <th>8</th>\n",
       "      <td>15221-23.slddrw</td>\n",
       "      <td>SLDDRW</td>\n",
       "      <td>156,913</td>\n",
       "      <td>04/16/2020 11:39:28</td>\n",
       "      <td>04/15/2020 14:47:42</td>\n",
       "      <td>R:\\Doc\\SolidWorks</td>\n",
       "    </tr>\n",
       "    <tr>\n",
       "      <th>12</th>\n",
       "      <td>161024.slddrw</td>\n",
       "      <td>SLDDRW</td>\n",
       "      <td>10,613,760</td>\n",
       "      <td>11/13/2014 15:31:28</td>\n",
       "      <td>02/21/2016 22:27:26</td>\n",
       "      <td>R:\\Doc\\SolidWorks</td>\n",
       "    </tr>\n",
       "    <tr>\n",
       "      <th>14</th>\n",
       "      <td>162216_sr4w hopper assy.slddrw</td>\n",
       "      <td>SLDDRW</td>\n",
       "      <td>493,568</td>\n",
       "      <td>09/25/2015 16:44:45</td>\n",
       "      <td>02/21/2016 22:27:26</td>\n",
       "      <td>R:\\Doc\\SolidWorks</td>\n",
       "    </tr>\n",
       "  </tbody>\n",
       "</table>\n",
       "</div>"
      ],
      "text/plain": [
       "                              Name  Format        size             modified  \\\n",
       "3                    146370.slddrw  SLDDRW     456,192  06/13/2012 08:06:33   \n",
       "5                    150767.slddrw  SLDDRW     486,912  11/29/2014 04:32:07   \n",
       "8                  15221-23.slddrw  SLDDRW     156,913  04/16/2020 11:39:28   \n",
       "12                   161024.slddrw  SLDDRW  10,613,760  11/13/2014 15:31:28   \n",
       "14  162216_sr4w hopper assy.slddrw  SLDDRW     493,568  09/25/2015 16:44:45   \n",
       "\n",
       "                created               path  \n",
       "3   02/21/2016 22:27:25  R:\\Doc\\SolidWorks  \n",
       "5   02/21/2016 22:27:25  R:\\Doc\\SolidWorks  \n",
       "8   04/15/2020 14:47:42  R:\\Doc\\SolidWorks  \n",
       "12  02/21/2016 22:27:26  R:\\Doc\\SolidWorks  \n",
       "14  02/21/2016 22:27:26  R:\\Doc\\SolidWorks  "
      ]
     },
     "execution_count": 272,
     "metadata": {},
     "output_type": "execute_result"
    }
   ],
   "source": [
    "print(df_drw.shape)\n",
    "df_drw.head()"
   ]
  },
  {
   "cell_type": "code",
   "execution_count": 273,
   "metadata": {},
   "outputs": [],
   "source": [
    "dup_fnames = dups['name_low'].value_counts().index.to_list()"
   ]
  },
  {
   "cell_type": "code",
   "execution_count": 274,
   "metadata": {},
   "outputs": [],
   "source": [
    "from collections import defaultdict\n",
    "\n",
    "path_dict = {}\n",
    "for i in dup_fnames:\n",
    "    dups_trimmed = dups[dups['name_low'] == i]\n",
    "    path_dict[i] = dups_trimmed['path'].to_list()"
   ]
  },
  {
   "cell_type": "code",
   "execution_count": 275,
   "metadata": {},
   "outputs": [
    {
     "data": {
      "text/plain": [
       "47"
      ]
     },
     "execution_count": 275,
     "metadata": {},
     "output_type": "execute_result"
    }
   ],
   "source": [
    "len(path_dict)"
   ]
  },
  {
   "cell_type": "code",
   "execution_count": 276,
   "metadata": {},
   "outputs": [],
   "source": [
    "# for k, v in path_dict.items():\n",
    "#     print(k)\n",
    "#     for i in v:\n",
    "#         i = i.replace('\\\\\\dcrsolidworks.patec.group\\\\Engineer1_E', 'R:')\n",
    "#         print(i)\n",
    "#     print()"
   ]
  },
  {
   "cell_type": "code",
   "execution_count": 277,
   "metadata": {},
   "outputs": [],
   "source": [
    "# new path_dict that holds all dups w/ no more than x1 drawing\n",
    "count = 0\n",
    "\n",
    "path_dict_0dwg = {}\n",
    "path_dict_1dwg = {}\n",
    "path_dict_mult_dwg = {}\n",
    "\n",
    "for k, v in path_dict.items():\n",
    "    fname_stripped = k.split('.')[:-1]\n",
    "    fname_stripped = ''.join(fname_stripped)\n",
    "    df_drw_trimmed = df_drw[df_drw['Name'] == str(fname_stripped) + '.slddrw']\n",
    "    if len(df_drw_trimmed) == 0:\n",
    "        path_dict_0dwg[k] = v\n",
    "    elif len(df_drw_trimmed) == 1:\n",
    "        v.append(df_drw_trimmed['path'].iloc[0])\n",
    "        path_dict_1dwg[k] = v\n",
    "    else:\n",
    "        path_dict_mult_dwg[k] = v"
   ]
  },
  {
   "cell_type": "code",
   "execution_count": 278,
   "metadata": {},
   "outputs": [
    {
     "data": {
      "text/plain": [
       "9"
      ]
     },
     "execution_count": 278,
     "metadata": {},
     "output_type": "execute_result"
    }
   ],
   "source": [
    "len(path_dict_0dwg)"
   ]
  },
  {
   "cell_type": "code",
   "execution_count": 279,
   "metadata": {},
   "outputs": [
    {
     "data": {
      "text/plain": [
       "0"
      ]
     },
     "execution_count": 279,
     "metadata": {},
     "output_type": "execute_result"
    }
   ],
   "source": [
    "len(path_dict_1dwg)"
   ]
  },
  {
   "cell_type": "code",
   "execution_count": 280,
   "metadata": {},
   "outputs": [
    {
     "data": {
      "text/plain": [
       "38"
      ]
     },
     "execution_count": 280,
     "metadata": {},
     "output_type": "execute_result"
    }
   ],
   "source": [
    "len(path_dict_mult_dwg)"
   ]
  },
  {
   "cell_type": "code",
   "execution_count": 281,
   "metadata": {},
   "outputs": [
    {
     "name": "stdout",
     "output_type": "stream",
     "text": [
      "118972 val smc as1201f-m5-06.sldprt\n",
      "R:\\Doc\\SolidWorks\\SolidWorks Palette\\Palette Parts\\Fittings\n",
      "R:\\Doc\\SolidWorks\\SolidWorks Palette\\Palette Parts\\Valves\n",
      "\n",
      "fhrge-führungswagen kwve30esv1 b0016.823.sldprt\n",
      "R:\\Doc\\SolidWorks\\P6190 Project Venus\\Data Exchange\\Ultrasonic\n",
      "R:\\Doc\\SolidWorks\\P6190 Project Venus\\Data Exchange\\Standard Linear Axis\\Linerar-Axis-CAD\n",
      "\n",
      "131060885020.sldprt\n",
      "R:\\Doc\\SolidWorks\\SR4W FORMER\n",
      "R:\\Doc\\SolidWorks\\SR FORMER\n",
      "\n",
      "m6 soc set scr.sldprt\n",
      "R:\\Doc\\SolidWorks\\SolidWorks Palette\\Palette Parts\\Hardware\\Metric\n",
      "R:\\Doc\\SolidWorks\\SolidWorks Palette\\Palette Parts\\Fasteners\n",
      "\n",
      "p0038244 brg faf kp12a.sldprt\n",
      "R:\\Doc\\SolidWorks\\SolidWorks Palette\\Palette Parts\\Bearings & Bushings\n",
      "R:\\Doc\\SolidWorks\\Cyclone Bagmaker P6062\n",
      "\n",
      "nut.sldprt\n",
      "R:\\Doc\\SolidWorks\\SolidWorks Palette\\Palette Parts\\Hardware\\Inch\\metric\n",
      "R:\\Doc\\SolidWorks\\SolidWorks Palette\\Palette Parts\\Hardware\\Metric\n",
      "\n",
      "verschlußkappe ka15tn-03006 b0020.450.sldprt\n",
      "R:\\Doc\\SolidWorks\\P6190 Project Venus\\Data Exchange\\Ultrasonic\n",
      "R:\\Doc\\SolidWorks\\P6190 Project Venus\\Data Exchange\\Standard Linear Axis\\Linerar-Axis-CAD\n",
      "\n",
      "bolt hex.sldprt\n",
      "R:\\Doc\\SolidWorks\\SolidWorks Palette\\Palette Parts\\Hardware\\Metric\n",
      "R:\\Doc\\SolidWorks\\K23536 Kimberly-Clark TF BL-ST\n",
      "\n",
      "131060887030.sldprt\n",
      "R:\\Doc\\SolidWorks\\SR FORMER\n",
      "R:\\Doc\\SolidWorks\\SR4W FORMER\n",
      "\n"
     ]
    }
   ],
   "source": [
    "for k, v in path_dict_0dwg.items():\n",
    "    print(k)\n",
    "    for i in v:\n",
    "        print(i)\n",
    "    print()"
   ]
  },
  {
   "cell_type": "code",
   "execution_count": 282,
   "metadata": {},
   "outputs": [],
   "source": [
    "# handling path_dict_0dwg\n",
    "\n",
    "file_list = []\n",
    "\n",
    "for k, v in path_dict_0dwg.items():\n",
    "    shortest = v[0]\n",
    "    for i in v:\n",
    "        if len(i) < len(shortest):\n",
    "            shortest = i\n",
    "    for i in v:\n",
    "        if i != shortest:\n",
    "            path_and_file = i + '\\\\' + k\n",
    "            file_list.append(path_and_file)"
   ]
  },
  {
   "cell_type": "code",
   "execution_count": 283,
   "metadata": {},
   "outputs": [
    {
     "name": "stdout",
     "output_type": "stream",
     "text": [
      "R:\\Doc\\SolidWorks\\SolidWorks Palette\\Palette Parts\\Fittings\\118972 val smc as1201f-m5-06.sldprt\n",
      "R:\\Doc\\SolidWorks\\P6190 Project Venus\\Data Exchange\\Standard Linear Axis\\Linerar-Axis-CAD\\fhrge-führungswagen kwve30esv1 b0016.823.sldprt\n",
      "R:\\Doc\\SolidWorks\\SR4W FORMER\\131060885020.sldprt\n",
      "R:\\Doc\\SolidWorks\\SolidWorks Palette\\Palette Parts\\Hardware\\Metric\\m6 soc set scr.sldprt\n",
      "R:\\Doc\\SolidWorks\\SolidWorks Palette\\Palette Parts\\Bearings & Bushings\\p0038244 brg faf kp12a.sldprt\n",
      "R:\\Doc\\SolidWorks\\SolidWorks Palette\\Palette Parts\\Hardware\\Inch\\metric\\nut.sldprt\n",
      "R:\\Doc\\SolidWorks\\P6190 Project Venus\\Data Exchange\\Standard Linear Axis\\Linerar-Axis-CAD\\verschlußkappe ka15tn-03006 b0020.450.sldprt\n",
      "R:\\Doc\\SolidWorks\\SolidWorks Palette\\Palette Parts\\Hardware\\Metric\\bolt hex.sldprt\n",
      "R:\\Doc\\SolidWorks\\SR4W FORMER\\131060887030.sldprt\n"
     ]
    }
   ],
   "source": [
    "for i in file_list[:10]:\n",
    "    print(i)"
   ]
  },
  {
   "cell_type": "code",
   "execution_count": 284,
   "metadata": {},
   "outputs": [],
   "source": [
    "# # handling path_dict_1dwg\n",
    "# from collections import Counter\n",
    "\n",
    "# file_list = []\n",
    "\n",
    "# for k, v in path_dict_1dwg.items():\n",
    "#     print(k)\n",
    "#     for k2, v2 in Counter(v).items():\n",
    "#         print(k2, v2)\n",
    "#         if v2 == 1:\n",
    "#             path_and_file = k2 + '\\\\' + k\n",
    "#             file_list.append(path_and_file)\n",
    "#     print()"
   ]
  },
  {
   "cell_type": "code",
   "execution_count": 285,
   "metadata": {},
   "outputs": [],
   "source": [
    "# for i in file_list:\n",
    "#     print(i)"
   ]
  },
  {
   "cell_type": "code",
   "execution_count": 286,
   "metadata": {},
   "outputs": [
    {
     "name": "stdout",
     "output_type": "stream",
     "text": [
      "R:\\Doc\\SolidWorks\\SolidWorks Palette\\Palette Parts\\Fittings\\118972 val smc as1201f-m5-06.sldprt\n",
      "R:\\Doc\\SolidWorks\\P6190 Project Venus\\Data Exchange\\Standard Linear Axis\\Linerar-Axis-CAD\\fhrge-führungswagen kwve30esv1 b0016.823.sldprt\n",
      "R:\\Doc\\SolidWorks\\SR4W FORMER\\131060885020.sldprt\n",
      "R:\\Doc\\SolidWorks\\SolidWorks Palette\\Palette Parts\\Hardware\\Metric\\m6 soc set scr.sldprt\n",
      "R:\\Doc\\SolidWorks\\SolidWorks Palette\\Palette Parts\\Bearings & Bushings\\p0038244 brg faf kp12a.sldprt\n",
      "R:\\Doc\\SolidWorks\\SolidWorks Palette\\Palette Parts\\Hardware\\Inch\\metric\\nut.sldprt\n",
      "R:\\Doc\\SolidWorks\\P6190 Project Venus\\Data Exchange\\Standard Linear Axis\\Linerar-Axis-CAD\\verschlußkappe ka15tn-03006 b0020.450.sldprt\n",
      "R:\\Doc\\SolidWorks\\SolidWorks Palette\\Palette Parts\\Hardware\\Metric\\bolt hex.sldprt\n",
      "R:\\Doc\\SolidWorks\\SR4W FORMER\\131060887030.sldprt\n"
     ]
    }
   ],
   "source": [
    "###GENERATE BATCH FILE###\n",
    "output_fname = '9_04_files_to_remove_1dwg_script'\n",
    "# generate.batch2(output_fname, file_list)"
   ]
  }
 ],
 "metadata": {
  "kernelspec": {
   "display_name": "Python 3",
   "language": "python",
   "name": "python3"
  },
  "language_info": {
   "codemirror_mode": {
    "name": "ipython",
    "version": 3
   },
   "file_extension": ".py",
   "mimetype": "text/x-python",
   "name": "python",
   "nbconvert_exporter": "python",
   "pygments_lexer": "ipython3",
   "version": "3.7.6"
  }
 },
 "nbformat": 4,
 "nbformat_minor": 4
}

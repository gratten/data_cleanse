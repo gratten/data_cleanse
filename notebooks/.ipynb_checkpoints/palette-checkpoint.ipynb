{
 "cells": [
  {
   "cell_type": "markdown",
   "metadata": {},
   "source": [
    "Most up to date top_offender approach, level 1"
   ]
  },
  {
   "cell_type": "code",
   "execution_count": 60,
   "metadata": {},
   "outputs": [
    {
     "name": "stdout",
     "output_type": "stream",
     "text": [
      "The autoreload extension is already loaded. To reload it, use:\n",
      "  %reload_ext autoreload\n"
     ]
    }
   ],
   "source": [
    "# %load_ext autoreload\n",
    "# %reload_ext autoreload\n",
    "# %autoreload 2"
   ]
  },
  {
   "cell_type": "code",
   "execution_count": 61,
   "metadata": {},
   "outputs": [],
   "source": [
    "import os\n",
    "os.chdir('C:\\\\Users\\\\WDG1DCR\\\\Desktop\\\\my_projects\\\\data_analysis\\\\data_cleanse')\n",
    "# os.chdir('C:\\\\Users\\\\gratten\\\\Documents\\\\python\\\\projects\\\\data_cleanse')\n",
    "\n",
    "import pandas as pd\n",
    "from prep import filterx\n",
    "from prep import sort\n",
    "# from prep import build\n",
    "from plot import bar\n",
    "from utility import generate"
   ]
  },
  {
   "cell_type": "code",
   "execution_count": 62,
   "metadata": {},
   "outputs": [],
   "source": [
    "fileName = 'filelist_9_02_c'\n",
    "df_og = pd.read_csv('datasets/' + fileName + '.csv', sep=';')"
   ]
  },
  {
   "cell_type": "code",
   "execution_count": 63,
   "metadata": {},
   "outputs": [],
   "source": [
    "df = filterx.sld(df_og)"
   ]
  },
  {
   "cell_type": "code",
   "execution_count": 64,
   "metadata": {},
   "outputs": [],
   "source": [
    "dups = df[df.duplicated(['name_low'], keep=False)]\n",
    "dups = dups.sort_values(['name_low'])"
   ]
  },
  {
   "cell_type": "code",
   "execution_count": 65,
   "metadata": {},
   "outputs": [],
   "source": [
    "dups = dups.reset_index()"
   ]
  },
  {
   "cell_type": "code",
   "execution_count": 66,
   "metadata": {},
   "outputs": [],
   "source": [
    "top_offenders = dups['path'].value_counts().index.to_list()"
   ]
  },
  {
   "cell_type": "code",
   "execution_count": 67,
   "metadata": {},
   "outputs": [],
   "source": [
    "def build_data(dups, num):\n",
    "    directory = top_offenders[num]\n",
    "    \n",
    "    file_list = []\n",
    "    for i in range(len(dups['path'])):\n",
    "        if dups['path'][i] == top_offenders[num]:\n",
    "            file_list.append(dups['name_low'].iloc[i])\n",
    "            \n",
    "    file_paths = {}\n",
    "    for file in file_list:\n",
    "        dups_trimmed = dups[(dups['name_low'] == file)]\n",
    "        path_list = []\n",
    "        for path in dups_trimmed['path']:\n",
    "            path_list.append(path)\n",
    "        file_paths[file] = path_list\n",
    "        \n",
    "    totalFiles = 0\n",
    "    for k, v in file_paths.items():\n",
    "        totalFiles += len(v)\n",
    "    \n",
    "    occur_list = []\n",
    "    for k, v in file_paths.items():\n",
    "        if len(v) not in occur_list:\n",
    "            occur_list.append(len(v))\n",
    "    \n",
    "    occur_dict = {}\n",
    "    for i in occur_list:\n",
    "        occur_dict[i] = 0\n",
    "        for v in file_paths.values():\n",
    "            if i == len(v):\n",
    "                occur_dict[i] += 1\n",
    "                \n",
    "    num_list = []\n",
    "    occur_list = []\n",
    "    for i in range(len(occur_dict)):\n",
    "        key = min(occur_dict.keys())\n",
    "        num_list.append(key)\n",
    "        value = occur_dict.pop(key)\n",
    "        occur_list.append(value)    \n",
    "        \n",
    "#     print(totalFiles)\n",
    "        \n",
    "    return num_list, occur_list, totalFiles, file_paths"
   ]
  },
  {
   "cell_type": "code",
   "execution_count": 68,
   "metadata": {},
   "outputs": [],
   "source": [
    "# def batch2(files_to_move):\n",
    "#     os.chdir('H:/temp/data_cleanse_batch_files')\n",
    "#     moveFileName = '9_02_files_to_remove_palette_script.txt'\n",
    "#     moveFile = open(moveFileName, 'w')\n",
    "#     for i in files_to_move:\n",
    "#         newLoc_path = i\n",
    "#         newLoc_path = newLoc_path[7:]\n",
    "#         print(newLoc_path)\n",
    "#         newLoc_path = newLoc_path[:newLoc_path.rindex('\\\\')]\n",
    "#         newLoc_path = newLoc_path.replace(' ', '')\n",
    "#         newLoc_path = newLoc_path.replace(',', '')\n",
    "#         newLoc = 'C:\\\\Users\\\\wdg1dcr\\\\Desktop\\\\dupBackup\\\\movedFiles2\\\\' + newLoc_path\n",
    "#         moveFile.write(f'md {newLoc} 2> nul & move \\\"{i}\\\"*.* {newLoc}\\n')\n",
    "#     moveFile.close()\n",
    "#     os.chdir('C:\\\\Users\\\\WDG1DCR\\\\Desktop\\\\my_projects\\\\data_analysis\\\\data_cleanse')"
   ]
  },
  {
   "cell_type": "code",
   "execution_count": 69,
   "metadata": {},
   "outputs": [],
   "source": [
    "################################################\n",
    "# choose how many top offenders will be analyzed\n",
    "################################################\n",
    "count = 500\n",
    "\n",
    "# num_list, occur_list, totalFiles, file_paths = build_data(dups, num)"
   ]
  },
  {
   "cell_type": "code",
   "execution_count": 70,
   "metadata": {},
   "outputs": [
    {
     "data": {
      "text/plain": [
       "557"
      ]
     },
     "execution_count": 70,
     "metadata": {},
     "output_type": "execute_result"
    }
   ],
   "source": [
    "len(top_offenders)"
   ]
  },
  {
   "cell_type": "code",
   "execution_count": 71,
   "metadata": {},
   "outputs": [],
   "source": [
    "offender_list = top_offenders#[:count]\n",
    "# offender_list = top_offenders"
   ]
  },
  {
   "cell_type": "code",
   "execution_count": 72,
   "metadata": {},
   "outputs": [],
   "source": [
    "# for i in offender_list:\n",
    "#     print(i)"
   ]
  },
  {
   "cell_type": "code",
   "execution_count": 73,
   "metadata": {},
   "outputs": [
    {
     "ename": "TypeError",
     "evalue": "data1() missing 1 required positional argument: 'num'",
     "output_type": "error",
     "traceback": [
      "\u001b[1;31m---------------------------------------------------------------------------\u001b[0m",
      "\u001b[1;31mTypeError\u001b[0m                                 Traceback (most recent call last)",
      "\u001b[1;32m<ipython-input-73-a66001f9ae9c>\u001b[0m in \u001b[0;36m<module>\u001b[1;34m\u001b[0m\n\u001b[0;32m      9\u001b[0m \u001b[1;32mfor\u001b[0m \u001b[0mx\u001b[0m \u001b[1;32min\u001b[0m \u001b[0mrange\u001b[0m\u001b[1;33m(\u001b[0m\u001b[0mlen\u001b[0m\u001b[1;33m(\u001b[0m\u001b[0moffender_list\u001b[0m\u001b[1;33m)\u001b[0m\u001b[1;33m)\u001b[0m\u001b[1;33m:\u001b[0m\u001b[1;33m\u001b[0m\u001b[1;33m\u001b[0m\u001b[0m\n\u001b[0;32m     10\u001b[0m \u001b[1;31m#     num_list, occur_list, totalFiles, file_paths = build_data(dups, x)\u001b[0m\u001b[1;33m\u001b[0m\u001b[1;33m\u001b[0m\u001b[1;33m\u001b[0m\u001b[0m\n\u001b[1;32m---> 11\u001b[1;33m     \u001b[0mnum_list\u001b[0m\u001b[1;33m,\u001b[0m \u001b[0moccur_list\u001b[0m\u001b[1;33m,\u001b[0m \u001b[0mtotalFiles\u001b[0m\u001b[1;33m,\u001b[0m \u001b[0mfile_paths\u001b[0m \u001b[1;33m=\u001b[0m \u001b[0mbuild\u001b[0m\u001b[1;33m.\u001b[0m\u001b[0mdata1\u001b[0m\u001b[1;33m(\u001b[0m\u001b[0mdups\u001b[0m\u001b[1;33m,\u001b[0m \u001b[0mx\u001b[0m\u001b[1;33m)\u001b[0m\u001b[1;33m\u001b[0m\u001b[1;33m\u001b[0m\u001b[0m\n\u001b[0m\u001b[0;32m     12\u001b[0m     \u001b[1;32mfor\u001b[0m \u001b[0mk\u001b[0m\u001b[1;33m,\u001b[0m \u001b[0mv\u001b[0m \u001b[1;32min\u001b[0m \u001b[0mfile_paths\u001b[0m\u001b[1;33m.\u001b[0m\u001b[0mitems\u001b[0m\u001b[1;33m(\u001b[0m\u001b[1;33m)\u001b[0m\u001b[1;33m:\u001b[0m\u001b[1;33m\u001b[0m\u001b[1;33m\u001b[0m\u001b[0m\n\u001b[0;32m     13\u001b[0m         \u001b[1;32mfor\u001b[0m \u001b[0mi\u001b[0m \u001b[1;32min\u001b[0m \u001b[0mv\u001b[0m\u001b[1;33m:\u001b[0m\u001b[1;33m\u001b[0m\u001b[1;33m\u001b[0m\u001b[0m\n",
      "\u001b[1;31mTypeError\u001b[0m: data1() missing 1 required positional argument: 'num'"
     ]
    }
   ],
   "source": [
    "from collections import defaultdict\n",
    "\n",
    "# {file1:[<path1 with 'palette'>, <path2 with 'palette'>, etc]}\n",
    "palette_keep_dict = defaultdict(list)\n",
    "\n",
    "# {file1:[<path1 without 'palette'>, <path2 without 'palette'>, etc]}\n",
    "palette_del_dict = defaultdict(list)\n",
    "\n",
    "for x in range(len(offender_list)):\n",
    "    num_list, occur_list, totalFiles, file_paths = build_data(dups, x)\n",
    "#     num_list, occur_list, totalFiles, file_paths = build.data1(dups, x)\n",
    "    for k, v in file_paths.items():\n",
    "        for i in v:\n",
    "            if 'palette' in i.lower():\n",
    "                palette_keep_dict[k].append(i)\n",
    "            else:\n",
    "                palette_del_dict[k].append(i)             "
   ]
  },
  {
   "cell_type": "code",
   "execution_count": null,
   "metadata": {},
   "outputs": [],
   "source": [
    "for k, v in palette_keep_dict.items():\n",
    "    palette_keep_dict[k] = list(set(v))"
   ]
  },
  {
   "cell_type": "code",
   "execution_count": null,
   "metadata": {},
   "outputs": [],
   "source": [
    "# for k, v in palette_keep_dict.items():\n",
    "#     print(k)\n",
    "#     for i in v:\n",
    "#         print(i)\n",
    "#     print()"
   ]
  },
  {
   "cell_type": "code",
   "execution_count": null,
   "metadata": {},
   "outputs": [],
   "source": [
    "# FILENAMES THAT OCCUR IN MULTIPLE 'PALETTE' LOCATIONS\n",
    "count = 0\n",
    "for k, v in palette_keep_dict.items():\n",
    "    if len(v) > 1:\n",
    "        count += len(v)\n",
    "        print(k)\n",
    "        for i in v:\n",
    "            i = i.replace('\\\\\\dcrsolidworks.patec.group\\\\Engineer1_E', 'R:')\n",
    "            print(i)\n",
    "        print()"
   ]
  },
  {
   "cell_type": "code",
   "execution_count": null,
   "metadata": {},
   "outputs": [],
   "source": [
    "# assesss files that occur only one time in a 'palette' directory, deletes all other directories\n",
    "files_to_move = []\n",
    "for k, v in palette_del_dict.items():\n",
    "    if len(palette_keep_dict[k]) == 1:\n",
    "        for i in v:\n",
    "            i = i.replace('\\\\\\dcrsolidworks.patec.group\\\\Engineer1_E', 'R:')\n",
    "            file_and_path = i + '\\\\' + k\n",
    "            files_to_move.append(file_and_path)"
   ]
  },
  {
   "cell_type": "code",
   "execution_count": null,
   "metadata": {},
   "outputs": [],
   "source": [
    "# # assesses files that occur in more than one 'palette' directory, removes all but the shortest directory\n",
    "# files_to_move = []\n",
    "# for k, v in palette_keep_dict.items():\n",
    "#     if len(palette_keep_dict[k]) > 1:\n",
    "#         path_to_keep = min(v, key=len)\n",
    "#         v.remove(path_to_keep)\n",
    "#         for path in v:\n",
    "#             path = path.replace('\\\\\\dcrsolidworks.patec.group\\\\Engineer1_E', 'R:')\n",
    "#             file_and_path = path + '\\\\' + k\n",
    "#             files_to_move.append(file_and_path)"
   ]
  },
  {
   "cell_type": "code",
   "execution_count": null,
   "metadata": {},
   "outputs": [],
   "source": [
    "files_to_move = list(set(files_to_move))"
   ]
  },
  {
   "cell_type": "code",
   "execution_count": 74,
   "metadata": {},
   "outputs": [
    {
     "data": {
      "text/plain": [
       "6"
      ]
     },
     "execution_count": 74,
     "metadata": {},
     "output_type": "execute_result"
    }
   ],
   "source": [
    "len(files_to_move)"
   ]
  },
  {
   "cell_type": "code",
   "execution_count": null,
   "metadata": {},
   "outputs": [],
   "source": [
    "###GENERATE BATCH FILE###\n",
    "output_fname = '9_04_files_to_remove_palette_script'\n",
    "# generate.batch2(output_fname, file_list)"
   ]
  },
  {
   "cell_type": "code",
   "execution_count": null,
   "metadata": {},
   "outputs": [],
   "source": []
  }
 ],
 "metadata": {
  "kernelspec": {
   "display_name": "Python 3",
   "language": "python",
   "name": "python3"
  },
  "language_info": {
   "codemirror_mode": {
    "name": "ipython",
    "version": 3
   },
   "file_extension": ".py",
   "mimetype": "text/x-python",
   "name": "python",
   "nbconvert_exporter": "python",
   "pygments_lexer": "ipython3",
   "version": "3.7.6"
  }
 },
 "nbformat": 4,
 "nbformat_minor": 4
}

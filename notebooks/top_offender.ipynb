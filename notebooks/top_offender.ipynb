{
 "cells": [
  {
   "cell_type": "code",
   "execution_count": 421,
   "metadata": {},
   "outputs": [],
   "source": [
    "# %load_ext autoreload\n",
    "# %reload_ext autoreload\n",
    "# %autoreload 2"
   ]
  },
  {
   "cell_type": "code",
   "execution_count": 422,
   "metadata": {},
   "outputs": [],
   "source": [
    "import os\n",
    "# os.chdir('C:\\\\Users\\\\WDG1DCR\\\\Desktop\\\\my_projects\\\\data_analysis\\\\data_cleanse')\n",
    "os.chdir('C:\\\\Users\\\\gratten\\\\Documents\\\\python\\\\projects\\\\data_cleanse')\n",
    "\n",
    "import pandas as pd\n",
    "from prep import filter\n",
    "from prep import sort\n",
    "from plot import bar\n",
    "from utility import generate"
   ]
  },
  {
   "cell_type": "code",
   "execution_count": 423,
   "metadata": {},
   "outputs": [],
   "source": [
    "fileName = 'filelist_7_15'\n",
    "df_og = pd.read_csv('datasets/' + fileName + '.csv', sep=';')"
   ]
  },
  {
   "cell_type": "code",
   "execution_count": 424,
   "metadata": {},
   "outputs": [],
   "source": [
    "df = filter.sld(df_og)"
   ]
  },
  {
   "cell_type": "code",
   "execution_count": 425,
   "metadata": {},
   "outputs": [],
   "source": [
    "dups = df[df.duplicated(['name_low'], keep=False)]\n",
    "dups = dups.sort_values(['name_low'])"
   ]
  },
  {
   "cell_type": "code",
   "execution_count": 426,
   "metadata": {},
   "outputs": [],
   "source": [
    "dups = dups.reset_index()"
   ]
  },
  {
   "cell_type": "code",
   "execution_count": 427,
   "metadata": {
    "scrolled": true
   },
   "outputs": [
    {
     "data": {
      "text/html": [
       "<div>\n",
       "<style scoped>\n",
       "    .dataframe tbody tr th:only-of-type {\n",
       "        vertical-align: middle;\n",
       "    }\n",
       "\n",
       "    .dataframe tbody tr th {\n",
       "        vertical-align: top;\n",
       "    }\n",
       "\n",
       "    .dataframe thead th {\n",
       "        text-align: right;\n",
       "    }\n",
       "</style>\n",
       "<table border=\"1\" class=\"dataframe\">\n",
       "  <thead>\n",
       "    <tr style=\"text-align: right;\">\n",
       "      <th></th>\n",
       "      <th>index</th>\n",
       "      <th>Name</th>\n",
       "      <th>Format</th>\n",
       "      <th>size</th>\n",
       "      <th>modified</th>\n",
       "      <th>created</th>\n",
       "      <th>path</th>\n",
       "      <th>name_low</th>\n",
       "    </tr>\n",
       "  </thead>\n",
       "  <tbody>\n",
       "    <tr>\n",
       "      <th>0</th>\n",
       "      <td>199469</td>\n",
       "      <td>#40 CHAIN.SLDASM</td>\n",
       "      <td>SLDASM</td>\n",
       "      <td>98,273</td>\n",
       "      <td>10/12/2018 13:43:23</td>\n",
       "      <td>02/22/2016 01:04:05</td>\n",
       "      <td>R:\\Doc\\SolidWorks\\SolidWorks Palette\\Palette P...</td>\n",
       "      <td>#40 chain.sldasm</td>\n",
       "    </tr>\n",
       "    <tr>\n",
       "      <th>1</th>\n",
       "      <td>13308</td>\n",
       "      <td>#40 Chain.SLDASM</td>\n",
       "      <td>SLDASM</td>\n",
       "      <td>92,370</td>\n",
       "      <td>06/19/2020 16:04:50</td>\n",
       "      <td>02/21/2016 22:51:10</td>\n",
       "      <td>R:\\Doc\\SolidWorks\\CONVEYOR</td>\n",
       "      <td>#40 chain.sldasm</td>\n",
       "    </tr>\n",
       "    <tr>\n",
       "      <th>2</th>\n",
       "      <td>199473</td>\n",
       "      <td>#40 PIN RIVETED.SLDPRT</td>\n",
       "      <td>SLDPRT</td>\n",
       "      <td>55,996</td>\n",
       "      <td>02/24/2017 15:31:59</td>\n",
       "      <td>02/22/2016 01:04:05</td>\n",
       "      <td>R:\\Doc\\SolidWorks\\SolidWorks Palette\\Palette P...</td>\n",
       "      <td>#40 pin riveted.sldprt</td>\n",
       "    </tr>\n",
       "    <tr>\n",
       "      <th>3</th>\n",
       "      <td>46813</td>\n",
       "      <td>#40 PIN RIVETED.SLDPRT</td>\n",
       "      <td>SLDPRT</td>\n",
       "      <td>52,842</td>\n",
       "      <td>11/20/2014 10:11:00</td>\n",
       "      <td>02/21/2016 23:05:11</td>\n",
       "      <td>R:\\Doc\\SolidWorks\\HS4989 - QUAKER MAID MEATS</td>\n",
       "      <td>#40 pin riveted.sldprt</td>\n",
       "    </tr>\n",
       "    <tr>\n",
       "      <th>4</th>\n",
       "      <td>33754</td>\n",
       "      <td>#40 PIN RIVETEDRev2.SLDPRT</td>\n",
       "      <td>SLDPRT</td>\n",
       "      <td>52,722</td>\n",
       "      <td>11/19/2014 22:34:28</td>\n",
       "      <td>02/21/2016 22:59:28</td>\n",
       "      <td>R:\\Doc\\SolidWorks\\HS4836-4 TWO FLAP CLOSER (ME...</td>\n",
       "      <td>#40 pin rivetedrev2.sldprt</td>\n",
       "    </tr>\n",
       "  </tbody>\n",
       "</table>\n",
       "</div>"
      ],
      "text/plain": [
       "    index                        Name  Format    size             modified  \\\n",
       "0  199469            #40 CHAIN.SLDASM  SLDASM  98,273  10/12/2018 13:43:23   \n",
       "1   13308            #40 Chain.SLDASM  SLDASM  92,370  06/19/2020 16:04:50   \n",
       "2  199473      #40 PIN RIVETED.SLDPRT  SLDPRT  55,996  02/24/2017 15:31:59   \n",
       "3   46813      #40 PIN RIVETED.SLDPRT  SLDPRT  52,842  11/20/2014 10:11:00   \n",
       "4   33754  #40 PIN RIVETEDRev2.SLDPRT  SLDPRT  52,722  11/19/2014 22:34:28   \n",
       "\n",
       "               created                                               path  \\\n",
       "0  02/22/2016 01:04:05  R:\\Doc\\SolidWorks\\SolidWorks Palette\\Palette P...   \n",
       "1  02/21/2016 22:51:10                         R:\\Doc\\SolidWorks\\CONVEYOR   \n",
       "2  02/22/2016 01:04:05  R:\\Doc\\SolidWorks\\SolidWorks Palette\\Palette P...   \n",
       "3  02/21/2016 23:05:11       R:\\Doc\\SolidWorks\\HS4989 - QUAKER MAID MEATS   \n",
       "4  02/21/2016 22:59:28  R:\\Doc\\SolidWorks\\HS4836-4 TWO FLAP CLOSER (ME...   \n",
       "\n",
       "                     name_low  \n",
       "0            #40 chain.sldasm  \n",
       "1            #40 chain.sldasm  \n",
       "2      #40 pin riveted.sldprt  \n",
       "3      #40 pin riveted.sldprt  \n",
       "4  #40 pin rivetedrev2.sldprt  "
      ]
     },
     "execution_count": 427,
     "metadata": {},
     "output_type": "execute_result"
    }
   ],
   "source": [
    "dups.head()"
   ]
  },
  {
   "cell_type": "code",
   "execution_count": 428,
   "metadata": {},
   "outputs": [],
   "source": [
    "# dups['path'].value_counts()"
   ]
  },
  {
   "cell_type": "code",
   "execution_count": 429,
   "metadata": {},
   "outputs": [],
   "source": [
    "top_offenders = dups['path'].value_counts().index.to_list()"
   ]
  },
  {
   "cell_type": "code",
   "execution_count": 430,
   "metadata": {},
   "outputs": [
    {
     "data": {
      "text/plain": [
       "'R:\\\\Doc\\\\SolidWorks\\\\HS4937, CELOX'"
      ]
     },
     "execution_count": 430,
     "metadata": {},
     "output_type": "execute_result"
    }
   ],
   "source": [
    "top_offenders[0]"
   ]
  },
  {
   "cell_type": "code",
   "execution_count": 431,
   "metadata": {},
   "outputs": [],
   "source": [
    "# choose offender, 0 is top\n",
    "num = 3\n",
    "\n",
    "directory = top_offenders[num]\n",
    "\n",
    "file_list = []\n",
    "for i in range(len(dups['path'])):\n",
    "    if dups['path'][i] == top_offenders[num]:\n",
    "        file_list.append(dups['name_low'].iloc[i])"
   ]
  },
  {
   "cell_type": "code",
   "execution_count": null,
   "metadata": {},
   "outputs": [],
   "source": []
  },
  {
   "cell_type": "code",
   "execution_count": 432,
   "metadata": {},
   "outputs": [
    {
     "data": {
      "text/plain": [
       "204"
      ]
     },
     "execution_count": 432,
     "metadata": {},
     "output_type": "execute_result"
    }
   ],
   "source": [
    "len(file_list)"
   ]
  },
  {
   "cell_type": "code",
   "execution_count": 433,
   "metadata": {},
   "outputs": [
    {
     "data": {
      "text/plain": [
       "'056822a pin support actuator.sldprt'"
      ]
     },
     "execution_count": 433,
     "metadata": {},
     "output_type": "execute_result"
    }
   ],
   "source": [
    "file_list[0]"
   ]
  },
  {
   "cell_type": "code",
   "execution_count": 434,
   "metadata": {},
   "outputs": [],
   "source": [
    "dups_trimmed = dups[(dups['Name'] == '159665.SLDPRT')]"
   ]
  },
  {
   "cell_type": "code",
   "execution_count": 435,
   "metadata": {},
   "outputs": [
    {
     "data": {
      "text/html": [
       "<div>\n",
       "<style scoped>\n",
       "    .dataframe tbody tr th:only-of-type {\n",
       "        vertical-align: middle;\n",
       "    }\n",
       "\n",
       "    .dataframe tbody tr th {\n",
       "        vertical-align: top;\n",
       "    }\n",
       "\n",
       "    .dataframe thead th {\n",
       "        text-align: right;\n",
       "    }\n",
       "</style>\n",
       "<table border=\"1\" class=\"dataframe\">\n",
       "  <thead>\n",
       "    <tr style=\"text-align: right;\">\n",
       "      <th></th>\n",
       "      <th>index</th>\n",
       "      <th>Name</th>\n",
       "      <th>Format</th>\n",
       "      <th>size</th>\n",
       "      <th>modified</th>\n",
       "      <th>created</th>\n",
       "      <th>path</th>\n",
       "      <th>name_low</th>\n",
       "    </tr>\n",
       "  </thead>\n",
       "  <tbody>\n",
       "    <tr>\n",
       "      <th>2345</th>\n",
       "      <td>36851</td>\n",
       "      <td>159665.SLDPRT</td>\n",
       "      <td>SLDPRT</td>\n",
       "      <td>53,882</td>\n",
       "      <td>06/24/2019 10:45:22</td>\n",
       "      <td>02/21/2016 23:00:07</td>\n",
       "      <td>R:\\Doc\\SolidWorks\\HS4937, CELOX</td>\n",
       "      <td>159665.sldprt</td>\n",
       "    </tr>\n",
       "  </tbody>\n",
       "</table>\n",
       "</div>"
      ],
      "text/plain": [
       "      index           Name  Format    size             modified  \\\n",
       "2345  36851  159665.SLDPRT  SLDPRT  53,882  06/24/2019 10:45:22   \n",
       "\n",
       "                  created                             path       name_low  \n",
       "2345  02/21/2016 23:00:07  R:\\Doc\\SolidWorks\\HS4937, CELOX  159665.sldprt  "
      ]
     },
     "execution_count": 435,
     "metadata": {},
     "output_type": "execute_result"
    }
   ],
   "source": [
    "dups_trimmed"
   ]
  },
  {
   "cell_type": "code",
   "execution_count": 436,
   "metadata": {},
   "outputs": [],
   "source": [
    "file_paths = {}\n",
    "for file in file_list:\n",
    "    dups_trimmed = dups[(dups['name_low'] == file)]\n",
    "    path_list = []\n",
    "    for path in dups_trimmed['path']:\n",
    "        path_list.append(path)\n",
    "    file_paths[file] = path_list"
   ]
  },
  {
   "cell_type": "code",
   "execution_count": 437,
   "metadata": {},
   "outputs": [],
   "source": [
    "# for k, v in file_paths.items():\n",
    "#     print(k, len(v))"
   ]
  },
  {
   "cell_type": "code",
   "execution_count": 438,
   "metadata": {
    "scrolled": true
   },
   "outputs": [],
   "source": [
    "totalFiles = 0\n",
    "for k, v in file_paths.items():\n",
    "    totalFiles += len(v)"
   ]
  },
  {
   "cell_type": "code",
   "execution_count": 439,
   "metadata": {},
   "outputs": [],
   "source": [
    "occur_list = []\n",
    "for k, v in file_paths.items():\n",
    "    if len(v) not in occur_list:\n",
    "        occur_list.append(len(v))"
   ]
  },
  {
   "cell_type": "code",
   "execution_count": 440,
   "metadata": {},
   "outputs": [
    {
     "data": {
      "text/plain": [
       "[3, 4, 26, 2, 32, 21, 17, 14, 13, 47, 15, 8, 5, 18, 12, 9, 10, 7, 6, 57, 27]"
      ]
     },
     "execution_count": 440,
     "metadata": {},
     "output_type": "execute_result"
    }
   ],
   "source": [
    "occur_list"
   ]
  },
  {
   "cell_type": "code",
   "execution_count": 441,
   "metadata": {},
   "outputs": [],
   "source": [
    "occur_dict = {}\n",
    "for i in occur_list:\n",
    "    occur_dict[i] = 0\n",
    "    for v in file_paths.values():\n",
    "        if i == len(v):\n",
    "            occur_dict[i] += 1"
   ]
  },
  {
   "cell_type": "code",
   "execution_count": 442,
   "metadata": {},
   "outputs": [
    {
     "data": {
      "text/plain": [
       "2"
      ]
     },
     "execution_count": 442,
     "metadata": {},
     "output_type": "execute_result"
    }
   ],
   "source": [
    "min(occur_dict.keys())"
   ]
  },
  {
   "cell_type": "code",
   "execution_count": 443,
   "metadata": {},
   "outputs": [],
   "source": [
    "num_list = []\n",
    "occur_list = []\n",
    "for i in range(len(occur_dict)):\n",
    "    key = min(occur_dict.keys())\n",
    "    num_list.append(key)\n",
    "    value = occur_dict.pop(key)\n",
    "    occur_list.append(value)    "
   ]
  },
  {
   "cell_type": "code",
   "execution_count": 444,
   "metadata": {},
   "outputs": [
    {
     "data": {
      "text/plain": [
       "21"
      ]
     },
     "execution_count": 444,
     "metadata": {},
     "output_type": "execute_result"
    }
   ],
   "source": [
    "len(num_list)"
   ]
  },
  {
   "cell_type": "code",
   "execution_count": 445,
   "metadata": {},
   "outputs": [
    {
     "data": {
      "text/plain": [
       "21"
      ]
     },
     "execution_count": 445,
     "metadata": {},
     "output_type": "execute_result"
    }
   ],
   "source": [
    "len(occur_list)"
   ]
  },
  {
   "cell_type": "code",
   "execution_count": 446,
   "metadata": {},
   "outputs": [
    {
     "data": {
      "image/png": "[encoded data removed]",
      "text/plain": [
       "<Figure size 720x360 with 1 Axes>"
      ]
     },
     "metadata": {
      "needs_background": "light"
     },
     "output_type": "display_data"
    }
   ],
   "source": [
    "df = pd.DataFrame({'other paths':num_list, 'occurences':occur_list})\n",
    "title = f'{directory}\\nTotal files: {totalFiles}'\n",
    "ax = df.plot.bar(x='other paths', y='occurences', rot=0, figsize=(10, 5), title = title)"
   ]
  },
  {
   "cell_type": "code",
   "execution_count": null,
   "metadata": {},
   "outputs": [],
   "source": []
  }
 ],
 "metadata": {
  "kernelspec": {
   "display_name": "Python 3",
   "language": "python",
   "name": "python3"
  },
  "language_info": {
   "codemirror_mode": {
    "name": "ipython",
    "version": 3
   },
   "file_extension": ".py",
   "mimetype": "text/x-python",
   "name": "python",
   "nbconvert_exporter": "python",
   "pygments_lexer": "ipython3",
   "version": "3.7.7"
  }
 },
 "nbformat": 4,
 "nbformat_minor": 4
}

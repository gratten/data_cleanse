{
 "cells": [
  {
   "cell_type": "code",
   "execution_count": 1150,
   "metadata": {},
   "outputs": [],
   "source": [
    "# %load_ext autoreload\n",
    "# %reload_ext autoreload\n",
    "# %autoreload 2"
   ]
  },
  {
   "cell_type": "code",
   "execution_count": 1151,
   "metadata": {},
   "outputs": [],
   "source": [
    "import os\n",
    "os.chdir('C:\\\\Users\\\\WDG1DCR\\\\Desktop\\\\my_projects\\\\data_analysis\\\\data_cleanse')\n",
    "# os.chdir('C:\\\\Users\\\\gratten\\\\Documents\\\\python\\\\projects\\\\data_cleanse')\n",
    "\n",
    "import pandas as pd\n",
    "from prep import filter\n",
    "from prep import sort\n",
    "from plot import bar\n",
    "from utility import generate"
   ]
  },
  {
   "cell_type": "code",
   "execution_count": 1152,
   "metadata": {},
   "outputs": [],
   "source": [
    "fileName = 'filelist_8_12c'\n",
    "df_og = pd.read_csv('datasets/' + fileName + '.csv', sep=';')"
   ]
  },
  {
   "cell_type": "code",
   "execution_count": 1153,
   "metadata": {},
   "outputs": [],
   "source": [
    "df = filter.sld(df_og)"
   ]
  },
  {
   "cell_type": "code",
   "execution_count": 1154,
   "metadata": {},
   "outputs": [],
   "source": [
    "dups = df[df.duplicated(['name_low'], keep=False)]\n",
    "dups = dups.sort_values(['name_low'])"
   ]
  },
  {
   "cell_type": "code",
   "execution_count": 1155,
   "metadata": {},
   "outputs": [],
   "source": [
    "# dups = dups.reset_index()\n",
    "dups.reset_index(inplace=True, drop=True)"
   ]
  },
  {
   "cell_type": "code",
   "execution_count": 1156,
   "metadata": {},
   "outputs": [
    {
     "data": {
      "text/html": [
       "<div>\n",
       "<style scoped>\n",
       "    .dataframe tbody tr th:only-of-type {\n",
       "        vertical-align: middle;\n",
       "    }\n",
       "\n",
       "    .dataframe tbody tr th {\n",
       "        vertical-align: top;\n",
       "    }\n",
       "\n",
       "    .dataframe thead th {\n",
       "        text-align: right;\n",
       "    }\n",
       "</style>\n",
       "<table border=\"1\" class=\"dataframe\">\n",
       "  <thead>\n",
       "    <tr style=\"text-align: right;\">\n",
       "      <th></th>\n",
       "      <th>Name</th>\n",
       "      <th>Format</th>\n",
       "      <th>size</th>\n",
       "      <th>modified</th>\n",
       "      <th>created</th>\n",
       "      <th>path</th>\n",
       "      <th>name_low</th>\n",
       "    </tr>\n",
       "  </thead>\n",
       "  <tbody>\n",
       "    <tr>\n",
       "      <th>0</th>\n",
       "      <td>#40 Chain.SLDASM</td>\n",
       "      <td>SLDASM</td>\n",
       "      <td>92,370</td>\n",
       "      <td>06/19/2020 16:04:50</td>\n",
       "      <td>02/21/2016 22:51:10</td>\n",
       "      <td>R:\\Doc\\SolidWorks\\CONVEYOR</td>\n",
       "      <td>#40 chain.sldasm</td>\n",
       "    </tr>\n",
       "    <tr>\n",
       "      <th>1</th>\n",
       "      <td>#40 CHAIN.SLDASM</td>\n",
       "      <td>SLDASM</td>\n",
       "      <td>98,273</td>\n",
       "      <td>10/12/2018 13:43:23</td>\n",
       "      <td>02/22/2016 01:04:05</td>\n",
       "      <td>R:\\Doc\\SolidWorks\\SolidWorks Palette\\Palette P...</td>\n",
       "      <td>#40 chain.sldasm</td>\n",
       "    </tr>\n",
       "    <tr>\n",
       "      <th>2</th>\n",
       "      <td>#40 PIN RIVETED.SLDPRT</td>\n",
       "      <td>SLDPRT</td>\n",
       "      <td>55,996</td>\n",
       "      <td>02/24/2017 15:31:59</td>\n",
       "      <td>02/22/2016 01:04:05</td>\n",
       "      <td>R:\\Doc\\SolidWorks\\SolidWorks Palette\\Palette P...</td>\n",
       "      <td>#40 pin riveted.sldprt</td>\n",
       "    </tr>\n",
       "    <tr>\n",
       "      <th>3</th>\n",
       "      <td>#40 PIN RIVETED.SLDPRT</td>\n",
       "      <td>SLDPRT</td>\n",
       "      <td>52,842</td>\n",
       "      <td>11/20/2014 10:11:00</td>\n",
       "      <td>02/21/2016 23:05:11</td>\n",
       "      <td>R:\\Doc\\SolidWorks\\HS4989 - QUAKER MAID MEATS</td>\n",
       "      <td>#40 pin riveted.sldprt</td>\n",
       "    </tr>\n",
       "    <tr>\n",
       "      <th>4</th>\n",
       "      <td>#40 PIN RIVETEDRev2.SLDPRT</td>\n",
       "      <td>SLDPRT</td>\n",
       "      <td>52,722</td>\n",
       "      <td>11/19/2014 22:34:28</td>\n",
       "      <td>02/21/2016 22:59:28</td>\n",
       "      <td>R:\\Doc\\SolidWorks\\HS4836-4 TWO FLAP CLOSER (ME...</td>\n",
       "      <td>#40 pin rivetedrev2.sldprt</td>\n",
       "    </tr>\n",
       "  </tbody>\n",
       "</table>\n",
       "</div>"
      ],
      "text/plain": [
       "                         Name  Format    size             modified  \\\n",
       "0            #40 Chain.SLDASM  SLDASM  92,370  06/19/2020 16:04:50   \n",
       "1            #40 CHAIN.SLDASM  SLDASM  98,273  10/12/2018 13:43:23   \n",
       "2      #40 PIN RIVETED.SLDPRT  SLDPRT  55,996  02/24/2017 15:31:59   \n",
       "3      #40 PIN RIVETED.SLDPRT  SLDPRT  52,842  11/20/2014 10:11:00   \n",
       "4  #40 PIN RIVETEDRev2.SLDPRT  SLDPRT  52,722  11/19/2014 22:34:28   \n",
       "\n",
       "               created                                               path  \\\n",
       "0  02/21/2016 22:51:10                         R:\\Doc\\SolidWorks\\CONVEYOR   \n",
       "1  02/22/2016 01:04:05  R:\\Doc\\SolidWorks\\SolidWorks Palette\\Palette P...   \n",
       "2  02/22/2016 01:04:05  R:\\Doc\\SolidWorks\\SolidWorks Palette\\Palette P...   \n",
       "3  02/21/2016 23:05:11       R:\\Doc\\SolidWorks\\HS4989 - QUAKER MAID MEATS   \n",
       "4  02/21/2016 22:59:28  R:\\Doc\\SolidWorks\\HS4836-4 TWO FLAP CLOSER (ME...   \n",
       "\n",
       "                     name_low  \n",
       "0            #40 chain.sldasm  \n",
       "1            #40 chain.sldasm  \n",
       "2      #40 pin riveted.sldprt  \n",
       "3      #40 pin riveted.sldprt  \n",
       "4  #40 pin rivetedrev2.sldprt  "
      ]
     },
     "execution_count": 1156,
     "metadata": {},
     "output_type": "execute_result"
    }
   ],
   "source": [
    "dups.head()"
   ]
  },
  {
   "cell_type": "code",
   "execution_count": 1157,
   "metadata": {},
   "outputs": [],
   "source": [
    "top_offenders = dups['path'].value_counts().index.to_list()"
   ]
  },
  {
   "cell_type": "code",
   "execution_count": 1158,
   "metadata": {},
   "outputs": [],
   "source": [
    "# input: data (trimmed dups), num, cut off indicator (ie valCounts > 5)\n",
    "# output: top_offenders list at level 2, in reguards to top_offender[num]\n",
    "def get_top_offenders(dups, num, limit):\n",
    "    \n",
    "    # list of all files in directory top_offender[num]\n",
    "    file_list = []\n",
    "    for i in range(len(dups['path'])):\n",
    "        if dups['path'][i] == top_offenders[num]:\n",
    "            file_list.append(dups['name_low'].iloc[i])\n",
    "    \n",
    "    # dictionary of all files in directory top_offender[num] and all other associated paths\n",
    "    # {filename: [path1, path2, etc], filename: [path1, path2, etc]}\n",
    "    file_paths = {}\n",
    "    for file in file_list:\n",
    "        dups_trimmed = dups[(dups['name_low'] == file)]\n",
    "        path_list = []\n",
    "        for path in dups_trimmed['path']:\n",
    "            path_list.append(path)\n",
    "        file_paths[file] = path_list\n",
    "        \n",
    "    # create a list of all paths involved, merged together\n",
    "    partner_paths = []\n",
    "    for k, v in file_paths.items():\n",
    "        for i in v:\n",
    "            if i != top_offenders[num]:\n",
    "                partner_paths.append(i)\n",
    "    \n",
    "    # create series and use value_counts\n",
    "    partner_paths_series = pd.Series(partner_paths)\n",
    "    val_count = partner_paths_series.value_counts()\n",
    "    \n",
    "    # trim top_offenders2 list, per user input (> x associated paths)\n",
    "    top_offenders2 = []\n",
    "    for i in range(len(val_count)):\n",
    "        if val_count[i] > limit:\n",
    "            top_offenders2.append(val_count.index[i])\n",
    "    \n",
    "    return top_offenders2, file_paths"
   ]
  },
  {
   "cell_type": "code",
   "execution_count": 1159,
   "metadata": {},
   "outputs": [],
   "source": [
    "def build_data(offender, file_paths):\n",
    "    \n",
    "    # trim file_paths to only relevent files\n",
    "    file_paths_trimmed = {}\n",
    "    for k, v in file_paths.items():\n",
    "        if offender in v:\n",
    "            file_paths_trimmed[k] = v\n",
    "            \n",
    "    totalFiles = len(file_paths_trimmed.keys())\n",
    "            \n",
    "    occur_list = []\n",
    "    for k, v in file_paths_trimmed.items():\n",
    "        if len(v) not in occur_list:\n",
    "                occur_list.append(len(v))\n",
    "\n",
    "    occur_dict = {}\n",
    "    for i in occur_list:\n",
    "        occur_dict[i] = 0\n",
    "        for v in file_paths_trimmed.values():\n",
    "            if i == len(v):\n",
    "                occur_dict[i] += 1\n",
    "                \n",
    "    num_list = []\n",
    "    occur_list = []\n",
    "    for i in range(len(occur_dict)):\n",
    "        key = min(occur_dict.keys())\n",
    "        num_list.append(key)\n",
    "        value = occur_dict.pop(key)\n",
    "        occur_list.append(value) \n",
    "            \n",
    "    return num_list, occur_list, totalFiles"
   ]
  },
  {
   "cell_type": "code",
   "execution_count": 1160,
   "metadata": {},
   "outputs": [],
   "source": [
    "def chart_em(num_list, occur_list, totalFiles, titleA, titleB, i):\n",
    "    \n",
    "    df = pd.DataFrame({'other paths':num_list, 'occurences':occur_list})\n",
    "    title = f'{titleA}\\n{titleB}\\nTotal Files: {totalFiles}\\nChart: {i}'\n",
    "    ax = df.plot.bar(x='other paths', y='occurences', rot=0, figsize=(10, 4), title = title)"
   ]
  },
  {
   "cell_type": "code",
   "execution_count": 1161,
   "metadata": {},
   "outputs": [],
   "source": [
    "def build_data2(num, chart_num, top_offenders, top_offenders2, file_paths):\n",
    "    titleA = top_offenders[num]\n",
    "    titleB = top_offenders2[chart_num]\n",
    "    \n",
    "    file_paths_trimmed = {}\n",
    "    for k, v in file_paths.items():\n",
    "        if titleB in v:\n",
    "            if len(v) == quant: \n",
    "                file_paths_trimmed[k] = v\n",
    "                \n",
    "    path_list = []\n",
    "    for v in file_paths_trimmed.values():\n",
    "        for i in v:\n",
    "            path_list.append(i)\n",
    "            \n",
    "    path_list = pd.Series(path_list)\n",
    "    \n",
    "    occurence_list = path_list.value_counts().to_list()\n",
    "    \n",
    "    path_list = path_list.value_counts().index.to_list()\n",
    "    \n",
    "    return occurence_list, path_list, file_paths_trimmed"
   ]
  },
  {
   "cell_type": "code",
   "execution_count": 1162,
   "metadata": {},
   "outputs": [],
   "source": [
    "def chart_em2(list1, list2, titleA):\n",
    "    df = pd.DataFrame({'other paths':list1, 'occurences':list2})\n",
    "    title = f'{titleA}'\n",
    "    ax = df.plot.barh(x='other paths', y='occurences', rot=0, figsize=(3, 7), title = title)"
   ]
  },
  {
   "cell_type": "code",
   "execution_count": 1163,
   "metadata": {},
   "outputs": [],
   "source": [
    "def batch(files_to_remove, path):\n",
    "\n",
    "    moveFileName = '8_12_files_to_remove.txt'\n",
    "    \n",
    "    # open file and write to it, then close\n",
    "    moveFile = open(moveFileName, 'w')\n",
    "    for i in files_to_remove:\n",
    "        fileAndPath = path + '\\\\' + i\n",
    "        fileAndPath = '\"' + fileAndPath + '\"'\n",
    "        newLoc = 'C:/Users/wdg1dcr/Desktop/dupBackup/movedFiles'\n",
    "        moveFile.write('move ' + fileAndPath + '*.* ' + newLoc + '\\n')\n",
    "    moveFile.close()"
   ]
  },
  {
   "cell_type": "code",
   "execution_count": 1164,
   "metadata": {},
   "outputs": [],
   "source": [
    "def batch2(files_to_remove):\n",
    "    os.chdir('H:/temp/data_cleanse_batch_files')\n",
    "\n",
    "    moveFileName = '8_12_files_to_remove.txt'\n",
    "    \n",
    "    # open file and write to it, then close\n",
    "    moveFile = open(moveFileName, 'w')\n",
    "    for i in files_to_remove:\n",
    "        fileAndPath = i\n",
    "        fileAndPath = '\"' + fileAndPath + '\"'\n",
    "        newLoc = 'C:/Users/wdg1dcr/Desktop/dupBackup/movedFiles'\n",
    "        moveFile.write('move ' + fileAndPath + '*.* ' + newLoc + '\\n')\n",
    "    moveFile.close()\n",
    "    \n",
    "    os.chdir('C:\\\\Users\\\\WDG1DCR\\\\Desktop\\\\my_projects\\\\data_analysis\\\\data_cleanse')"
   ]
  },
  {
   "cell_type": "code",
   "execution_count": 1165,
   "metadata": {},
   "outputs": [],
   "source": [
    "############################################\n",
    "# choose top offender\n",
    "############################################\n",
    "num = 18\n",
    "limit = 10\n",
    "\n",
    "titleA = top_offenders[num]\n",
    "\n",
    "top_offenders2, file_paths = get_top_offenders(dups, num, limit)"
   ]
  },
  {
   "cell_type": "code",
   "execution_count": 1166,
   "metadata": {},
   "outputs": [],
   "source": [
    "numlist_list = []\n",
    "occurlist_list =[]\n",
    "totalFiles_list = []\n",
    "for i in top_offenders2:\n",
    "    numlist, occurlist, totalFiles = build_data(i, file_paths)\n",
    "    numlist_list.append(numlist)\n",
    "    occurlist_list.append(occurlist)\n",
    "    totalFiles_list.append(totalFiles)"
   ]
  },
  {
   "cell_type": "code",
   "execution_count": 1167,
   "metadata": {
    "scrolled": true
   },
   "outputs": [
    {
     "data": {
      "image/png": "[encoded data removed]",
      "text/plain": [
       "<Figure size 720x288 with 1 Axes>"
      ]
     },
     "metadata": {
      "needs_background": "light"
     },
     "output_type": "display_data"
    }
   ],
   "source": [
    "for i in range(len(numlist_list)):\n",
    "    titleB = top_offenders2[i]\n",
    "    chart_em(numlist_list[i], occurlist_list[i], totalFiles_list[i], titleA, titleB, i)"
   ]
  },
  {
   "cell_type": "code",
   "execution_count": 1168,
   "metadata": {},
   "outputs": [],
   "source": [
    "############################################\n",
    "# choose chart num and column for file list\n",
    "############################################\n",
    "chart_num = 0\n",
    "quant = 2"
   ]
  },
  {
   "cell_type": "code",
   "execution_count": 1169,
   "metadata": {},
   "outputs": [],
   "source": [
    "occurence_list, path_list, file_paths_trimmed = build_data2(num, chart_num, top_offenders, top_offenders2, file_paths)"
   ]
  },
  {
   "cell_type": "code",
   "execution_count": 1182,
   "metadata": {},
   "outputs": [
    {
     "data": {
      "text/plain": [
       "[63, 63]"
      ]
     },
     "execution_count": 1182,
     "metadata": {},
     "output_type": "execute_result"
    }
   ],
   "source": [
    "occurence_list"
   ]
  },
  {
   "cell_type": "code",
   "execution_count": 1183,
   "metadata": {},
   "outputs": [
    {
     "data": {
      "text/plain": [
       "['R:\\\\Doc\\\\SolidWorks\\\\VOLDEMORT\\\\REF FRAME DESIGN',\n",
       " 'R:\\\\Doc\\\\SolidWorks\\\\P6190 Project Venus\\\\Data Exchange\\\\Elematic 1001 Frame\\\\Elematic 1001 Frame']"
      ]
     },
     "execution_count": 1183,
     "metadata": {},
     "output_type": "execute_result"
    }
   ],
   "source": [
    "path_list"
   ]
  },
  {
   "cell_type": "code",
   "execution_count": 1170,
   "metadata": {
    "scrolled": true
   },
   "outputs": [
    {
     "data": {
      "image/png": "[encoded data removed]",
      "text/plain": [
       "<Figure size 216x504 with 1 Axes>"
      ]
     },
     "metadata": {
      "needs_background": "light"
     },
     "output_type": "display_data"
    }
   ],
   "source": [
    "chart_em2(path_list, occurence_list, titleA)"
   ]
  },
  {
   "cell_type": "code",
   "execution_count": 1171,
   "metadata": {},
   "outputs": [
    {
     "name": "stdout",
     "output_type": "stream",
     "text": [
      "R:\\Doc\\SolidWorks\\P6190 Project Venus\\Data Exchange\\Elematic 1001 Frame\\Elematic 1001 Frame\n"
     ]
    }
   ],
   "source": [
    "############################################\n",
    "# choose path to maintain, all others will be deleted\n",
    "############################################\n",
    "choose_path2 = 1\n",
    "\n",
    "print(path_list[choose_path2])\n",
    "\n",
    "file_list = []\n",
    "for i in path_list:\n",
    "    if i != path_list[choose_path2]:\n",
    "        for k, v in file_paths_trimmed.items():\n",
    "            if i in v:\n",
    "                file_and_path = i + '\\\\' + k\n",
    "                file_list.append(file_and_path)\n",
    "                \n",
    "batch2(file_list)"
   ]
  },
  {
   "cell_type": "code",
   "execution_count": 1172,
   "metadata": {
    "scrolled": false
   },
   "outputs": [
    {
     "name": "stdout",
     "output_type": "stream",
     "text": [
      "0 - R:\\Doc\\SolidWorks\\VOLDEMORT\\REF FRAME DESIGN\n",
      "1 - R:\\Doc\\SolidWorks\\P6190 Project Venus\\Data Exchange\\Elematic 1001 Frame\\Elematic 1001 Frame\n"
     ]
    }
   ],
   "source": [
    "# PRINT ALL PATHS\n",
    "for i in range(len(path_list)):\n",
    "    print(f'{i} - {path_list[i]}')"
   ]
  },
  {
   "cell_type": "code",
   "execution_count": 1173,
   "metadata": {
    "scrolled": true
   },
   "outputs": [],
   "source": [
    "############################################\n",
    "# choose path to delete from\n",
    "############################################\n",
    "choose_path = 0\n",
    "os.chdir('H:/temp/data_cleanse_batch_files')\n",
    "files_to_remove = []\n",
    "path = path_list[choose_path]\n",
    "for k, v in file_paths_trimmed.items():\n",
    "    if path_list[choose_path] in v:\n",
    "        files_to_remove.append(k)\n",
    "# print(path)\n",
    "# for i in files_to_remove:\n",
    "#     print(i)\n",
    "    \n",
    "# uncomment below to generate output file\n",
    "# batch(files_to_remove, path)\n",
    "\n",
    "# change directory back\n",
    "os.chdir('C:\\\\Users\\\\WDG1DCR\\\\Desktop\\\\my_projects\\\\data_analysis\\\\data_cleanse')"
   ]
  },
  {
   "cell_type": "code",
   "execution_count": 1174,
   "metadata": {},
   "outputs": [],
   "source": [
    "file_list = []\n",
    "for k in file_paths_trimmed.keys():\n",
    "    file_list.append(k)"
   ]
  },
  {
   "cell_type": "code",
   "execution_count": 1175,
   "metadata": {},
   "outputs": [],
   "source": [
    "dups_trimmed = dups[dups['name_low'].isin(file_list)]"
   ]
  },
  {
   "cell_type": "code",
   "execution_count": 1176,
   "metadata": {},
   "outputs": [
    {
     "name": "stderr",
     "output_type": "stream",
     "text": [
      "C:\\Users\\WDG1DCR\\Anaconda3\\lib\\site-packages\\ipykernel_launcher.py:5: SettingWithCopyWarning: \n",
      "A value is trying to be set on a copy of a slice from a DataFrame\n",
      "\n",
      "See the caveats in the documentation: https://pandas.pydata.org/pandas-docs/stable/user_guide/indexing.html#returning-a-view-versus-a-copy\n",
      "  \"\"\"\n"
     ]
    }
   ],
   "source": [
    "for i in range(len(dups_trimmed['size'])):    \n",
    "    value1 = dups_trimmed['size'].iloc[i]\n",
    "    value1 = value1.replace(',','')\n",
    "    value1 = int(value1)\n",
    "    dups_trimmed['size'].iloc[i] = value1"
   ]
  },
  {
   "cell_type": "code",
   "execution_count": 1177,
   "metadata": {},
   "outputs": [],
   "source": [
    "dups_trimmed = dups_trimmed.sort_values(by=['size'], ascending=False)"
   ]
  },
  {
   "cell_type": "code",
   "execution_count": 1178,
   "metadata": {},
   "outputs": [],
   "source": [
    "dups_trimmed.reset_index(inplace=True, drop=True)"
   ]
  },
  {
   "cell_type": "code",
   "execution_count": 1179,
   "metadata": {
    "scrolled": true
   },
   "outputs": [],
   "source": [
    "# dups_trimmed.head()"
   ]
  },
  {
   "cell_type": "code",
   "execution_count": 1180,
   "metadata": {
    "scrolled": true
   },
   "outputs": [
    {
     "data": {
      "text/plain": [
       "126"
      ]
     },
     "execution_count": 1180,
     "metadata": {},
     "output_type": "execute_result"
    }
   ],
   "source": [
    "#sorted by size\n",
    "len(dups_trimmed['Name'])"
   ]
  },
  {
   "cell_type": "code",
   "execution_count": 1181,
   "metadata": {},
   "outputs": [
    {
     "name": "stdout",
     "output_type": "stream",
     "text": [
      "86940.062.sldprt\n",
      "86940.079.sldprt\n",
      "86940.076.sldprt\n",
      "86940.078.sldprt\n",
      "86004.755.sldprt\n",
      "86940.028.sldprt\n",
      "86004.800.sldprt\n",
      "86940.024.sldprt\n",
      "86004.803.sldprt\n",
      "86940.053.sldprt\n",
      "86940.046.sldprt\n",
      "86004.751.sldprt\n",
      "86940.075.sldprt\n",
      "86940.038.sldprt\n",
      "86004.812.sldprt\n",
      "86940.031.sldprt\n",
      "86940.065.sldasm\n",
      "86940.052.sldprt\n",
      "86940.025.sldprt\n",
      "86940.037.sldprt\n",
      "86004.760.sldprt\n",
      "b0045.436.sldprt\n",
      "86940.077.sldasm\n",
      "86940.035.sldasm\n",
      "86940.058.sldprt\n",
      "86940.072.sldprt\n",
      "86940.059.sldprt\n",
      "86940.027.sldasm\n",
      "86004.752.sldprt\n",
      "86940.033.sldprt\n",
      "86940.030.sldprt\n",
      "86940.026.sldasm\n",
      "86940.029.sldprt\n",
      "86940.036.sldasm\n",
      "86004.784.sldprt\n",
      "86940.061.sldasm\n",
      "sechskantschraube din 933 m6x16 b0008.282.sldprt\n",
      "86940.064.sldprt\n",
      "86004.758.sldasm\n",
      "86940.023.sldprt\n",
      "86940.032.sldprt\n",
      "86940.048.sldasm\n",
      "86940.054.sldasm\n",
      "86940.063.sldprt\n",
      "86004.785.sldprt\n",
      "86940.041.sldasm\n",
      "sechskantschraube din 933 m8x25 b0007.555.sldprt\n",
      "sechskantschraube din 933 m8x20 b0008.523.sldprt\n",
      "sechskantschraube din 933 m10x25 b007.442.sldprt\n",
      "86940.040.sldprt\n",
      "86940.074.sldasm\n",
      "86940.047.sldprt\n",
      "86940.034.sldprt\n",
      "02005.829 distanz.sldprt\n",
      "86004.818.sldprt\n",
      "86004.802.sldprt\n",
      "86940.073.sldprt\n",
      "86004.908.sldprt\n",
      "86004.757.sldprt\n",
      "86940.039.sldprt\n",
      "86004.754.sldprt\n",
      "86940.060.sldprt\n",
      "scheibe din 125 st 10,5 b0007.444.sldprt\n"
     ]
    }
   ],
   "source": [
    "for i in dups_trimmed['name_low'].unique():\n",
    "    print(i)"
   ]
  },
  {
   "cell_type": "code",
   "execution_count": null,
   "metadata": {},
   "outputs": [],
   "source": []
  }
 ],
 "metadata": {
  "kernelspec": {
   "display_name": "Python 3",
   "language": "python",
   "name": "python3"
  },
  "language_info": {
   "codemirror_mode": {
    "name": "ipython",
    "version": 3
   },
   "file_extension": ".py",
   "mimetype": "text/x-python",
   "name": "python",
   "nbconvert_exporter": "python",
   "pygments_lexer": "ipython3",
   "version": "3.7.6"
  }
 },
 "nbformat": 4,
 "nbformat_minor": 4
}

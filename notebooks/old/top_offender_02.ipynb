{
 "cells": [
  {
   "cell_type": "markdown",
   "metadata": {},
   "source": [
    "Most up to date top_offender approach, level 2"
   ]
  },
  {
   "cell_type": "code",
   "execution_count": 2,
   "metadata": {},
   "outputs": [],
   "source": [
    "# %load_ext autoreload\n",
    "# %reload_ext autoreload\n",
    "# %autoreload 2"
   ]
  },
  {
   "cell_type": "code",
   "execution_count": 3,
   "metadata": {},
   "outputs": [],
   "source": [
    "import os\n",
    "os.chdir('C:\\\\Users\\\\WDG1DCR\\\\Desktop\\\\my_projects\\\\data_analysis\\\\data_cleanse')\n",
    "# os.chdir('C:\\\\Users\\\\gratten\\\\Documents\\\\python\\\\projects\\\\data_cleanse')\n",
    "\n",
    "import pandas as pd\n",
    "from prep import filter\n",
    "from prep import sort\n",
    "from plot import bar\n",
    "from utility import generate"
   ]
  },
  {
   "cell_type": "code",
   "execution_count": 4,
   "metadata": {},
   "outputs": [],
   "source": [
    "fileName = 'filelist_7_15'\n",
    "df_og = pd.read_csv('datasets/' + fileName + '.csv', sep=';')"
   ]
  },
  {
   "cell_type": "code",
   "execution_count": 5,
   "metadata": {},
   "outputs": [],
   "source": [
    "df = filter.sld(df_og)"
   ]
  },
  {
   "cell_type": "code",
   "execution_count": 6,
   "metadata": {},
   "outputs": [],
   "source": [
    "dups = df[df.duplicated(['name_low'], keep=False)]\n",
    "dups = dups.sort_values(['name_low'])"
   ]
  },
  {
   "cell_type": "code",
   "execution_count": 7,
   "metadata": {},
   "outputs": [],
   "source": [
    "dups = dups.reset_index()"
   ]
  },
  {
   "cell_type": "code",
   "execution_count": 8,
   "metadata": {},
   "outputs": [
    {
     "data": {
      "text/html": [
       "<div>\n",
       "<style scoped>\n",
       "    .dataframe tbody tr th:only-of-type {\n",
       "        vertical-align: middle;\n",
       "    }\n",
       "\n",
       "    .dataframe tbody tr th {\n",
       "        vertical-align: top;\n",
       "    }\n",
       "\n",
       "    .dataframe thead th {\n",
       "        text-align: right;\n",
       "    }\n",
       "</style>\n",
       "<table border=\"1\" class=\"dataframe\">\n",
       "  <thead>\n",
       "    <tr style=\"text-align: right;\">\n",
       "      <th></th>\n",
       "      <th>index</th>\n",
       "      <th>Name</th>\n",
       "      <th>Format</th>\n",
       "      <th>size</th>\n",
       "      <th>modified</th>\n",
       "      <th>created</th>\n",
       "      <th>path</th>\n",
       "      <th>name_low</th>\n",
       "    </tr>\n",
       "  </thead>\n",
       "  <tbody>\n",
       "    <tr>\n",
       "      <th>0</th>\n",
       "      <td>199469</td>\n",
       "      <td>#40 CHAIN.SLDASM</td>\n",
       "      <td>SLDASM</td>\n",
       "      <td>98,273</td>\n",
       "      <td>10/12/2018 13:43:23</td>\n",
       "      <td>02/22/2016 01:04:05</td>\n",
       "      <td>R:\\Doc\\SolidWorks\\SolidWorks Palette\\Palette P...</td>\n",
       "      <td>#40 chain.sldasm</td>\n",
       "    </tr>\n",
       "    <tr>\n",
       "      <th>1</th>\n",
       "      <td>13308</td>\n",
       "      <td>#40 Chain.SLDASM</td>\n",
       "      <td>SLDASM</td>\n",
       "      <td>92,370</td>\n",
       "      <td>06/19/2020 16:04:50</td>\n",
       "      <td>02/21/2016 22:51:10</td>\n",
       "      <td>R:\\Doc\\SolidWorks\\CONVEYOR</td>\n",
       "      <td>#40 chain.sldasm</td>\n",
       "    </tr>\n",
       "    <tr>\n",
       "      <th>2</th>\n",
       "      <td>199473</td>\n",
       "      <td>#40 PIN RIVETED.SLDPRT</td>\n",
       "      <td>SLDPRT</td>\n",
       "      <td>55,996</td>\n",
       "      <td>02/24/2017 15:31:59</td>\n",
       "      <td>02/22/2016 01:04:05</td>\n",
       "      <td>R:\\Doc\\SolidWorks\\SolidWorks Palette\\Palette P...</td>\n",
       "      <td>#40 pin riveted.sldprt</td>\n",
       "    </tr>\n",
       "    <tr>\n",
       "      <th>3</th>\n",
       "      <td>46813</td>\n",
       "      <td>#40 PIN RIVETED.SLDPRT</td>\n",
       "      <td>SLDPRT</td>\n",
       "      <td>52,842</td>\n",
       "      <td>11/20/2014 10:11:00</td>\n",
       "      <td>02/21/2016 23:05:11</td>\n",
       "      <td>R:\\Doc\\SolidWorks\\HS4989 - QUAKER MAID MEATS</td>\n",
       "      <td>#40 pin riveted.sldprt</td>\n",
       "    </tr>\n",
       "    <tr>\n",
       "      <th>4</th>\n",
       "      <td>33754</td>\n",
       "      <td>#40 PIN RIVETEDRev2.SLDPRT</td>\n",
       "      <td>SLDPRT</td>\n",
       "      <td>52,722</td>\n",
       "      <td>11/19/2014 22:34:28</td>\n",
       "      <td>02/21/2016 22:59:28</td>\n",
       "      <td>R:\\Doc\\SolidWorks\\HS4836-4 TWO FLAP CLOSER (ME...</td>\n",
       "      <td>#40 pin rivetedrev2.sldprt</td>\n",
       "    </tr>\n",
       "  </tbody>\n",
       "</table>\n",
       "</div>"
      ],
      "text/plain": [
       "    index                        Name  Format    size             modified  \\\n",
       "0  199469            #40 CHAIN.SLDASM  SLDASM  98,273  10/12/2018 13:43:23   \n",
       "1   13308            #40 Chain.SLDASM  SLDASM  92,370  06/19/2020 16:04:50   \n",
       "2  199473      #40 PIN RIVETED.SLDPRT  SLDPRT  55,996  02/24/2017 15:31:59   \n",
       "3   46813      #40 PIN RIVETED.SLDPRT  SLDPRT  52,842  11/20/2014 10:11:00   \n",
       "4   33754  #40 PIN RIVETEDRev2.SLDPRT  SLDPRT  52,722  11/19/2014 22:34:28   \n",
       "\n",
       "               created                                               path  \\\n",
       "0  02/22/2016 01:04:05  R:\\Doc\\SolidWorks\\SolidWorks Palette\\Palette P...   \n",
       "1  02/21/2016 22:51:10                         R:\\Doc\\SolidWorks\\CONVEYOR   \n",
       "2  02/22/2016 01:04:05  R:\\Doc\\SolidWorks\\SolidWorks Palette\\Palette P...   \n",
       "3  02/21/2016 23:05:11       R:\\Doc\\SolidWorks\\HS4989 - QUAKER MAID MEATS   \n",
       "4  02/21/2016 22:59:28  R:\\Doc\\SolidWorks\\HS4836-4 TWO FLAP CLOSER (ME...   \n",
       "\n",
       "                     name_low  \n",
       "0            #40 chain.sldasm  \n",
       "1            #40 chain.sldasm  \n",
       "2      #40 pin riveted.sldprt  \n",
       "3      #40 pin riveted.sldprt  \n",
       "4  #40 pin rivetedrev2.sldprt  "
      ]
     },
     "execution_count": 8,
     "metadata": {},
     "output_type": "execute_result"
    }
   ],
   "source": [
    "dups.head()"
   ]
  },
  {
   "cell_type": "code",
   "execution_count": 9,
   "metadata": {},
   "outputs": [],
   "source": [
    "top_offenders = dups['path'].value_counts().index.to_list()"
   ]
  },
  {
   "cell_type": "code",
   "execution_count": 10,
   "metadata": {
    "scrolled": true
   },
   "outputs": [
    {
     "name": "stdout",
     "output_type": "stream",
     "text": [
      "R:\\Doc\\SolidWorks\\HS4937, CELOX\n"
     ]
    }
   ],
   "source": [
    "# choose offending directory\n",
    "num = 0\n",
    "\n",
    "print(top_offenders[num])"
   ]
  },
  {
   "cell_type": "code",
   "execution_count": 11,
   "metadata": {},
   "outputs": [],
   "source": [
    "file_list = []\n",
    "for i in range(len(dups['path'])):\n",
    "    if dups['path'][i] == top_offenders[num]:\n",
    "        file_list.append(dups['name_low'].iloc[i])"
   ]
  },
  {
   "cell_type": "code",
   "execution_count": 12,
   "metadata": {},
   "outputs": [
    {
     "data": {
      "text/plain": [
       "332"
      ]
     },
     "execution_count": 12,
     "metadata": {},
     "output_type": "execute_result"
    }
   ],
   "source": [
    "# unique file names in chosen directory\n",
    "len(file_list)"
   ]
  },
  {
   "cell_type": "code",
   "execution_count": 13,
   "metadata": {},
   "outputs": [],
   "source": [
    "# dictionary of all files in chosen directory and their associated paths\n",
    "# {filename: [path1, path2, etc], filename: [path1, path2, etc]}\n",
    "file_paths = {}\n",
    "for file in file_list:\n",
    "    dups_trimmed = dups[(dups['name_low'] == file)]\n",
    "    path_list = []\n",
    "    for path in dups_trimmed['path']:\n",
    "        path_list.append(path)\n",
    "    file_paths[file] = path_list"
   ]
  },
  {
   "cell_type": "code",
   "execution_count": 14,
   "metadata": {},
   "outputs": [
    {
     "data": {
      "text/plain": [
       "332"
      ]
     },
     "execution_count": 14,
     "metadata": {},
     "output_type": "execute_result"
    }
   ],
   "source": [
    "len(file_paths.keys())"
   ]
  },
  {
   "cell_type": "code",
   "execution_count": 15,
   "metadata": {},
   "outputs": [],
   "source": [
    "# num2 = 2\n",
    "\n",
    "# keys = []\n",
    "# values = []\n",
    "# for k, v in file_paths.items():\n",
    "#     if len(v) == num2:\n",
    "#         keys.append(k)\n",
    "#         values.append(v)"
   ]
  },
  {
   "cell_type": "code",
   "execution_count": 16,
   "metadata": {
    "scrolled": true
   },
   "outputs": [],
   "source": [
    "partner_paths = []\n",
    "for k, v in file_paths.items():\n",
    "    for i in v:\n",
    "        if i != top_offenders[num]:\n",
    "            partner_paths.append(i)\n",
    "#         print(i)\n",
    "#     print()\n",
    "#     print()"
   ]
  },
  {
   "cell_type": "code",
   "execution_count": 17,
   "metadata": {},
   "outputs": [
    {
     "data": {
      "text/plain": [
       "1251"
      ]
     },
     "execution_count": 17,
     "metadata": {},
     "output_type": "execute_result"
    }
   ],
   "source": [
    "len(partner_paths)"
   ]
  },
  {
   "cell_type": "code",
   "execution_count": 18,
   "metadata": {},
   "outputs": [],
   "source": [
    "partner_paths_series = pd.Series(partner_paths)"
   ]
  },
  {
   "cell_type": "code",
   "execution_count": 19,
   "metadata": {},
   "outputs": [
    {
     "data": {
      "text/plain": [
       "R:\\Doc\\SolidWorks\\Celox feeders\\Study 3, Mid-range\\9in Celox feeder                           117\n",
       "R:\\Doc\\SolidWorks\\HS4975 Nestle Gaffney Celox 9H\\9in Celox feeder for Decatur 25 july 2008    114\n",
       "R:\\Doc\\SolidWorks\\P6153 CELOX AP\\JUNK                                                         111\n",
       "R:\\Doc\\SolidWorks\\HS4973 Kraft Tech Center (Celox)\\15 INCH FEEDER                             102\n",
       "R:\\Doc\\SolidWorks\\P6144 SFR USA                                                                71\n",
       "                                                                                             ... \n",
       "R:\\Doc\\SolidWorks\\K22322-STT Closer                                                             1\n",
       "R:\\Doc\\SolidWorks\\A0094 STOCK GROUP RAC                                                         1\n",
       "R:\\Doc\\SolidWorks\\SolidWorks Palette\\Palette Parts\\Bearings & Bushings                          1\n",
       "R:\\Doc\\SolidWorks\\HS5044 ConAgra Foods (4x SFR Closers)                                         1\n",
       "R:\\Doc\\SolidWorks\\HS4975 Nestle Gaffney Celox 9H\\9 IN FEEDER SETTING JIG                        1\n",
       "Length: 189, dtype: int64"
      ]
     },
     "execution_count": 19,
     "metadata": {},
     "output_type": "execute_result"
    }
   ],
   "source": [
    "partner_paths_series.value_counts()"
   ]
  },
  {
   "cell_type": "code",
   "execution_count": 20,
   "metadata": {},
   "outputs": [],
   "source": [
    "top_offenders2 = partner_paths_series.value_counts().index.to_list()"
   ]
  },
  {
   "cell_type": "code",
   "execution_count": 21,
   "metadata": {},
   "outputs": [
    {
     "data": {
      "text/plain": [
       "189"
      ]
     },
     "execution_count": 21,
     "metadata": {},
     "output_type": "execute_result"
    }
   ],
   "source": [
    "len(top_offenders2)"
   ]
  },
  {
   "cell_type": "code",
   "execution_count": 22,
   "metadata": {},
   "outputs": [],
   "source": [
    "valCounts = partner_paths_series.value_counts()"
   ]
  },
  {
   "cell_type": "code",
   "execution_count": 23,
   "metadata": {},
   "outputs": [
    {
     "data": {
      "text/plain": [
       "117"
      ]
     },
     "execution_count": 23,
     "metadata": {},
     "output_type": "execute_result"
    }
   ],
   "source": [
    "valCounts[0]"
   ]
  },
  {
   "cell_type": "code",
   "execution_count": 24,
   "metadata": {},
   "outputs": [
    {
     "name": "stdout",
     "output_type": "stream",
     "text": [
      "117\n",
      "114\n",
      "111\n",
      "102\n",
      "71\n",
      "40\n",
      "35\n",
      "34\n",
      "29\n",
      "27\n",
      "24\n",
      "23\n",
      "22\n",
      "22\n",
      "20\n",
      "19\n",
      "15\n",
      "13\n",
      "12\n",
      "12\n",
      "11\n",
      "11\n"
     ]
    }
   ],
   "source": [
    "for i in range(len(valCounts)):\n",
    "    if valCounts[i] > 10:\n",
    "        print(valCounts[i])"
   ]
  },
  {
   "cell_type": "code",
   "execution_count": 25,
   "metadata": {},
   "outputs": [
    {
     "data": {
      "text/plain": [
       "'R:\\\\Doc\\\\SolidWorks\\\\HS4937, CELOX'"
      ]
     },
     "execution_count": 25,
     "metadata": {},
     "output_type": "execute_result"
    }
   ],
   "source": [
    "# Directory A\n",
    "A = top_offenders[num]\n",
    "A"
   ]
  },
  {
   "cell_type": "code",
   "execution_count": 26,
   "metadata": {
    "scrolled": true
   },
   "outputs": [
    {
     "data": {
      "text/plain": [
       "'R:\\\\Doc\\\\SolidWorks\\\\Celox feeders\\\\Study 3, Mid-range\\\\9in Celox feeder'"
      ]
     },
     "execution_count": 26,
     "metadata": {},
     "output_type": "execute_result"
    }
   ],
   "source": [
    "# Define directory B\n",
    "num2 = 0\n",
    "\n",
    "B = top_offenders2[num2]\n",
    "B"
   ]
  },
  {
   "cell_type": "code",
   "execution_count": null,
   "metadata": {},
   "outputs": [],
   "source": []
  },
  {
   "cell_type": "code",
   "execution_count": 27,
   "metadata": {},
   "outputs": [],
   "source": [
    "x = top_offenders2[num2]\n",
    "\n",
    "file_paths_trimmed = {}\n",
    "for k, v in file_paths.items():\n",
    "    if x in v:\n",
    "        file_paths_trimmed[k] = v"
   ]
  },
  {
   "cell_type": "code",
   "execution_count": 28,
   "metadata": {},
   "outputs": [
    {
     "data": {
      "text/plain": [
       "'R:\\\\Doc\\\\SolidWorks\\\\Celox feeders\\\\Study 3, Mid-range\\\\9in Celox feeder'"
      ]
     },
     "execution_count": 28,
     "metadata": {},
     "output_type": "execute_result"
    }
   ],
   "source": [
    "x"
   ]
  },
  {
   "cell_type": "code",
   "execution_count": 29,
   "metadata": {},
   "outputs": [],
   "source": [
    "totalFiles = len(file_paths_trimmed.keys())"
   ]
  },
  {
   "cell_type": "code",
   "execution_count": 30,
   "metadata": {},
   "outputs": [],
   "source": [
    "# for k, v in file_paths_trimmed.items():\n",
    "#     print(k, len(v))"
   ]
  },
  {
   "cell_type": "code",
   "execution_count": 31,
   "metadata": {},
   "outputs": [],
   "source": [
    "occur_list = []\n",
    "for k, v in file_paths_trimmed.items():\n",
    "    if len(v) not in occur_list:\n",
    "            occur_list.append(len(v))"
   ]
  },
  {
   "cell_type": "code",
   "execution_count": 32,
   "metadata": {},
   "outputs": [
    {
     "data": {
      "text/plain": [
       "[6, 8, 5, 7, 3, 4, 2, 13, 20, 21, 28, 12, 9, 10]"
      ]
     },
     "execution_count": 32,
     "metadata": {},
     "output_type": "execute_result"
    }
   ],
   "source": [
    "occur_list"
   ]
  },
  {
   "cell_type": "code",
   "execution_count": 33,
   "metadata": {},
   "outputs": [],
   "source": [
    "occur_dict = {}\n",
    "for i in occur_list:\n",
    "    occur_dict[i] = 0\n",
    "    for v in file_paths_trimmed.values():\n",
    "        if i == len(v):\n",
    "            occur_dict[i] += 1"
   ]
  },
  {
   "cell_type": "code",
   "execution_count": 34,
   "metadata": {},
   "outputs": [],
   "source": [
    "num_list = []\n",
    "occur_list = []\n",
    "for i in range(len(occur_dict)):\n",
    "    key = min(occur_dict.keys())\n",
    "    num_list.append(key)\n",
    "    value = occur_dict.pop(key)\n",
    "    occur_list.append(value) "
   ]
  },
  {
   "cell_type": "code",
   "execution_count": 35,
   "metadata": {},
   "outputs": [
    {
     "data": {
      "text/plain": [
       "[2, 3, 4, 5, 6, 7, 8, 9, 10, 12, 13, 20, 21, 28]"
      ]
     },
     "execution_count": 35,
     "metadata": {},
     "output_type": "execute_result"
    }
   ],
   "source": [
    "num_list"
   ]
  },
  {
   "cell_type": "code",
   "execution_count": 36,
   "metadata": {},
   "outputs": [
    {
     "data": {
      "text/plain": [
       "[4, 7, 33, 22, 22, 5, 12, 3, 1, 1, 3, 2, 1, 1]"
      ]
     },
     "execution_count": 36,
     "metadata": {},
     "output_type": "execute_result"
    }
   ],
   "source": [
    "occur_list"
   ]
  },
  {
   "cell_type": "code",
   "execution_count": 37,
   "metadata": {},
   "outputs": [],
   "source": [
    "def chart_em(num_list, occur_list):\n",
    "    \n",
    "    df = pd.DataFrame({'other paths':num_list, 'occurences':occur_list})\n",
    "    title = f'{A}\\n{B}\\nTotal Files: {totalFiles}'\n",
    "    ax = df.plot.bar(x='other paths', y='occurences', rot=0, figsize=(10, 5), title = title)"
   ]
  },
  {
   "cell_type": "code",
   "execution_count": 38,
   "metadata": {
    "scrolled": true
   },
   "outputs": [
    {
     "data": {
      "image/png": "[encoded data removed]",
      "text/plain": [
       "<Figure size 720x360 with 1 Axes>"
      ]
     },
     "metadata": {
      "needs_background": "light"
     },
     "output_type": "display_data"
    }
   ],
   "source": [
    "chart_em(num_list, occur_list)"
   ]
  },
  {
   "cell_type": "code",
   "execution_count": 39,
   "metadata": {},
   "outputs": [],
   "source": [
    "x = 4\n",
    "\n",
    "file_paths_trimmed_trimmed = {}\n",
    "for k, v in file_paths_trimmed.items():\n",
    "    if len(v) == x:\n",
    "        file_paths_trimmed_trimmed[k] = v"
   ]
  },
  {
   "cell_type": "code",
   "execution_count": 40,
   "metadata": {},
   "outputs": [
    {
     "data": {
      "text/plain": [
       "33"
      ]
     },
     "execution_count": 40,
     "metadata": {},
     "output_type": "execute_result"
    }
   ],
   "source": [
    "len(file_paths_trimmed_trimmed)"
   ]
  },
  {
   "cell_type": "code",
   "execution_count": 41,
   "metadata": {},
   "outputs": [],
   "source": [
    "# for k, v in file_paths_trimmed_trimmed.items():\n",
    "#     print(v[0])\n",
    "#     print(v[1])\n",
    "#     print(v[2])\n",
    "#     print(v[3])\n",
    "#     print()"
   ]
  },
  {
   "cell_type": "code",
   "execution_count": 42,
   "metadata": {},
   "outputs": [],
   "source": [
    "test_path_list = []\n",
    "for k, v in file_paths_trimmed_trimmed.items():\n",
    "    for i in v:\n",
    "        test_path_list.append(i)"
   ]
  },
  {
   "cell_type": "code",
   "execution_count": 43,
   "metadata": {},
   "outputs": [
    {
     "data": {
      "text/plain": [
       "132"
      ]
     },
     "execution_count": 43,
     "metadata": {},
     "output_type": "execute_result"
    }
   ],
   "source": [
    "len(test_path_list)"
   ]
  },
  {
   "cell_type": "code",
   "execution_count": 44,
   "metadata": {},
   "outputs": [],
   "source": [
    "test_path_list = pd.Series(test_path_list)"
   ]
  },
  {
   "cell_type": "code",
   "execution_count": 45,
   "metadata": {},
   "outputs": [],
   "source": [
    "file_list = test_path_list.value_counts().index.to_list()"
   ]
  },
  {
   "cell_type": "code",
   "execution_count": 46,
   "metadata": {},
   "outputs": [],
   "source": [
    "occurence_list = test_path_list.value_counts().to_list()"
   ]
  },
  {
   "cell_type": "code",
   "execution_count": 47,
   "metadata": {},
   "outputs": [],
   "source": [
    "def chart_em2(list1, list2):\n",
    "    \n",
    "    df = pd.DataFrame({'other paths':list1, 'occurences':list2})\n",
    "#     title = f'{top_offenders[i]}\\nTotal files: {totalFiles_list[i]}\\n Chart {x}'\n",
    "    ax = df.plot.barh(x='other paths', y='occurences', rot=0, figsize=(3, 7))"
   ]
  },
  {
   "cell_type": "code",
   "execution_count": 48,
   "metadata": {},
   "outputs": [
    {
     "data": {
      "image/png": "[encoded data removed]",
      "text/plain": [
       "<Figure size 216x504 with 1 Axes>"
      ]
     },
     "metadata": {
      "needs_background": "light"
     },
     "output_type": "display_data"
    }
   ],
   "source": [
    "chart_em2(file_list, occurence_list)"
   ]
  },
  {
   "cell_type": "code",
   "execution_count": null,
   "metadata": {},
   "outputs": [],
   "source": []
  }
 ],
 "metadata": {
  "kernelspec": {
   "display_name": "Python 3",
   "language": "python",
   "name": "python3"
  },
  "language_info": {
   "codemirror_mode": {
    "name": "ipython",
    "version": 3
   },
   "file_extension": ".py",
   "mimetype": "text/x-python",
   "name": "python",
   "nbconvert_exporter": "python",
   "pygments_lexer": "ipython3",
   "version": "3.7.6"
  }
 },
 "nbformat": 4,
 "nbformat_minor": 4
}

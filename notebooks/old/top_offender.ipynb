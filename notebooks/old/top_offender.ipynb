{
 "cells": [
  {
   "cell_type": "code",
   "execution_count": 32,
   "metadata": {},
   "outputs": [],
   "source": [
    "# %load_ext autoreload\n",
    "# %reload_ext autoreload\n",
    "# %autoreload 2"
   ]
  },
  {
   "cell_type": "code",
   "execution_count": 33,
   "metadata": {},
   "outputs": [],
   "source": [
    "import os\n",
    "os.chdir('C:\\\\Users\\\\WDG1DCR\\\\Desktop\\\\my_projects\\\\data_analysis\\\\data_cleanse')\n",
    "# os.chdir('C:\\\\Users\\\\gratten\\\\Documents\\\\python\\\\projects\\\\data_cleanse')\n",
    "\n",
    "import pandas as pd\n",
    "from prep import filter\n",
    "from prep import sort\n",
    "from plot import bar\n",
    "from utility import generate"
   ]
  },
  {
   "cell_type": "code",
   "execution_count": 34,
   "metadata": {},
   "outputs": [],
   "source": [
    "fileName = 'filelist_7_15'\n",
    "df_og = pd.read_csv('datasets/' + fileName + '.csv', sep=';')"
   ]
  },
  {
   "cell_type": "code",
   "execution_count": 35,
   "metadata": {},
   "outputs": [],
   "source": [
    "df = filter.sld(df_og)"
   ]
  },
  {
   "cell_type": "code",
   "execution_count": 36,
   "metadata": {},
   "outputs": [],
   "source": [
    "dups = df[df.duplicated(['name_low'], keep=False)]\n",
    "dups = dups.sort_values(['name_low'])"
   ]
  },
  {
   "cell_type": "code",
   "execution_count": 37,
   "metadata": {},
   "outputs": [],
   "source": [
    "dups = dups.reset_index()"
   ]
  },
  {
   "cell_type": "code",
   "execution_count": 38,
   "metadata": {
    "scrolled": true
   },
   "outputs": [
    {
     "data": {
      "text/html": [
       "<div>\n",
       "<style scoped>\n",
       "    .dataframe tbody tr th:only-of-type {\n",
       "        vertical-align: middle;\n",
       "    }\n",
       "\n",
       "    .dataframe tbody tr th {\n",
       "        vertical-align: top;\n",
       "    }\n",
       "\n",
       "    .dataframe thead th {\n",
       "        text-align: right;\n",
       "    }\n",
       "</style>\n",
       "<table border=\"1\" class=\"dataframe\">\n",
       "  <thead>\n",
       "    <tr style=\"text-align: right;\">\n",
       "      <th></th>\n",
       "      <th>index</th>\n",
       "      <th>Name</th>\n",
       "      <th>Format</th>\n",
       "      <th>size</th>\n",
       "      <th>modified</th>\n",
       "      <th>created</th>\n",
       "      <th>path</th>\n",
       "      <th>name_low</th>\n",
       "    </tr>\n",
       "  </thead>\n",
       "  <tbody>\n",
       "    <tr>\n",
       "      <th>0</th>\n",
       "      <td>199469</td>\n",
       "      <td>#40 CHAIN.SLDASM</td>\n",
       "      <td>SLDASM</td>\n",
       "      <td>98,273</td>\n",
       "      <td>10/12/2018 13:43:23</td>\n",
       "      <td>02/22/2016 01:04:05</td>\n",
       "      <td>R:\\Doc\\SolidWorks\\SolidWorks Palette\\Palette P...</td>\n",
       "      <td>#40 chain.sldasm</td>\n",
       "    </tr>\n",
       "    <tr>\n",
       "      <th>1</th>\n",
       "      <td>13308</td>\n",
       "      <td>#40 Chain.SLDASM</td>\n",
       "      <td>SLDASM</td>\n",
       "      <td>92,370</td>\n",
       "      <td>06/19/2020 16:04:50</td>\n",
       "      <td>02/21/2016 22:51:10</td>\n",
       "      <td>R:\\Doc\\SolidWorks\\CONVEYOR</td>\n",
       "      <td>#40 chain.sldasm</td>\n",
       "    </tr>\n",
       "    <tr>\n",
       "      <th>2</th>\n",
       "      <td>199473</td>\n",
       "      <td>#40 PIN RIVETED.SLDPRT</td>\n",
       "      <td>SLDPRT</td>\n",
       "      <td>55,996</td>\n",
       "      <td>02/24/2017 15:31:59</td>\n",
       "      <td>02/22/2016 01:04:05</td>\n",
       "      <td>R:\\Doc\\SolidWorks\\SolidWorks Palette\\Palette P...</td>\n",
       "      <td>#40 pin riveted.sldprt</td>\n",
       "    </tr>\n",
       "    <tr>\n",
       "      <th>3</th>\n",
       "      <td>46813</td>\n",
       "      <td>#40 PIN RIVETED.SLDPRT</td>\n",
       "      <td>SLDPRT</td>\n",
       "      <td>52,842</td>\n",
       "      <td>11/20/2014 10:11:00</td>\n",
       "      <td>02/21/2016 23:05:11</td>\n",
       "      <td>R:\\Doc\\SolidWorks\\HS4989 - QUAKER MAID MEATS</td>\n",
       "      <td>#40 pin riveted.sldprt</td>\n",
       "    </tr>\n",
       "    <tr>\n",
       "      <th>4</th>\n",
       "      <td>33754</td>\n",
       "      <td>#40 PIN RIVETEDRev2.SLDPRT</td>\n",
       "      <td>SLDPRT</td>\n",
       "      <td>52,722</td>\n",
       "      <td>11/19/2014 22:34:28</td>\n",
       "      <td>02/21/2016 22:59:28</td>\n",
       "      <td>R:\\Doc\\SolidWorks\\HS4836-4 TWO FLAP CLOSER (ME...</td>\n",
       "      <td>#40 pin rivetedrev2.sldprt</td>\n",
       "    </tr>\n",
       "  </tbody>\n",
       "</table>\n",
       "</div>"
      ],
      "text/plain": [
       "    index                        Name  Format    size             modified  \\\n",
       "0  199469            #40 CHAIN.SLDASM  SLDASM  98,273  10/12/2018 13:43:23   \n",
       "1   13308            #40 Chain.SLDASM  SLDASM  92,370  06/19/2020 16:04:50   \n",
       "2  199473      #40 PIN RIVETED.SLDPRT  SLDPRT  55,996  02/24/2017 15:31:59   \n",
       "3   46813      #40 PIN RIVETED.SLDPRT  SLDPRT  52,842  11/20/2014 10:11:00   \n",
       "4   33754  #40 PIN RIVETEDRev2.SLDPRT  SLDPRT  52,722  11/19/2014 22:34:28   \n",
       "\n",
       "               created                                               path  \\\n",
       "0  02/22/2016 01:04:05  R:\\Doc\\SolidWorks\\SolidWorks Palette\\Palette P...   \n",
       "1  02/21/2016 22:51:10                         R:\\Doc\\SolidWorks\\CONVEYOR   \n",
       "2  02/22/2016 01:04:05  R:\\Doc\\SolidWorks\\SolidWorks Palette\\Palette P...   \n",
       "3  02/21/2016 23:05:11       R:\\Doc\\SolidWorks\\HS4989 - QUAKER MAID MEATS   \n",
       "4  02/21/2016 22:59:28  R:\\Doc\\SolidWorks\\HS4836-4 TWO FLAP CLOSER (ME...   \n",
       "\n",
       "                     name_low  \n",
       "0            #40 chain.sldasm  \n",
       "1            #40 chain.sldasm  \n",
       "2      #40 pin riveted.sldprt  \n",
       "3      #40 pin riveted.sldprt  \n",
       "4  #40 pin rivetedrev2.sldprt  "
      ]
     },
     "execution_count": 38,
     "metadata": {},
     "output_type": "execute_result"
    }
   ],
   "source": [
    "dups.head()"
   ]
  },
  {
   "cell_type": "code",
   "execution_count": 39,
   "metadata": {},
   "outputs": [],
   "source": [
    "# dups['path'].value_counts()"
   ]
  },
  {
   "cell_type": "code",
   "execution_count": 40,
   "metadata": {},
   "outputs": [],
   "source": [
    "top_offenders = dups['path'].value_counts().index.to_list()"
   ]
  },
  {
   "cell_type": "code",
   "execution_count": 41,
   "metadata": {},
   "outputs": [
    {
     "data": {
      "text/plain": [
       "'R:\\\\Doc\\\\SolidWorks\\\\HS4937, CELOX'"
      ]
     },
     "execution_count": 41,
     "metadata": {},
     "output_type": "execute_result"
    }
   ],
   "source": [
    "top_offenders[0]"
   ]
  },
  {
   "cell_type": "code",
   "execution_count": 42,
   "metadata": {},
   "outputs": [],
   "source": [
    "# choose offender, 0 is top\n",
    "num = 0\n",
    "\n",
    "directory = top_offenders[num]\n",
    "\n",
    "file_list = []\n",
    "for i in range(len(dups['path'])):\n",
    "    if dups['path'][i] == top_offenders[num]:\n",
    "        file_list.append(dups['name_low'].iloc[i])"
   ]
  },
  {
   "cell_type": "code",
   "execution_count": 43,
   "metadata": {},
   "outputs": [
    {
     "data": {
      "text/plain": [
       "332"
      ]
     },
     "execution_count": 43,
     "metadata": {},
     "output_type": "execute_result"
    }
   ],
   "source": [
    "len(file_list)"
   ]
  },
  {
   "cell_type": "code",
   "execution_count": 44,
   "metadata": {},
   "outputs": [
    {
     "data": {
      "text/plain": [
       "'109770.sldprt'"
      ]
     },
     "execution_count": 44,
     "metadata": {},
     "output_type": "execute_result"
    }
   ],
   "source": [
    "file_list[0]"
   ]
  },
  {
   "cell_type": "code",
   "execution_count": 45,
   "metadata": {},
   "outputs": [],
   "source": [
    "dups_trimmed = dups[(dups['Name'] == '159665.SLDPRT')]"
   ]
  },
  {
   "cell_type": "code",
   "execution_count": 46,
   "metadata": {},
   "outputs": [
    {
     "data": {
      "text/html": [
       "<div>\n",
       "<style scoped>\n",
       "    .dataframe tbody tr th:only-of-type {\n",
       "        vertical-align: middle;\n",
       "    }\n",
       "\n",
       "    .dataframe tbody tr th {\n",
       "        vertical-align: top;\n",
       "    }\n",
       "\n",
       "    .dataframe thead th {\n",
       "        text-align: right;\n",
       "    }\n",
       "</style>\n",
       "<table border=\"1\" class=\"dataframe\">\n",
       "  <thead>\n",
       "    <tr style=\"text-align: right;\">\n",
       "      <th></th>\n",
       "      <th>index</th>\n",
       "      <th>Name</th>\n",
       "      <th>Format</th>\n",
       "      <th>size</th>\n",
       "      <th>modified</th>\n",
       "      <th>created</th>\n",
       "      <th>path</th>\n",
       "      <th>name_low</th>\n",
       "    </tr>\n",
       "  </thead>\n",
       "  <tbody>\n",
       "    <tr>\n",
       "      <th>2345</th>\n",
       "      <td>36851</td>\n",
       "      <td>159665.SLDPRT</td>\n",
       "      <td>SLDPRT</td>\n",
       "      <td>53,882</td>\n",
       "      <td>06/24/2019 10:45:22</td>\n",
       "      <td>02/21/2016 23:00:07</td>\n",
       "      <td>R:\\Doc\\SolidWorks\\HS4937, CELOX</td>\n",
       "      <td>159665.sldprt</td>\n",
       "    </tr>\n",
       "  </tbody>\n",
       "</table>\n",
       "</div>"
      ],
      "text/plain": [
       "      index           Name  Format    size             modified  \\\n",
       "2345  36851  159665.SLDPRT  SLDPRT  53,882  06/24/2019 10:45:22   \n",
       "\n",
       "                  created                             path       name_low  \n",
       "2345  02/21/2016 23:00:07  R:\\Doc\\SolidWorks\\HS4937, CELOX  159665.sldprt  "
      ]
     },
     "execution_count": 46,
     "metadata": {},
     "output_type": "execute_result"
    }
   ],
   "source": [
    "dups_trimmed.head()"
   ]
  },
  {
   "cell_type": "code",
   "execution_count": 47,
   "metadata": {},
   "outputs": [],
   "source": [
    "file_paths = {}\n",
    "for file in file_list:\n",
    "    dups_trimmed = dups[(dups['name_low'] == file)]\n",
    "    path_list = []\n",
    "    for path in dups_trimmed['path']:\n",
    "        path_list.append(path)\n",
    "    file_paths[file] = path_list"
   ]
  },
  {
   "cell_type": "code",
   "execution_count": 48,
   "metadata": {},
   "outputs": [],
   "source": [
    "# for k, v in file_paths.items():\n",
    "#     print(k, len(v))"
   ]
  },
  {
   "cell_type": "code",
   "execution_count": 61,
   "metadata": {},
   "outputs": [
    {
     "name": "stdout",
     "output_type": "stream",
     "text": [
      "109770.sldprt 3\n",
      "159665.sldprt 2\n",
      "20095-319-04-2.sldprt 3\n",
      "20095-319-04-3.sldprt 3\n",
      "20095-319-04.sldasm 2\n",
      "20095-321-10.sldprt 4\n",
      "20095-321-11.sldprt 4\n",
      "20095-321-12-2.sldprt 4\n",
      "20095-321-12.sldasm 3\n",
      "20095-501-11.sldprt 6\n",
      "20095-601-03-2.sldprt 6\n",
      "20095-601-03-3.sldprt 6\n",
      "20095-601-03-4.sldprt 6\n",
      "20095-601-03.sldasm 6\n",
      "20095-601-04-2.sldprt 6\n",
      "20095-601-04-3.sldprt 6\n",
      "20095-601-04-4.sldprt 6\n",
      "20095-601-04.sldasm 6\n",
      "20095-601-05-2.sldprt 8\n",
      "20095-601-05-3.sldprt 8\n",
      "20095-601-05-4.sldprt 8\n",
      "20095-601-05.sldasm 8\n",
      "20095-601-06-2.sldprt 6\n",
      "20095-601-06-3.sldprt 6\n",
      "20095-601-06-4.sldprt 6\n",
      "20095-601-06.sldasm 6\n",
      "20095-601-07-2.sldprt 6\n",
      "20095-601-07-3.sldprt 6\n",
      "20095-601-07-4.sldprt 6\n",
      "20095-601-07.sldasm 6\n",
      "20095-601-08-2.sldprt 5\n",
      "20095-601-08-3.sldprt 5\n",
      "20095-601-08-4.sldprt 5\n",
      "20095-601-08.sldasm 5\n",
      "20095-601-09-2.sldprt 6\n",
      "20095-601-09-3.sldprt 6\n",
      "20095-601-09-4.sldprt 6\n",
      "20095-601-09.sldasm 7\n",
      "20095-601-10.sldprt 8\n",
      "20095-601-11.sldasm 5\n",
      "20095-601-12-2.sldprt 5\n",
      "20095-601-12-3.sldprt 5\n",
      "20095-601-12.sldasm 5\n",
      "20095-601-13.sldprt 5\n",
      "20095-602-08.sldprt 6\n",
      "20250-510-62.sldprt 2\n",
      "20345-405-08.sldprt 3\n",
      "20345-405-41.sldprt 2\n",
      "20345-405-42.sldprt 2\n",
      "20345-534-03.sldprt 3\n",
      "20345-534-04.sldprt 3\n",
      "20345-534-05.sldprt 3\n",
      "20345-534-06.sldprt 3\n",
      "20345-534-08.sldprt 3\n",
      "20345-534-09.sldprt 3\n",
      "20345-534-10.sldprt 3\n",
      "20345-534-11.sldprt 3\n",
      "20345-534-25.sldprt 3\n",
      "20345-534-35.sldasm 3\n",
      "20345-534-36.sldasm 3\n",
      "20345-534-37.sldprt 3\n",
      "20345-534-38.sldprt 3\n",
      "20345-534-40.sldprt 3\n",
      "4175-602-004.sldprt 5\n",
      "4175-602-006.sldprt 2\n",
      "4175-602-007.sldprt 5\n",
      "4176-000md-000.sldprt 8\n",
      "4176-304-010.sldasm 3\n",
      "4176-304-011.sldprt 3\n",
      "4176-304-040.sldprt 2\n",
      "4176-304-041.sldprt 2\n",
      "4176-311-006.sldprt 3\n",
      "4176-311-010.sldprt 3\n",
      "4176-312-027.sldprt 2\n",
      "4176-320-011.sldprt 2\n",
      "4176-320-016.sldprt 2\n",
      "4176-320-018.sldprt 2\n",
      "4176-353-000.sldasm 2\n",
      "4176-353-009.sldprt 2\n",
      "4176-354-002.sldprt 2\n",
      "4176-354-003.sldprt 2\n",
      "4176-354-006.sldprt 2\n",
      "4176-354-010.sldprt 2\n",
      "4176-355-000.sldasm 2\n",
      "4176-355-010.sldprt 2\n",
      "4176-355-018.sldprt 2\n",
      "4176-355-019.sldprt 2\n",
      "4176-357-017.sldprt 2\n",
      "4176-357-027.sldprt 2\n",
      "4176-358-002.sldprt 2\n",
      "4176-358-003.sldprt 4\n",
      "4176-358-004.sldprt 4\n",
      "4176-358-006.sldprt 5\n",
      "4176-358-011.sldprt 2\n",
      "4176-360-000.sldasm 4\n",
      "4176-360-001.sldprt 3\n",
      "4176-360-002.sldprt 4\n",
      "4176-360-003.sldprt 4\n",
      "4176-360-004.sldprt 2\n",
      "4176-360-005.sldprt 4\n",
      "4176-360-006.sldprt 5\n",
      "4176-360-007.sldasm 4\n",
      "4176-360-007a.sldprt 3\n",
      "4176-360-007b.sldprt 3\n",
      "4176-361-000.sldasm 3\n",
      "4176-361-001.sldprt 3\n",
      "4176-361-002.sldprt 3\n",
      "4176-361-004.sldprt 3\n",
      "4176-361-005.sldprt 3\n",
      "4176-361-007.sldprt 3\n",
      "4176-361-008.sldprt 3\n",
      "4176-361-009.sldprt 3\n",
      "4176-361-010.sldprt 3\n",
      "4176-361-012.sldprt 3\n",
      "4176-361-013.sldprt 3\n",
      "4176-361-014.sldprt 3\n",
      "4176-361-015.sldprt 3\n",
      "4176-361-016.sldasm 3\n",
      "4176-361-017.sldprt 3\n",
      "4176-361-018.sldprt 3\n",
      "4176-366-001.sldprt 2\n",
      "4176-366-008.sldprt 2\n",
      "4176-366-009.sldprt 2\n",
      "4176-366-010.sldprt 2\n",
      "4176-366-011.sldprt 2\n",
      "4176-366-013.sldprt 2\n",
      "4176-401-013.sldprt 3\n",
      "4176-401-014.sldprt 3\n",
      "4176-401-015.sldasm 2\n",
      "4176-410-000.sldasm 7\n",
      "4176-416-001.sldasm 3\n",
      "4176-416-002.sldprt 3\n",
      "4176-416-003.sldprt 4\n",
      "4176-416-005.sldprt 4\n",
      "4176-416-006.sldprt 4\n",
      "4176-510-003.sldasm 4\n",
      "4176-510-004.sldprt 4\n",
      "4176-510-010.sldprt 4\n",
      "4176-510-011.sldprt 4\n",
      "4176-510-012.sldprt 4\n",
      "4176-510-014.sldprt 2\n",
      "4176-510-015.sldprt 2\n",
      "4176-510-016.sldprt 4\n",
      "4176-510-017.sldprt 4\n",
      "4176-510-018.sldprt 4\n",
      "4176-510-020.sldasm 3\n",
      "4176-510-021.sldprt 4\n",
      "4176-510-022.sldprt 4\n",
      "4176-510-023.sldprt 4\n",
      "4176-510-024.sldprt 4\n",
      "4176-513-001.sldprt 3\n",
      "4176-513-004.sldprt 5\n",
      "4176-514-002.sldprt 4\n",
      "4176-514-003.sldprt 6\n",
      "4176-514-004.sldprt 2\n",
      "4176-515-001.sldprt 2\n",
      "4176-515-002.sldprt 2\n",
      "4176-515-003.sldprt 2\n",
      "4176-515-004.sldprt 2\n",
      "4176-521-004.sldprt 2\n",
      "4176-521-005.sldprt 5\n",
      "4176-521-006.sldprt 5\n",
      "4176-521-007.sldprt 5\n",
      "4176-521-015.sldprt 5\n",
      "4176-602-003.sldprt 5\n",
      "4176-602-004.sldprt 5\n",
      "4176-605-000.sldasm 3\n",
      "4176-605-001.sldasm 4\n",
      "4176-605-002.sldasm 4\n",
      "4176-605-003.sldasm 2\n",
      "4176-605-004.sldprt 4\n",
      "4176-605-005.sldprt 2\n",
      "4176-611-003.sldprt 2\n",
      "4176-801-008.sldprt 2\n",
      "4176-802-003.sldasm 3\n",
      "4176-802-004.sldprt 3\n",
      "4176-802-005.sldprt 3\n",
      "4176-802-006.sldprt 3\n",
      "4334-510-009.sldprt 4\n",
      "8189- wds clamp handle.sldprt 7\n",
      "adapter plate.sldprt 2\n",
      "adaptor.sldprt 13\n",
      "allen bradley 872c dh3npi2 d4 sensor x4610036.sldprt 8\n",
      "allen bradley mpl-b320.sldprt 8\n",
      "assem2.sldasm 15\n",
      "assem3.sldasm 8\n",
      "bead1.sldprt 18\n",
      "bead2.sldprt 12\n",
      "chain 1.sldprt 5\n",
      "chain 2.sldprt 4\n",
      "d1300 internal circlip - st.steel(agile).sldprt 6\n",
      "d1400 external circlip st. steel(agile).sldprt 4\n",
      "d1400 external circlip st. steel.sldprt 9\n",
      "d1400 external circlip.sldprt 9\n",
      "deep groove ball - single row (agile).sldprt 13\n",
      "deep groove ball - single row- stailess (agile).sldprt 2\n",
      "dl-p75(default).sldasm 2\n",
      "dovetail cutter.sldprt 5\n",
      "dowel parallel st stl.sldprt 5\n",
      "drivelock rivet(x1390189).sldprt 6\n",
      "elesa adaptor sleeve rb52-16-ce.87960(x0670009).sldprt 4\n",
      "elesa dd52 indicator (agile).sldprt 4\n",
      "elesa dd52 indicator.sldprt 3\n",
      "enots elbow adaptor (x0970997).sldprt 2\n",
      "epl-body(epl-084-i).sldprt 2\n",
      "feeder gearbox  n8100020 - input segment sub assm.sldasm 2\n",
      "feeder gearbox  n8100020 - output parts sub assm.sldasm 2\n",
      "feeder gearbox  n8100020 - rotating parts sub assm.sldasm 2\n",
      "feeder gearbox  n8100020 - static parts sub assm.sldasm 2\n",
      "feeder gearbox shaft.sldprt 2\n",
      "festo cylinder nut m16 x 1.5.sldprt 2\n",
      "festo cylinder nut.sldprt 2\n",
      "festo cylinder.sldprt 2\n",
      "festo dsnu-25-150-p-a.sldprt 2\n",
      "flat head screw m6.sldprt 2\n",
      "flexo 62506 -  x1520001.sldprt 2\n",
      "guide mount.sldprt 2\n",
      "guide rod.sldprt 8\n",
      "hex domed nut bs3692.sldprt 2\n",
      "hex full nut bs3692.sldprt 17\n",
      "hex full nut bs3692_st.sldprt 8\n",
      "hex head csk screw bs4168.sldprt 20\n",
      "hex head screw bs3692.sldprt 13\n",
      "hex nyloc nut bs3692.sldprt 21\n",
      "hex nyloc nut fine pitch.sldprt 4\n",
      "hex skt head cap screw bs4168.sldprt 28\n",
      "hex thin nut bs3692.sldprt 20\n",
      "hg_100s-mf2-xx-6ex parts 6 7 8 assy.sldasm 3\n",
      "hg_100s-mf2-xx-6ex-part-1.sldprt 3\n",
      "hg_100s-mf2-xx-6ex-part-10.sldprt 3\n",
      "hg_100s-mf2-xx-6ex-part-20.sldprt 3\n",
      "hg_100s-mf2-xx-6ex-part-33.sldprt 3\n",
      "hg_100s-mf2-xx-6ex-part-36.sldprt 3\n",
      "hg_100s-mf2-xx-6ex-part-37.sldprt 3\n",
      "hg_100s-mf2-xx-6ex-part-4.sldprt 3\n",
      "hg_100s-mf2-xx-6ex-part-6.sldprt 3\n",
      "hg_100s-mf2-xx-6ex-part-7.sldprt 3\n",
      "hg_100s-mf2-xx-6ex-part-8.sldprt 3\n",
      "hg_100s-mf2-xx-6ex-part-9.sldprt 3\n",
      "hg_100s-mf2-xx-6g1-part-22.sldprt 3\n",
      "hp820-k3-25 chain link.sldprt 4\n",
      "igus bearing flange type gtm (agile).sldprt 4\n",
      "igus bush type gfm (agile).sldprt 12\n",
      "igus bush type gfm.sldprt 11\n",
      "igus bush type gsm (agile).sldprt 4\n",
      "igus bush type gsm.sldprt 5\n",
      "igus bush type gtm.sldprt 4\n",
      "ina cam follower kr series (agile).sldprt 3\n",
      "ina cam follower krv series (agile).sldprt 7\n",
      "ina hfl roller clutch brg.sldprt 4\n",
      "ina ir inner ring.sldprt 3\n",
      "knob  ray part 1032  (x1610002).sldprt 3\n",
      "lee lc 029e-9(x1520436).sldprt 6\n",
      "locknut- sensors.sldprt 2\n",
      "m1440 grip rings.sldprt 6\n",
      "marbett bearing head x0540001 pt.198 code 59161.sldprt 9\n",
      "marbett foot x0540003 pt.98 code 6081.sldprt 10\n",
      "marbett support base pt.154 code 54451 (x0540002) .sldprt 9\n",
      "mmc8k (x0630116).sldprt 5\n",
      "mpl-b330p-mj22aa (n8800304).sldprt 3\n",
      "mst 273.sldprt 3\n",
      "mst 300.sldprt 4\n",
      "mst 317.sldprt 8\n",
      "mst 321.sldprt 2\n",
      "mst 325.sldprt 4\n",
      "mst 326.sldprt 9\n",
      "mst 328.sldprt 4\n",
      "mst 330.sldprt 5\n",
      "mst 332.sldprt 19\n",
      "mst 333.sldprt 8\n",
      "mst 335.sldprt 3\n",
      "mst 336.sldprt 5\n",
      "mst 338.sldprt 4\n",
      "mst 415.sldprt 4\n",
      "mst 456.sldprt 13\n",
      "mst 459.sldprt 6\n",
      "mst 460.sldprt 2\n",
      "mst 473.sldprt 6\n",
      "mst 474.sldprt 4\n",
      "mst 607.sldprt 4\n",
      "mst 830.sldprt 9\n",
      "mst 906.sldasm 7\n",
      "mst 906a.sldprt 8\n",
      "mst 906b.sldprt 8\n",
      "mst 907.sldprt 8\n",
      "mst 908.sldprt 8\n",
      "n8600076.sldprt 2\n",
      "n8800572 - ifm laser- oj5154.sldprt 4\n",
      "n8900015.sldasm 2\n",
      "nordson gun body for n8900015.sldprt 2\n",
      "nordson gun bodypart5.sldprt 6\n",
      "nordson gun bodypart6 nozzle 237-210d .sldprt 5\n",
      "nordson gun bodypart6.sldprt 6\n",
      "nordson gun for n8900015.sldprt 2\n",
      "nordson pro blue4 tank.sldprt 2\n",
      "oadby plastics cz04020003 (xo520056).sldprt 7\n",
      "oilite flanged bush type amf(agile).sldprt 4\n",
      "oilite plain bush type amc.sldprt 6\n",
      "part1.sldprt 57\n",
      "plastic washer(x1380133) for drivelock rivet.sldprt 7\n",
      "rhp c.r. flange brg type psf .sldprt 14\n",
      "rhp c.r. flange brg. type  psft  .sldprt 12\n",
      "rhp c.r. pillow block brg  type pnp.sldprt 4\n",
      "rhp silver luge brg insert j1025-25gcr.sldprt 3\n",
      "rsd40 lambda - connector.sldprt 2\n",
      "rsd40 lambda - inner.sldprt 2\n",
      "rsd60 lambda - connector.sldprt 2\n",
      "rsd60 lambda - inner.sldprt 2\n",
      "schmersal bns16 switch.sldprt 3\n",
      "schmersal bps16 actuator.sldprt 3\n",
      "selock pin.sldprt 6\n",
      "shrink disc.sldprt 2\n",
      "shrink disk - output arm.sldprt 2\n",
      "siko- da09s (short) indicator .sldprt 4\n",
      "skf  km 6 - locking nut - n8700025.sldprt 4\n",
      "smc cg-040-24a.sldprt 4\n",
      "smc cg1bn40-50 (x).sldprt 3\n",
      "soc button head srew.sldprt 4\n",
      "split collars - 2 piece.sldprt 4\n",
      "spring - comp - lee lc 051g 09 s - (n8700031).sldprt 4\n",
      "spring - comp - lee lc-026e-14s - (n8700021).sldprt 4\n",
      "spring washer.sldprt 12\n",
      "spring.sldprt 7\n",
      "spur output shaft.sldprt 2\n",
      "std collars.sldprt 7\n",
      "stock tandler box (psk2_fs_hw_0z-s2940-int).sldprt 2\n",
      "u-tube - vac.sldprt 5\n",
      "vac cup - vc 2c (x1030019).sldprt 8\n",
      "w-output(w-084).sldprt 2\n",
      "washer m6.sldprt 4\n",
      "washer-form a - sts.sldprt 8\n",
      "x1810003 24v dc solenoid valve (mac).sldprt 2\n"
     ]
    }
   ],
   "source": [
    "for k, v in file_paths.items():\n",
    "    print(k, len(v))"
   ]
  },
  {
   "cell_type": "code",
   "execution_count": 49,
   "metadata": {
    "scrolled": true
   },
   "outputs": [],
   "source": [
    "totalFiles = 0\n",
    "for k, v in file_paths.items():\n",
    "    totalFiles += len(v)"
   ]
  },
  {
   "cell_type": "code",
   "execution_count": 50,
   "metadata": {},
   "outputs": [],
   "source": [
    "occur_list = []\n",
    "for k, v in file_paths.items():\n",
    "    if len(v) not in occur_list:\n",
    "        occur_list.append(len(v))"
   ]
  },
  {
   "cell_type": "code",
   "execution_count": 51,
   "metadata": {},
   "outputs": [
    {
     "data": {
      "text/plain": [
       "[3, 2, 4, 6, 8, 5, 7, 13, 15, 18, 12, 9, 17, 20, 21, 28, 11, 10, 19, 57, 14]"
      ]
     },
     "execution_count": 51,
     "metadata": {},
     "output_type": "execute_result"
    }
   ],
   "source": [
    "occur_list"
   ]
  },
  {
   "cell_type": "code",
   "execution_count": 52,
   "metadata": {},
   "outputs": [],
   "source": [
    "occur_dict = {}\n",
    "for i in occur_list:\n",
    "    occur_dict[i] = 0\n",
    "    for v in file_paths.values():\n",
    "        if i == len(v):\n",
    "            occur_dict[i] += 1"
   ]
  },
  {
   "cell_type": "code",
   "execution_count": 53,
   "metadata": {},
   "outputs": [
    {
     "data": {
      "text/plain": [
       "2"
      ]
     },
     "execution_count": 53,
     "metadata": {},
     "output_type": "execute_result"
    }
   ],
   "source": [
    "min(occur_dict.keys())"
   ]
  },
  {
   "cell_type": "code",
   "execution_count": 59,
   "metadata": {},
   "outputs": [],
   "source": [
    "for value in occur_dict.values():\n",
    "    print(value)"
   ]
  },
  {
   "cell_type": "code",
   "execution_count": 54,
   "metadata": {},
   "outputs": [],
   "source": [
    "num_list = []\n",
    "occur_list = []\n",
    "for i in range(len(occur_dict)):\n",
    "    key = min(occur_dict.keys())\n",
    "    num_list.append(key)\n",
    "    value = occur_dict.pop(key)\n",
    "    occur_list.append(value)    "
   ]
  },
  {
   "cell_type": "code",
   "execution_count": 55,
   "metadata": {},
   "outputs": [
    {
     "data": {
      "text/plain": [
       "21"
      ]
     },
     "execution_count": 55,
     "metadata": {},
     "output_type": "execute_result"
    }
   ],
   "source": [
    "len(num_list)"
   ]
  },
  {
   "cell_type": "code",
   "execution_count": 56,
   "metadata": {},
   "outputs": [
    {
     "data": {
      "text/plain": [
       "21"
      ]
     },
     "execution_count": 56,
     "metadata": {},
     "output_type": "execute_result"
    }
   ],
   "source": [
    "len(occur_list)"
   ]
  },
  {
   "cell_type": "code",
   "execution_count": 57,
   "metadata": {},
   "outputs": [
    {
     "data": {
      "image/png": "[encoded data removed]",
      "text/plain": [
       "<Figure size 720x360 with 1 Axes>"
      ]
     },
     "metadata": {
      "needs_background": "light"
     },
     "output_type": "display_data"
    }
   ],
   "source": [
    "df = pd.DataFrame({'other paths':num_list, 'occurences':occur_list})\n",
    "title = f'{directory}\\nTotal files: {totalFiles}'\n",
    "ax = df.plot.bar(x='other paths', y='occurences', rot=0, figsize=(10, 5), title = title)"
   ]
  },
  {
   "cell_type": "code",
   "execution_count": 58,
   "metadata": {},
   "outputs": [
    {
     "data": {
      "text/plain": [
       "2"
      ]
     },
     "execution_count": 58,
     "metadata": {},
     "output_type": "execute_result"
    }
   ],
   "source": [
    "num_list[0]"
   ]
  },
  {
   "cell_type": "code",
   "execution_count": null,
   "metadata": {},
   "outputs": [],
   "source": []
  }
 ],
 "metadata": {
  "kernelspec": {
   "display_name": "Python 3",
   "language": "python",
   "name": "python3"
  },
  "language_info": {
   "codemirror_mode": {
    "name": "ipython",
    "version": 3
   },
   "file_extension": ".py",
   "mimetype": "text/x-python",
   "name": "python",
   "nbconvert_exporter": "python",
   "pygments_lexer": "ipython3",
   "version": "3.7.6"
  }
 },
 "nbformat": 4,
 "nbformat_minor": 4
}

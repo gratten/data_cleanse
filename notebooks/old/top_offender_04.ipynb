{
 "cells": [
  {
   "cell_type": "markdown",
   "metadata": {},
   "source": [
    "Most up to date top_offender approach, level 1"
   ]
  },
  {
   "cell_type": "code",
   "execution_count": 2,
   "metadata": {},
   "outputs": [],
   "source": [
    "# %load_ext autoreload\n",
    "# %reload_ext autoreload\n",
    "# %autoreload 2"
   ]
  },
  {
   "cell_type": "code",
   "execution_count": 3,
   "metadata": {},
   "outputs": [],
   "source": [
    "import os\n",
    "os.chdir('C:\\\\Users\\\\WDG1DCR\\\\Desktop\\\\my_projects\\\\data_analysis\\\\data_cleanse')\n",
    "# os.chdir('C:\\\\Users\\\\gratten\\\\Documents\\\\python\\\\projects\\\\data_cleanse')\n",
    "\n",
    "import pandas as pd\n",
    "from prep import filter\n",
    "from prep import sort\n",
    "from plot import bar\n",
    "from utility import generate"
   ]
  },
  {
   "cell_type": "code",
   "execution_count": 4,
   "metadata": {},
   "outputs": [],
   "source": [
    "fileName = 'filelist_8_13'\n",
    "df_og = pd.read_csv('datasets/' + fileName + '.csv', sep=';')"
   ]
  },
  {
   "cell_type": "code",
   "execution_count": 5,
   "metadata": {},
   "outputs": [],
   "source": [
    "df = filter.sld(df_og)"
   ]
  },
  {
   "cell_type": "code",
   "execution_count": 6,
   "metadata": {},
   "outputs": [],
   "source": [
    "dups = df[df.duplicated(['name_low'], keep=False)]\n",
    "dups = dups.sort_values(['name_low'])"
   ]
  },
  {
   "cell_type": "code",
   "execution_count": 7,
   "metadata": {},
   "outputs": [],
   "source": [
    "dups = dups.reset_index()"
   ]
  },
  {
   "cell_type": "code",
   "execution_count": 8,
   "metadata": {},
   "outputs": [],
   "source": [
    "top_offenders = dups['path'].value_counts().index.to_list()"
   ]
  },
  {
   "cell_type": "code",
   "execution_count": 9,
   "metadata": {},
   "outputs": [],
   "source": [
    "def build_data(dups, num):\n",
    "    directory = top_offenders[num]\n",
    "    \n",
    "    file_list = []\n",
    "    for i in range(len(dups['path'])):\n",
    "        if dups['path'][i] == top_offenders[num]:\n",
    "            file_list.append(dups['name_low'].iloc[i])\n",
    "            \n",
    "    file_paths = {}\n",
    "    for file in file_list:\n",
    "        dups_trimmed = dups[(dups['name_low'] == file)]\n",
    "        path_list = []\n",
    "        for path in dups_trimmed['path']:\n",
    "            path_list.append(path)\n",
    "        file_paths[file] = path_list\n",
    "        \n",
    "    totalFiles = 0\n",
    "    for k, v in file_paths.items():\n",
    "        totalFiles += len(v)\n",
    "    \n",
    "    occur_list = []\n",
    "    for k, v in file_paths.items():\n",
    "        if len(v) not in occur_list:\n",
    "            occur_list.append(len(v))\n",
    "    \n",
    "    occur_dict = {}\n",
    "    for i in occur_list:\n",
    "        occur_dict[i] = 0\n",
    "        for v in file_paths.values():\n",
    "            if i == len(v):\n",
    "                occur_dict[i] += 1\n",
    "                \n",
    "    num_list = []\n",
    "    occur_list = []\n",
    "    for i in range(len(occur_dict)):\n",
    "        key = min(occur_dict.keys())\n",
    "        num_list.append(key)\n",
    "        value = occur_dict.pop(key)\n",
    "        occur_list.append(value)    \n",
    "        \n",
    "#     print(totalFiles)\n",
    "        \n",
    "    return num_list, occur_list, totalFiles, file_paths"
   ]
  },
  {
   "cell_type": "code",
   "execution_count": 10,
   "metadata": {},
   "outputs": [],
   "source": [
    "def batch2(files_to_move):\n",
    "    os.chdir('H:/temp/data_cleanse_batch_files')\n",
    "    moveFileName = '8_13_new_files_to_remove.txt'\n",
    "    moveFile = open(moveFileName, 'w')\n",
    "    for i in files_to_move:\n",
    "        newLoc_path = i\n",
    "        newLoc_path = newLoc_path[7:]\n",
    "        newLoc_path = newLoc_path[:newLoc_path.rindex('\\\\')]\n",
    "        newLoc_path = newLoc_path.replace(' ', '')\n",
    "        newLoc_path = newLoc_path.replace(',', '')\n",
    "        newLoc = 'C:\\\\Users\\\\wdg1dcr\\\\Desktop\\\\dupBackup\\\\movedFiles2\\\\' + newLoc_path\n",
    "        moveFile.write(f'md {newLoc} 2> nul & move \\\"{i}\\\"*.* {newLoc}\\n')\n",
    "    moveFile.close()\n",
    "    os.chdir('C:\\\\Users\\\\WDG1DCR\\\\Desktop\\\\my_projects\\\\data_analysis\\\\data_cleanse')"
   ]
  },
  {
   "cell_type": "code",
   "execution_count": 11,
   "metadata": {},
   "outputs": [],
   "source": [
    "################################################\n",
    "# choose how many top offenders will be analyzed\n",
    "################################################\n",
    "count = 5\n",
    "\n",
    "# num_list, occur_list, totalFiles, file_paths = build_data(dups, num)"
   ]
  },
  {
   "cell_type": "code",
   "execution_count": 12,
   "metadata": {},
   "outputs": [
    {
     "name": "stdout",
     "output_type": "stream",
     "text": [
      "R:\\Doc\\SolidWorks\\Celox feeders\\Tandler models\\Tandler models 7.03.11\\9 inch opp S3080-I\n",
      "\n",
      "\n",
      "R:\\Doc\\SolidWorks\\HS4973 Kraft Tech Center (Celox)\\15 INCH FEEDER\\Tandler models\n",
      "\n",
      "\n",
      "R:\\Doc\\SolidWorks\\Celox feeders\\Tandler models\\Tandler models 7.03.11\\15 inch standard S3053-I\n",
      "\n",
      "\n",
      "R:\\Doc\\SolidWorks\\Celox feeders\\Tandler models\\Tandler models 7.03.11\\9 inch standard S3014-I\n",
      "\n",
      "\n",
      "R:\\Doc\\SolidWorks\\Celox feeders\\Tandler models\\Tandler models 7.03.11\\15 inch opp S3063-I\n",
      "\n",
      "\n"
     ]
    }
   ],
   "source": [
    "for i in top_offenders[:count]:\n",
    "    print(i)\n",
    "    print()\n",
    "    print()"
   ]
  },
  {
   "cell_type": "code",
   "execution_count": 13,
   "metadata": {},
   "outputs": [],
   "source": [
    "offender_list = top_offenders[5:7]"
   ]
  },
  {
   "cell_type": "code",
   "execution_count": 14,
   "metadata": {},
   "outputs": [
    {
     "data": {
      "text/plain": [
       "['R:\\\\Doc\\\\SolidWorks\\\\VOLDEMORT\\\\CONCEPT INSERTER PISTON\\\\17 may pusher face modified',\n",
       " 'R:\\\\Doc\\\\SolidWorks\\\\VOLDEMORT\\\\CONCEPT INSERTER PISTON\\\\may 2 concept']"
      ]
     },
     "execution_count": 14,
     "metadata": {},
     "output_type": "execute_result"
    }
   ],
   "source": [
    "offender_list"
   ]
  },
  {
   "cell_type": "code",
   "execution_count": 15,
   "metadata": {},
   "outputs": [],
   "source": [
    "# for i in offender_list:\n",
    "#     print(i)\n",
    "#     print()\n",
    "#     print()"
   ]
  },
  {
   "cell_type": "code",
   "execution_count": 16,
   "metadata": {},
   "outputs": [],
   "source": [
    "files_to_move = []\n",
    "file_names = []\n",
    "\n",
    "for x in range(len(offender_list)):\n",
    "    num_list, occur_list, totalFiles, file_paths = build_data(dups, x)\n",
    "    for k, v in file_paths.items():\n",
    "        for i in v:\n",
    "            if i not in offender_list[:x+1]:\n",
    "                file_with_path = i +  '\\\\' + k\n",
    "                if 'palette' not in file_with_path.lower():\n",
    "                    files_to_move.append(file_with_path)\n",
    "                    file_names.append(k)\n",
    "                    \n",
    "files_to_move = list(set(files_to_move))\n",
    "file_names = list(set(file_names))"
   ]
  },
  {
   "cell_type": "code",
   "execution_count": 17,
   "metadata": {},
   "outputs": [
    {
     "data": {
      "text/plain": [
       "'R:\\\\Doc\\\\SolidWorks\\\\Celox feeders\\\\Tandler models\\\\Tandler models 7.03.11\\\\15 inch standard S3053-I\\\\b1-ir_1.sldprt'"
      ]
     },
     "execution_count": 17,
     "metadata": {},
     "output_type": "execute_result"
    }
   ],
   "source": [
    "files_to_move[0]"
   ]
  },
  {
   "cell_type": "code",
   "execution_count": 18,
   "metadata": {},
   "outputs": [],
   "source": [
    "# CREATE BATCH FILE\n",
    "batch2(files_to_move)"
   ]
  },
  {
   "cell_type": "code",
   "execution_count": 19,
   "metadata": {},
   "outputs": [
    {
     "data": {
      "text/plain": [
       "522"
      ]
     },
     "execution_count": 19,
     "metadata": {},
     "output_type": "execute_result"
    }
   ],
   "source": [
    "len(files_to_move)"
   ]
  },
  {
   "cell_type": "code",
   "execution_count": 20,
   "metadata": {},
   "outputs": [
    {
     "data": {
      "text/plain": [
       "110"
      ]
     },
     "execution_count": 20,
     "metadata": {},
     "output_type": "execute_result"
    }
   ],
   "source": [
    "len(file_names)"
   ]
  },
  {
   "cell_type": "code",
   "execution_count": 21,
   "metadata": {
    "scrolled": false
   },
   "outputs": [
    {
     "name": "stdout",
     "output_type": "stream",
     "text": [
      "d471d25s1_2a2.3.sldprt\n",
      "t6.sldprt\n",
      "b1-kug_3.sldprt\n",
      "b1-ar_6.sldprt\n",
      "or_28x3.sldprt\n",
      "pl2_fs_00-1.1-37_ktr.sldprt\n",
      "01-1.sldprt\n",
      "b1-kug_6.sldprt\n",
      "b1-ar_4.sldprt\n",
      "pass-schulterschraube_m_8x25_din_7379-10.sldprt\n",
      "d3760as50x65x7.sldprt\n",
      "b1-kug_1.sldprt\n",
      "b1-ir.sldprt\n",
      "schraube_m_6x25_din_6912.3.sldprt\n",
      "ecoloc_7061-20x38.sldprt\n",
      "t3.sldprt\n",
      "7206-bep.sldasm\n",
      "or_36x2.1.sldprt\n",
      "stg-b1-1.2.sldprt\n",
      "stg_b1-1.1-22-s_3063-i.sldprt\n",
      "b1-ir_7.sldprt\n",
      "b1-ir_3.sldprt\n",
      "b1-ar_3.sldprt\n",
      "hw_01-2.sldprt\n",
      "b1.sldasm\n",
      "ga_45x7.sldasm\n",
      "kr22pp_rolle.sldprt\n",
      "or_70x2.2.sldprt\n",
      "6005-qe6.sldasm\n",
      "d3760as38x52x7.sldprt\n",
      "kr22pp_bolzen.sldprt\n",
      "ecoloc_7061-20x38.1.sldprt\n",
      "pl2_fs_00-5.sldasm\n",
      "ecoloc_7061-40x65_.sldprt\n",
      "pl2_fs_00-4.1-36b.sldprt\n",
      "pl_fs_00-5.1-36a.sldprt\n",
      "b1-kug_5.sldprt\n",
      "stg-b1-1.1-1-s_3053-i.sldprt\n",
      "d908m30x1_5n1.sldprt\n",
      "schraube_m_4x12_din_912.3.sldprt\n",
      "6005-qe6.2.sldasm\n",
      "fb_3430_(as_1024).sldprt\n",
      "ecoloc_7061-20x38.2.sldasm\n",
      "psk2_0z-2.sldprt\n",
      "6005-2rs1.sldasm\n",
      "b1-ir_2.sldprt\n",
      "b1-ir_4.sldprt\n",
      "d988p56x72x1.sldprt\n",
      "kr22pp_scheibe.sldprt\n",
      "7207-bep.sldasm\n",
      "d6885t1a6x6x40l1.sldprt\n",
      "01-1.1.sldprt\n",
      "or_330x4.sldprt\n",
      "schraube_m_6x16_din_7991.sldprt\n",
      "stg_b1-1.1-21-s_3063-i.sldprt\n",
      "or250x4.sldprt\n",
      "b1-ir_5.sldprt\n",
      "b1-ar.sldprt\n",
      "d471d25s1_2a2.4.sldprt\n",
      "stg_a1-1.sldprt\n",
      "pl2_fs_00-1.sldprt\n",
      "b1-ir_1.sldprt\n",
      "d988p40x50x1.sldprt\n",
      "6208.sldasm\n",
      "d472d37s1_5a2.sldprt\n",
      "psk2_0z-1.sldprt\n",
      "d3760a25x45x7.sldprt\n",
      "stg_b1-1.1-4-s_3063-i.sldprt\n",
      "sicherungsmutter_m_m_10x1_din_980.1.sldprt\n",
      "stg_b1-1.1-26-s_3063-i.sldprt\n",
      "pl_00-9.sldprt\n",
      "stg_hw_b1-10.sldasm\n",
      "stg_a1-1.1.sldprt\n",
      "schraube_m_6x50_din_6912.3.sldprt\n",
      "61805-y.sldasm\n",
      "b1-ar_1.sldprt\n",
      "b1-ir_6.sldprt\n",
      "pl2_00-1.sldprt\n",
      "ga_45x7-inner_ring-st.sldprt\n",
      "hw-01-15.sldprt\n",
      "kr22pp_nadel.sldprt\n",
      "or_69x1.5.sldprt\n",
      "b1-kug_7.sldprt\n",
      "d3760a22x47x7.2.sldprt\n",
      "b1-kug_4.sldprt\n",
      "d6885t1a10x6x50l1.sldprt\n",
      "or_11x2.sldprt\n",
      "km6.sldprt\n",
      "schraube_m_6x16_din_6912.7.sldprt\n",
      "6010-2rs1.sldasm\n",
      "k_10x16x12_kranz.sldprt\n",
      "ecoloc_7061-40x65.sldasm\n",
      "psk2_0z-5.sldprt\n",
      "stg_b1-1.sldprt\n",
      "schraube_m_5x20_din_6912.17.sldprt\n",
      "b1-ar_2.sldprt\n",
      "t4.sldprt\n",
      "b1-kug_2.sldprt\n",
      "ecoloc_7061-20x38.3.sldasm\n",
      "stg_hw_a1-10.sldasm\n",
      "b1-ar_7.sldprt\n",
      "b1-kug.sldprt\n",
      "ecoloc_7061-40x65_.1.sldprt\n",
      "b1-ar_5.sldprt\n",
      "k_10x16x12.sldasm\n",
      "k_10x16x12_rolle.sldprt\n",
      "ga_45x7-outer_ring-nbr.sldprt\n",
      "t1.sldprt\n",
      "t2.sldprt\n",
      "kr22pp_nadelkaefig.sldprt\n"
     ]
    }
   ],
   "source": [
    "for i in file_names:\n",
    "    print(i)"
   ]
  },
  {
   "cell_type": "code",
   "execution_count": 22,
   "metadata": {
    "scrolled": false
   },
   "outputs": [],
   "source": [
    "# for i in files_to_move:\n",
    "#     print(i)"
   ]
  },
  {
   "cell_type": "code",
   "execution_count": null,
   "metadata": {},
   "outputs": [],
   "source": []
  }
 ],
 "metadata": {
  "kernelspec": {
   "display_name": "Python 3",
   "language": "python",
   "name": "python3"
  },
  "language_info": {
   "codemirror_mode": {
    "name": "ipython",
    "version": 3
   },
   "file_extension": ".py",
   "mimetype": "text/x-python",
   "name": "python",
   "nbconvert_exporter": "python",
   "pygments_lexer": "ipython3",
   "version": "3.7.6"
  }
 },
 "nbformat": 4,
 "nbformat_minor": 4
}

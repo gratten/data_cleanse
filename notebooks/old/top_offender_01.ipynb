{
 "cells": [
  {
   "cell_type": "markdown",
   "metadata": {},
   "source": [
    "Most up to date top_offender approach, level 1"
   ]
  },
  {
   "cell_type": "code",
   "execution_count": 1,
   "metadata": {},
   "outputs": [],
   "source": [
    "# %load_ext autoreload\n",
    "# %reload_ext autoreload\n",
    "# %autoreload 2"
   ]
  },
  {
   "cell_type": "code",
   "execution_count": 2,
   "metadata": {},
   "outputs": [
    {
     "ename": "ImportError",
     "evalue": "cannot import name 'filter' from 'prep' (C:\\Users\\WDG1DCR\\Desktop\\my_projects\\data_analysis\\data_cleanse\\prep\\__init__.py)",
     "output_type": "error",
     "traceback": [
      "\u001b[1;31m---------------------------------------------------------------------------\u001b[0m",
      "\u001b[1;31mImportError\u001b[0m                               Traceback (most recent call last)",
      "\u001b[1;32m<ipython-input-2-f58fdca3b96e>\u001b[0m in \u001b[0;36m<module>\u001b[1;34m\u001b[0m\n\u001b[0;32m      4\u001b[0m \u001b[1;33m\u001b[0m\u001b[0m\n\u001b[0;32m      5\u001b[0m \u001b[1;32mimport\u001b[0m \u001b[0mpandas\u001b[0m \u001b[1;32mas\u001b[0m \u001b[0mpd\u001b[0m\u001b[1;33m\u001b[0m\u001b[1;33m\u001b[0m\u001b[0m\n\u001b[1;32m----> 6\u001b[1;33m \u001b[1;32mfrom\u001b[0m \u001b[0mprep\u001b[0m \u001b[1;32mimport\u001b[0m \u001b[0mfilter\u001b[0m\u001b[1;33m\u001b[0m\u001b[1;33m\u001b[0m\u001b[0m\n\u001b[0m\u001b[0;32m      7\u001b[0m \u001b[1;32mfrom\u001b[0m \u001b[0mprep\u001b[0m \u001b[1;32mimport\u001b[0m \u001b[0msort\u001b[0m\u001b[1;33m\u001b[0m\u001b[1;33m\u001b[0m\u001b[0m\n\u001b[0;32m      8\u001b[0m \u001b[1;32mfrom\u001b[0m \u001b[0mplot\u001b[0m \u001b[1;32mimport\u001b[0m \u001b[0mbar\u001b[0m\u001b[1;33m\u001b[0m\u001b[1;33m\u001b[0m\u001b[0m\n",
      "\u001b[1;31mImportError\u001b[0m: cannot import name 'filter' from 'prep' (C:\\Users\\WDG1DCR\\Desktop\\my_projects\\data_analysis\\data_cleanse\\prep\\__init__.py)"
     ]
    }
   ],
   "source": [
    "import os\n",
    "os.chdir('C:\\\\Users\\\\WDG1DCR\\\\Desktop\\\\my_projects\\\\data_analysis\\\\data_cleanse')\n",
    "# os.chdir('C:\\\\Users\\\\gratten\\\\Documents\\\\python\\\\projects\\\\data_cleanse')\n",
    "\n",
    "import pandas as pd\n",
    "from prep import filterx\n",
    "from prep import sort\n",
    "from plot import bar\n",
    "from utility import generate"
   ]
  },
  {
   "cell_type": "code",
   "execution_count": null,
   "metadata": {},
   "outputs": [],
   "source": [
    "fileName = 'filelist_8_20'\n",
    "df_og = pd.read_csv('datasets/' + fileName + '.csv', sep=';')"
   ]
  },
  {
   "cell_type": "code",
   "execution_count": null,
   "metadata": {},
   "outputs": [],
   "source": [
    "df = filterx.sld(df_og)"
   ]
  },
  {
   "cell_type": "code",
   "execution_count": null,
   "metadata": {},
   "outputs": [],
   "source": [
    "dups = df[df.duplicated(['name_low'], keep=False)]\n",
    "dups = dups.sort_values(['name_low'])"
   ]
  },
  {
   "cell_type": "code",
   "execution_count": null,
   "metadata": {},
   "outputs": [],
   "source": [
    "dups = dups.reset_index()"
   ]
  },
  {
   "cell_type": "code",
   "execution_count": null,
   "metadata": {
    "scrolled": true
   },
   "outputs": [],
   "source": [
    "dups.head()"
   ]
  },
  {
   "cell_type": "code",
   "execution_count": null,
   "metadata": {},
   "outputs": [],
   "source": [
    "# dups['path'].value_counts()"
   ]
  },
  {
   "cell_type": "code",
   "execution_count": null,
   "metadata": {},
   "outputs": [],
   "source": [
    "top_offenders = dups['path'].value_counts().index.to_list()"
   ]
  },
  {
   "cell_type": "code",
   "execution_count": null,
   "metadata": {},
   "outputs": [],
   "source": [
    "len(top_offenders)"
   ]
  },
  {
   "cell_type": "code",
   "execution_count": null,
   "metadata": {},
   "outputs": [],
   "source": [
    "def build_data(dups, num):\n",
    "    directory = top_offenders[num]\n",
    "    \n",
    "    file_list = []\n",
    "    for i in range(len(dups['path'])):\n",
    "        if dups['path'][i] == top_offenders[num]:\n",
    "            file_list.append(dups['name_low'].iloc[i])\n",
    "            \n",
    "    file_paths = {}\n",
    "    for file in file_list:\n",
    "        dups_trimmed = dups[(dups['name_low'] == file)]\n",
    "        path_list = []\n",
    "        for path in dups_trimmed['path']:\n",
    "            path_list.append(path)\n",
    "        file_paths[file] = path_list\n",
    "        \n",
    "    totalFiles = 0\n",
    "    for k, v in file_paths.items():\n",
    "        totalFiles += len(v)\n",
    "    \n",
    "    occur_list = []\n",
    "    for k, v in file_paths.items():\n",
    "        if len(v) not in occur_list:\n",
    "            occur_list.append(len(v))\n",
    "    \n",
    "    occur_dict = {}\n",
    "    for i in occur_list:\n",
    "        occur_dict[i] = 0\n",
    "        for v in file_paths.values():\n",
    "            if i == len(v):\n",
    "                occur_dict[i] += 1\n",
    "                \n",
    "    num_list = []\n",
    "    occur_list = []\n",
    "    for i in range(len(occur_dict)):\n",
    "        key = min(occur_dict.keys())\n",
    "        num_list.append(key)\n",
    "        value = occur_dict.pop(key)\n",
    "        occur_list.append(value)    \n",
    "        \n",
    "#     print(totalFiles)\n",
    "        \n",
    "    return num_list, occur_list, totalFiles, file_paths"
   ]
  },
  {
   "cell_type": "code",
   "execution_count": null,
   "metadata": {},
   "outputs": [],
   "source": [
    "def build_data2(offender, file_paths, quant):\n",
    "    \n",
    "    file_paths_trimmed = {}\n",
    "    for k, v in file_paths.items():\n",
    "        if offender in v:\n",
    "            if len(v) == quant: \n",
    "                file_paths_trimmed[k] = v\n",
    "                \n",
    "    path_list = []\n",
    "    for v in file_paths_trimmed.values():\n",
    "        for i in v:\n",
    "            path_list.append(i)\n",
    "            \n",
    "    path_list = pd.Series(path_list)\n",
    "    \n",
    "    occurence_list = path_list.value_counts().to_list()\n",
    "    \n",
    "    path_list = path_list.value_counts().index.to_list()\n",
    "    \n",
    "    return occurence_list, path_list, file_paths_trimmed"
   ]
  },
  {
   "cell_type": "code",
   "execution_count": null,
   "metadata": {},
   "outputs": [],
   "source": [
    "def batch2(files_to_move):\n",
    "    os.chdir('H:/temp/data_cleanse_batch_files')\n",
    "    moveFileName = '8_19_files_to_remove.txt'\n",
    "    moveFile = open(moveFileName, 'w')\n",
    "    for i in files_to_move:\n",
    "        newLoc_path = i\n",
    "        newLoc_path = newLoc_path[7:]\n",
    "        newLoc_path = newLoc_path[:newLoc_path.rindex('\\\\')]\n",
    "        newLoc_path = newLoc_path.replace(' ', '')\n",
    "        newLoc = 'C:\\\\Users\\\\wdg1dcr\\\\Desktop\\\\dupBackup\\\\movedFiles2\\\\' + newLoc_path\n",
    "        moveFile.write(f'md {newLoc} 2> nul & move \\\"{i}\\\"*.* {newLoc}\\n')\n",
    "    moveFile.close()\n",
    "    os.chdir('C:\\\\Users\\\\WDG1DCR\\\\Desktop\\\\my_projects\\\\data_analysis\\\\data_cleanse')"
   ]
  },
  {
   "cell_type": "code",
   "execution_count": null,
   "metadata": {},
   "outputs": [],
   "source": [
    "def chart_em(num_list, occur_list, x):\n",
    "    \n",
    "    df = pd.DataFrame({'other paths':num_list, 'occurences':occur_list})\n",
    "    title = f'{top_offenders[i]}\\nTotal files: {totalFiles_list[i]}\\n Chart {x}'\n",
    "    ax = df.plot.bar(x='other paths', y='occurences', rot=0, figsize=(10, 5), title = title)"
   ]
  },
  {
   "cell_type": "code",
   "execution_count": null,
   "metadata": {},
   "outputs": [],
   "source": [
    "def chart_em2(list1, list2):\n",
    "    df = pd.DataFrame({'other paths':list1, 'occurences':list2})\n",
    "#     title = f'{titleA}'\n",
    "    ax = df.plot.barh(x='other paths', y='occurences', rot=0, figsize=(3, 7))"
   ]
  },
  {
   "cell_type": "code",
   "execution_count": null,
   "metadata": {},
   "outputs": [],
   "source": [
    "############################################\n",
    "# limit for how many charts to generate\n",
    "############################################\n",
    "my_range = 20\n",
    "\n",
    "num_list_list = []\n",
    "occur_list_list = []\n",
    "totalFiles_list = []\n",
    "file_paths_list = []\n",
    "\n",
    "for i in range(my_range):\n",
    "    outputA, outputB, totalFiles, file_paths = build_data(dups, i)\n",
    "    num_list_list.append(outputA)\n",
    "    occur_list_list.append(outputB)\n",
    "    totalFiles_list.append(totalFiles)\n",
    "    file_paths_list.append(file_paths)"
   ]
  },
  {
   "cell_type": "code",
   "execution_count": null,
   "metadata": {
    "scrolled": true
   },
   "outputs": [],
   "source": [
    "for i in range(len(num_list_list)):\n",
    "    chart_em(num_list_list[i], occur_list_list[i], i)"
   ]
  },
  {
   "cell_type": "code",
   "execution_count": null,
   "metadata": {},
   "outputs": [],
   "source": [
    "############################################\n",
    "# choose chart num and column for file list\n",
    "############################################\n",
    "chart_num = 10\n",
    "quant = 2"
   ]
  },
  {
   "cell_type": "code",
   "execution_count": null,
   "metadata": {},
   "outputs": [],
   "source": [
    "occurence_list, path_list, file_paths_trimmed = build_data2(top_offenders[chart_num], file_paths_list[chart_num], quant)"
   ]
  },
  {
   "cell_type": "code",
   "execution_count": null,
   "metadata": {
    "scrolled": false
   },
   "outputs": [],
   "source": [
    "chart_em2(path_list, occurence_list)"
   ]
  },
  {
   "cell_type": "code",
   "execution_count": null,
   "metadata": {},
   "outputs": [],
   "source": [
    "############################################\n",
    "# choose path to maintain, all others will be deleted\n",
    "############################################\n",
    "choose_path2 = 0\n",
    "\n",
    "print(path_list[choose_path2])\n",
    "\n",
    "file_list = []\n",
    "for i in path_list:\n",
    "    if i != path_list[choose_path2]:\n",
    "        for k, v in file_paths_trimmed.items():\n",
    "            if i in v:\n",
    "                file_and_path = i + '\\\\' + k\n",
    "                file_list.append(file_and_path)\n",
    "                \n",
    "# batch2(file_list)"
   ]
  },
  {
   "cell_type": "code",
   "execution_count": null,
   "metadata": {
    "scrolled": true
   },
   "outputs": [],
   "source": [
    "for i in path_list:\n",
    "    print(i)"
   ]
  },
  {
   "cell_type": "code",
   "execution_count": null,
   "metadata": {},
   "outputs": [],
   "source": [
    "# SORT BY FILES SIZE\n",
    "file_list = []\n",
    "for k in file_paths_trimmed.keys():\n",
    "    file_list.append(k)"
   ]
  },
  {
   "cell_type": "code",
   "execution_count": null,
   "metadata": {},
   "outputs": [],
   "source": [
    "dups_trimmed = dups[dups['name_low'].isin(file_list)]"
   ]
  },
  {
   "cell_type": "code",
   "execution_count": null,
   "metadata": {
    "scrolled": true
   },
   "outputs": [],
   "source": [
    "for i in range(len(dups_trimmed['size'])):    \n",
    "    value1 = dups_trimmed['size'].iloc[i]\n",
    "    value1 = value1.replace(',','')\n",
    "    value1 = int(value1)\n",
    "    dups_trimmed['size'].iloc[i] = value1"
   ]
  },
  {
   "cell_type": "code",
   "execution_count": null,
   "metadata": {},
   "outputs": [],
   "source": [
    "dups_trimmed = dups_trimmed.sort_values(by=['size'], ascending=False)"
   ]
  },
  {
   "cell_type": "code",
   "execution_count": null,
   "metadata": {},
   "outputs": [],
   "source": [
    "dups_trimmed.reset_index(inplace=True, drop=True)"
   ]
  },
  {
   "cell_type": "code",
   "execution_count": null,
   "metadata": {},
   "outputs": [],
   "source": [
    "# dups_trimmed.head()"
   ]
  },
  {
   "cell_type": "code",
   "execution_count": null,
   "metadata": {
    "scrolled": true
   },
   "outputs": [],
   "source": [
    "fname = '20345-310-11.sldprt'\n",
    "\n",
    "dups_trimmed[dups_trimmed['name_low'] == fname]"
   ]
  },
  {
   "cell_type": "code",
   "execution_count": null,
   "metadata": {},
   "outputs": [],
   "source": [
    "for i in dups_trimmed['name_low'].unique():\n",
    "    print(i)"
   ]
  },
  {
   "cell_type": "code",
   "execution_count": null,
   "metadata": {},
   "outputs": [],
   "source": []
  }
 ],
 "metadata": {
  "kernelspec": {
   "display_name": "Python 3",
   "language": "python",
   "name": "python3"
  },
  "language_info": {
   "codemirror_mode": {
    "name": "ipython",
    "version": 3
   },
   "file_extension": ".py",
   "mimetype": "text/x-python",
   "name": "python",
   "nbconvert_exporter": "python",
   "pygments_lexer": "ipython3",
   "version": "3.7.6"
  }
 },
 "nbformat": 4,
 "nbformat_minor": 4
}

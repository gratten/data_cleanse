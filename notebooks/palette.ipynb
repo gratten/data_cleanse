{
 "cells": [
  {
   "cell_type": "markdown",
   "metadata": {},
   "source": [
    "Most up to date top_offender approach, level 1"
   ]
  },
  {
   "cell_type": "code",
   "execution_count": 75,
   "metadata": {},
   "outputs": [],
   "source": [
    "# %load_ext autoreload\n",
    "# %reload_ext autoreload\n",
    "# %autoreload 2"
   ]
  },
  {
   "cell_type": "code",
   "execution_count": 76,
   "metadata": {},
   "outputs": [],
   "source": [
    "import os\n",
    "os.chdir('C:\\\\Users\\\\WDG1DCR\\\\Desktop\\\\my_projects\\\\data_analysis\\\\data_cleanse')\n",
    "# os.chdir('C:\\\\Users\\\\gratten\\\\Documents\\\\python\\\\projects\\\\data_cleanse')\n",
    "\n",
    "import pandas as pd\n",
    "from prep import filterx\n",
    "from prep import sort\n",
    "# from prep import build\n",
    "from plot import bar\n",
    "from utility import generate"
   ]
  },
  {
   "cell_type": "code",
   "execution_count": 77,
   "metadata": {},
   "outputs": [],
   "source": [
    "fileName = 'filelist_9_02_c'\n",
    "df_og = pd.read_csv('datasets/' + fileName + '.csv', sep=';')"
   ]
  },
  {
   "cell_type": "code",
   "execution_count": 78,
   "metadata": {},
   "outputs": [],
   "source": [
    "df = filterx.sld(df_og)"
   ]
  },
  {
   "cell_type": "code",
   "execution_count": 79,
   "metadata": {},
   "outputs": [],
   "source": [
    "dups = df[df.duplicated(['name_low'], keep=False)]\n",
    "dups = dups.sort_values(['name_low'])"
   ]
  },
  {
   "cell_type": "code",
   "execution_count": 80,
   "metadata": {},
   "outputs": [],
   "source": [
    "dups = dups.reset_index()"
   ]
  },
  {
   "cell_type": "code",
   "execution_count": 81,
   "metadata": {},
   "outputs": [],
   "source": [
    "top_offenders = dups['path'].value_counts().index.to_list()"
   ]
  },
  {
   "cell_type": "code",
   "execution_count": 82,
   "metadata": {},
   "outputs": [],
   "source": [
    "def build_data(dups, num):\n",
    "    directory = top_offenders[num]\n",
    "    \n",
    "    file_list = []\n",
    "    for i in range(len(dups['path'])):\n",
    "        if dups['path'][i] == top_offenders[num]:\n",
    "            file_list.append(dups['name_low'].iloc[i])\n",
    "            \n",
    "    file_paths = {}\n",
    "    for file in file_list:\n",
    "        dups_trimmed = dups[(dups['name_low'] == file)]\n",
    "        path_list = []\n",
    "        for path in dups_trimmed['path']:\n",
    "            path_list.append(path)\n",
    "        file_paths[file] = path_list\n",
    "        \n",
    "    totalFiles = 0\n",
    "    for k, v in file_paths.items():\n",
    "        totalFiles += len(v)\n",
    "    \n",
    "    occur_list = []\n",
    "    for k, v in file_paths.items():\n",
    "        if len(v) not in occur_list:\n",
    "            occur_list.append(len(v))\n",
    "    \n",
    "    occur_dict = {}\n",
    "    for i in occur_list:\n",
    "        occur_dict[i] = 0\n",
    "        for v in file_paths.values():\n",
    "            if i == len(v):\n",
    "                occur_dict[i] += 1\n",
    "                \n",
    "    num_list = []\n",
    "    occur_list = []\n",
    "    for i in range(len(occur_dict)):\n",
    "        key = min(occur_dict.keys())\n",
    "        num_list.append(key)\n",
    "        value = occur_dict.pop(key)\n",
    "        occur_list.append(value)    \n",
    "        \n",
    "#     print(totalFiles)\n",
    "        \n",
    "    return num_list, occur_list, totalFiles, file_paths"
   ]
  },
  {
   "cell_type": "code",
   "execution_count": 83,
   "metadata": {},
   "outputs": [],
   "source": [
    "# def batch2(files_to_move):\n",
    "#     os.chdir('H:/temp/data_cleanse_batch_files')\n",
    "#     moveFileName = '9_02_files_to_remove_palette_script.txt'\n",
    "#     moveFile = open(moveFileName, 'w')\n",
    "#     for i in files_to_move:\n",
    "#         newLoc_path = i\n",
    "#         newLoc_path = newLoc_path[7:]\n",
    "#         print(newLoc_path)\n",
    "#         newLoc_path = newLoc_path[:newLoc_path.rindex('\\\\')]\n",
    "#         newLoc_path = newLoc_path.replace(' ', '')\n",
    "#         newLoc_path = newLoc_path.replace(',', '')\n",
    "#         newLoc = 'C:\\\\Users\\\\wdg1dcr\\\\Desktop\\\\dupBackup\\\\movedFiles2\\\\' + newLoc_path\n",
    "#         moveFile.write(f'md {newLoc} 2> nul & move \\\"{i}\\\"*.* {newLoc}\\n')\n",
    "#     moveFile.close()\n",
    "#     os.chdir('C:\\\\Users\\\\WDG1DCR\\\\Desktop\\\\my_projects\\\\data_analysis\\\\data_cleanse')"
   ]
  },
  {
   "cell_type": "code",
   "execution_count": 84,
   "metadata": {},
   "outputs": [],
   "source": [
    "################################################\n",
    "# choose how many top offenders will be analyzed\n",
    "################################################\n",
    "count = 500\n",
    "\n",
    "# num_list, occur_list, totalFiles, file_paths = build_data(dups, num)"
   ]
  },
  {
   "cell_type": "code",
   "execution_count": 85,
   "metadata": {},
   "outputs": [
    {
     "data": {
      "text/plain": [
       "557"
      ]
     },
     "execution_count": 85,
     "metadata": {},
     "output_type": "execute_result"
    }
   ],
   "source": [
    "len(top_offenders)"
   ]
  },
  {
   "cell_type": "code",
   "execution_count": 86,
   "metadata": {},
   "outputs": [],
   "source": [
    "offender_list = top_offenders#[:count]\n",
    "# offender_list = top_offenders"
   ]
  },
  {
   "cell_type": "code",
   "execution_count": 87,
   "metadata": {},
   "outputs": [],
   "source": [
    "# for i in offender_list:\n",
    "#     print(i)"
   ]
  },
  {
   "cell_type": "code",
   "execution_count": 88,
   "metadata": {},
   "outputs": [],
   "source": [
    "from collections import defaultdict\n",
    "\n",
    "# {file1:[<path1 with 'palette'>, <path2 with 'palette'>, etc]}\n",
    "palette_keep_dict = defaultdict(list)\n",
    "\n",
    "# {file1:[<path1 without 'palette'>, <path2 without 'palette'>, etc]}\n",
    "palette_del_dict = defaultdict(list)\n",
    "\n",
    "for x in range(len(offender_list)):\n",
    "    num_list, occur_list, totalFiles, file_paths = build_data(dups, x)\n",
    "#     num_list, occur_list, totalFiles, file_paths = build.data1(dups, x)\n",
    "    for k, v in file_paths.items():\n",
    "        for i in v:\n",
    "            if 'palette' in i.lower():\n",
    "                palette_keep_dict[k].append(i)\n",
    "            else:\n",
    "                palette_del_dict[k].append(i)             "
   ]
  },
  {
   "cell_type": "code",
   "execution_count": 89,
   "metadata": {},
   "outputs": [],
   "source": [
    "for k, v in palette_keep_dict.items():\n",
    "    palette_keep_dict[k] = list(set(v))"
   ]
  },
  {
   "cell_type": "code",
   "execution_count": 90,
   "metadata": {},
   "outputs": [],
   "source": [
    "# for k, v in palette_keep_dict.items():\n",
    "#     print(k)\n",
    "#     for i in v:\n",
    "#         print(i)\n",
    "#     print()"
   ]
  },
  {
   "cell_type": "code",
   "execution_count": 91,
   "metadata": {},
   "outputs": [
    {
     "name": "stdout",
     "output_type": "stream",
     "text": [
      "m6 soc set scr.sldprt\n",
      "R:\\Doc\\SolidWorks\\SolidWorks Palette\\Palette Parts\\Hardware\\Metric\n",
      "R:\\Doc\\SolidWorks\\SolidWorks Palette\\Palette Parts\\Fasteners\n",
      "\n",
      "nut.sldprt\n",
      "R:\\Doc\\SolidWorks\\SolidWorks Palette\\Palette Parts\\Hardware\\Inch\\metric\n",
      "R:\\Doc\\SolidWorks\\SolidWorks Palette\\Palette Parts\\Hardware\\Metric\n",
      "R:\\Doc\\SolidWorks\\SolidWorks Palette\\Palette Parts\\Hardware\n",
      "\n",
      "118972 val smc as1201f-m5-06.sldprt\n",
      "R:\\Doc\\SolidWorks\\SolidWorks Palette\\Palette Parts\\Valves\n",
      "R:\\Doc\\SolidWorks\\SolidWorks Palette\\Palette Parts\\Fittings\n",
      "\n"
     ]
    }
   ],
   "source": [
    "# FILENAMES THAT OCCUR IN MULTIPLE 'PALETTE' LOCATIONS\n",
    "count = 0\n",
    "for k, v in palette_keep_dict.items():\n",
    "    if len(v) > 1:\n",
    "        count += len(v)\n",
    "        print(k)\n",
    "        for i in v:\n",
    "            i = i.replace('\\\\\\dcrsolidworks.patec.group\\\\Engineer1_E', 'R:')\n",
    "            print(i)\n",
    "        print()"
   ]
  },
  {
   "cell_type": "code",
   "execution_count": 92,
   "metadata": {},
   "outputs": [],
   "source": [
    "# assesss files that occur only one time in a 'palette' directory, deletes all other directories\n",
    "files_to_move = []\n",
    "for k, v in palette_del_dict.items():\n",
    "    if len(palette_keep_dict[k]) == 1:\n",
    "        for i in v:\n",
    "            i = i.replace('\\\\\\dcrsolidworks.patec.group\\\\Engineer1_E', 'R:')\n",
    "            file_and_path = i + '\\\\' + k\n",
    "            files_to_move.append(file_and_path)"
   ]
  },
  {
   "cell_type": "code",
   "execution_count": 93,
   "metadata": {},
   "outputs": [],
   "source": [
    "# # assesses files that occur in more than one 'palette' directory, removes all but the shortest directory\n",
    "# files_to_move = []\n",
    "# for k, v in palette_keep_dict.items():\n",
    "#     if len(palette_keep_dict[k]) > 1:\n",
    "#         path_to_keep = min(v, key=len)\n",
    "#         v.remove(path_to_keep)\n",
    "#         for path in v:\n",
    "#             path = path.replace('\\\\\\dcrsolidworks.patec.group\\\\Engineer1_E', 'R:')\n",
    "#             file_and_path = path + '\\\\' + k\n",
    "#             files_to_move.append(file_and_path)"
   ]
  },
  {
   "cell_type": "code",
   "execution_count": 94,
   "metadata": {},
   "outputs": [],
   "source": [
    "files_to_move = list(set(files_to_move))"
   ]
  },
  {
   "cell_type": "code",
   "execution_count": 95,
   "metadata": {},
   "outputs": [
    {
     "data": {
      "text/plain": [
       "6"
      ]
     },
     "execution_count": 95,
     "metadata": {},
     "output_type": "execute_result"
    }
   ],
   "source": [
    "len(files_to_move)"
   ]
  },
  {
   "cell_type": "code",
   "execution_count": 96,
   "metadata": {},
   "outputs": [],
   "source": [
    "###GENERATE BATCH FILE###\n",
    "output_fname = '9_04_files_to_remove_palette_script'\n",
    "# generate.batch2(output_fname, file_list)"
   ]
  },
  {
   "cell_type": "code",
   "execution_count": null,
   "metadata": {},
   "outputs": [],
   "source": []
  }
 ],
 "metadata": {
  "kernelspec": {
   "display_name": "Python 3",
   "language": "python",
   "name": "python3"
  },
  "language_info": {
   "codemirror_mode": {
    "name": "ipython",
    "version": 3
   },
   "file_extension": ".py",
   "mimetype": "text/x-python",
   "name": "python",
   "nbconvert_exporter": "python",
   "pygments_lexer": "ipython3",
   "version": "3.7.6"
  }
 },
 "nbformat": 4,
 "nbformat_minor": 4
}
